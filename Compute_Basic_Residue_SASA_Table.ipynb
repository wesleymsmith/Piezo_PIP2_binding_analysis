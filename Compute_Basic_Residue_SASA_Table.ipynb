{
 "cells": [
  {
   "cell_type": "code",
   "execution_count": 1,
   "metadata": {},
   "outputs": [],
   "source": [
    "import pytraj as pt\n",
    "import numpy as np\n",
    "import pandas as pd\n",
    "import tqdm\n",
    "import sys\n",
    "import gc\n",
    "import copy\n",
    "import nglview as nv"
   ]
  },
  {
   "cell_type": "code",
   "execution_count": 6,
   "metadata": {},
   "outputs": [
    {
     "name": "stdout",
     "output_type": "stream",
     "text": [
      "pytraj.Trajectory, 1 frames: \n",
      "Size: 0.000000 (GB)\n",
      "<Topology: 70296 atoms, 4254 residues, 12 mols, PBC with box type = ortho>\n",
      "           \n",
      "pytraj.TrajectoryIterator, 1592 frames: \n",
      "Size: 2.000000 (GB)\n",
      "<Topology: 70296 atoms, 4254 residues, 12 mols, PBC with box type = ortho>\n",
      "           \n"
     ]
    }
   ],
   "source": [
    "strucDir='structures/'\n",
    "viewPDBname='Piezo_PIP2.prot_only.pdb'\n",
    "trajName='Piezo_PIP2.prot_only.dcd'\n",
    "topName='Piezo_PIP2.prot_only.parm7'\n",
    "viewStruc=pt.load(strucDir+'Piezo_PIP2.prot_only.pdb')\n",
    "iterTraj=pt.iterload(strucDir+trajName,\n",
    "                     top=strucDir+topName)\n",
    "\n",
    "print viewStruc\n",
    "print iterTraj"
   ]
  },
  {
   "cell_type": "code",
   "execution_count": 24,
   "metadata": {},
   "outputs": [],
   "source": [
    "color_scheme=[\n",
    "    ['blue','ARG LYS HIS HIP HID HIE HSD'],\n",
    "    ['red','ASP GLU'],\n",
    "    ['green','SER THR ASN GLN'],\n",
    "    ['white','CYS SEC GLY PRO ALA VAL ILE LEU MET PHE TYR TRP']\n",
    "]"
   ]
  },
  {
   "cell_type": "code",
   "execution_count": 68,
   "metadata": {},
   "outputs": [
    {
     "data": {
      "application/vnd.jupyter.widget-view+json": {
       "model_id": "fbc7761a76714510a58d04f6f8b1d50a",
       "version_major": 2,
       "version_minor": 0
      },
      "text/plain": [
       "NGLWidget()"
      ]
     },
     "metadata": {},
     "output_type": "display_data"
    }
   ],
   "source": [
    "view=nv.show_pytraj(viewStruc)\n",
    "view.clear_representations()\n",
    "view.add_representation('cartoon',color='white',alpha=.5)\n",
    "view.add_representation('licorice',\n",
    "                        color='blue',\n",
    "                        selection='HSD LYS ARG')\n",
    "view"
   ]
  },
  {
   "cell_type": "code",
   "execution_count": 80,
   "metadata": {},
   "outputs": [],
   "source": [
    "from pytraj.utils.progress import ProgressBarTrajectory"
   ]
  },
  {
   "cell_type": "code",
   "execution_count": null,
   "metadata": {},
   "outputs": [
    {
     "data": {
      "application/vnd.jupyter.widget-view+json": {
       "model_id": "ccada14a2e9640b6b45a1f2fe92ddbaf",
       "version_major": 2,
       "version_minor": 0
      },
      "text/plain": [
       "HBox(children=(IntProgress(value=0, max=1592), HTML(value=u'')))"
      ]
     },
     "metadata": {},
     "output_type": "display_data"
    }
   ],
   "source": [
    "basicResidueIDs=[res.original_resid for res in \\\n",
    "                 viewStruc.top.residues if res.name in ['HSD','LYS','ARG']]\n",
    "basicResidueSASAtable=pd.DataFrame(np.arange(iterTraj.n_frames),columns=['Frame'])\n",
    "basicResidueSASAtable['System']='Piezo_PIP2'\n",
    "commandList=['surf :%g'%iterTraj.top.residue(resID-1).original_resid \\\n",
    "             for resID in basicResidueIDs]\n",
    "pbar=ProgressBarTrajectory(iterTraj,style='tqdm')\n",
    "SASA_data=pt.compute(commandList,pbar)\n",
    "for ii,resID in tqdm.tqdm_notebook(enumerate(basicResidueIDs)):\n",
    "    basicResidueSASAtable[\n",
    "            '%s_%g'%(iterTraj.top.residue(resID-1).name,resID)\n",
    "        ]=SASA_data[ii]\n",
    "basicResidueSASAtable.to_csv('basicResidueSASA.csv',index=False)\n",
    "basicResidueSASAtable.head()"
   ]
  },
  {
   "cell_type": "code",
   "execution_count": null,
   "metadata": {},
   "outputs": [],
   "source": []
  }
 ],
 "metadata": {
  "kernelspec": {
   "display_name": "Python 2",
   "language": "python",
   "name": "python2"
  },
  "language_info": {
   "codemirror_mode": {
    "name": "ipython",
    "version": 2
   },
   "file_extension": ".py",
   "mimetype": "text/x-python",
   "name": "python",
   "nbconvert_exporter": "python",
   "pygments_lexer": "ipython2",
   "version": "2.7.16"
  }
 },
 "nbformat": 4,
 "nbformat_minor": 2
}
