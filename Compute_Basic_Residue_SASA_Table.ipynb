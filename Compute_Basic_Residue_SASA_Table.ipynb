{
 "cells": [
  {
   "cell_type": "code",
   "execution_count": 38,
   "metadata": {},
   "outputs": [],
   "source": [
    "import pytraj as pt\n",
    "import numpy as np\n",
    "import pandas as pd\n",
    "import tqdm\n",
    "import sys\n",
    "import gc\n",
    "import copy\n",
    "import nglview as nv\n",
    "\n",
    "import ipywidgets as widgets\n",
    "from ipywidgets import interact, interact_manual\n"
   ]
  },
  {
   "cell_type": "code",
   "execution_count": 3,
   "metadata": {},
   "outputs": [
    {
     "name": "stdout",
     "output_type": "stream",
     "text": [
      "pytraj.Trajectory, 1 frames: \n",
      "Size: 0.000000 (GB)\n",
      "<Topology: 70296 atoms, 4254 residues, 12 mols, PBC with box type = ortho>\n",
      "           \n",
      "pytraj.TrajectoryIterator, 1592 frames: \n",
      "Size: 2.000000 (GB)\n",
      "<Topology: 70296 atoms, 4254 residues, 12 mols, PBC with box type = ortho>\n",
      "           \n"
     ]
    }
   ],
   "source": [
    "strucDir='structures/'\n",
    "viewPDBname='Piezo_PIP2.prot_only.pdb'\n",
    "trajName='Piezo_PIP2.prot_only.dcd'\n",
    "topName='Piezo_PIP2.prot_only.parm7'\n",
    "viewStruc=pt.load(strucDir+'Piezo_PIP2.prot_only.pdb')\n",
    "iterTraj=pt.iterload(strucDir+trajName,\n",
    "                     top=strucDir+topName)\n",
    "\n",
    "print viewStruc\n",
    "print iterTraj"
   ]
  },
  {
   "cell_type": "markdown",
   "metadata": {},
   "source": [
    "NGLView can allow us to look at the structure directly within the notebook.\n",
    "\n",
    "Warning: google colab seems to have trouble with this as nglview apparently crashes the kernel"
   ]
  },
  {
   "cell_type": "code",
   "execution_count": 4,
   "metadata": {},
   "outputs": [],
   "source": [
    "color_scheme=[\n",
    "    ['blue','ARG LYS HIS HIP HID HIE HSD'],\n",
    "    ['red','ASP GLU'],\n",
    "    ['green','SER THR ASN GLN'],\n",
    "    ['white','CYS SEC GLY PRO ALA VAL ILE LEU MET PHE TYR TRP']\n",
    "]"
   ]
  },
  {
   "cell_type": "code",
   "execution_count": 68,
   "metadata": {},
   "outputs": [
    {
     "data": {
      "application/vnd.jupyter.widget-view+json": {
       "model_id": "fbc7761a76714510a58d04f6f8b1d50a",
       "version_major": 2,
       "version_minor": 0
      },
      "text/plain": [
       "NGLWidget()"
      ]
     },
     "metadata": {},
     "output_type": "display_data"
    }
   ],
   "source": [
    "view=nv.show_pytraj(viewStruc)\n",
    "view.clear_representations()\n",
    "view.add_representation('cartoon',color='white',alpha=.5)\n",
    "view.add_representation('licorice',\n",
    "                        color='blue',\n",
    "                        selection='HSD LYS ARG')\n",
    "view"
   ]
  },
  {
   "cell_type": "markdown",
   "metadata": {},
   "source": [
    "Lets inspect the residues. A widget proves helpful here since there are many and we \n",
    "will need to be able to look up information about the atoms in each one."
   ]
  },
  {
   "cell_type": "code",
   "execution_count": 50,
   "metadata": {},
   "outputs": [
    {
     "data": {
      "application/vnd.jupyter.widget-view+json": {
       "model_id": "eb76db28af724b78832db8eeaa00fa94",
       "version_major": 2,
       "version_minor": 0
      },
      "text/plain": [
       "aW50ZXJhY3RpdmUoY2hpbGRyZW49KERyb3Bkb3duKGRlc2NyaXB0aW9uPXUnU2VsZWN0ZWRfUmVzaWR1ZScsIG9wdGlvbnM9KHUnQVJHXzAnLCB1J0xFVV8xJywgdSdMRVVfMicsIHUnQVNQXzPigKY=\n"
      ]
     },
     "metadata": {},
     "output_type": "display_data"
    }
   ],
   "source": [
    "@interact\n",
    "def get_residue_atomInfo(Selected_Residue=[\n",
    "    \"%s_%g\"%(iterTraj.top.residue(resID).name,\n",
    "             iterTraj.top.residue(resID).index) \\\n",
    "    for resID in np.arange(iterTraj.top.n_residues)]):\n",
    "    resNum=int(Selected_Residue.split('_')[1])+1\n",
    "    atomDat=np.array(map(lambda x: x.replace('#','').split(),\n",
    "        pt.resinfo(iterTraj.top,'atominfo :%g'%resNum,viewStruc[0],task='atominfo').split('\\n')))\n",
    "    return pd.DataFrame(data=list(atomDat[1:-1]),columns=atomDat[0])"
   ]
  },
  {
   "cell_type": "code",
   "execution_count": 51,
   "metadata": {},
   "outputs": [],
   "source": [
    "from pytraj.utils.progress import ProgressBarTrajectory"
   ]
  },
  {
   "cell_type": "markdown",
   "metadata": {},
   "source": [
    "We now have the information we need to compute SASA data for each cationic residue (HSD, LYS, ARG).\n",
    "\n",
    "We will only include atoms of the cationic regions.\n",
    "\n",
    "This will yield a SASA calculation for each frame. The data table will be quite large.\n",
    "\n",
    "We will process this raw data during the analysis step."
   ]
  },
  {
   "cell_type": "code",
   "execution_count": 52,
   "metadata": {},
   "outputs": [
    {
     "data": {
      "application/vnd.jupyter.widget-view+json": {
       "model_id": "a90d0993a4fe47ac9fa9f0c173ee78ae",
       "version_major": 2,
       "version_minor": 0
      },
      "text/plain": [
       "HBox(children=(IntProgress(value=0, max=1592), HTML(value=u'')))"
      ]
     },
     "metadata": {},
     "output_type": "display_data"
    },
    {
     "name": "stdout",
     "output_type": "stream",
     "text": [
      "\n"
     ]
    }
   ],
   "source": [
    "basicResidueIDs=[res.original_resid for res in \\\n",
    "                 viewStruc.top.residues if res.name in ['HSD','LYS','ARG']]\n",
    "\n",
    "masksDict={\n",
    "    'ARG':'@NE,NH1,NH2,HE,HH11,HH12,HH21,HH22,CZ',\n",
    "    'LYS':'@NZ,HZ1,HZ2,HZ3',\n",
    "    'HSD':'@CG,CE1,CE2,CD2,ND1,NE2,HD1,HD2',\n",
    "}\n",
    "\n",
    "commandList=['surf :%g%s'%(iterTraj.top.residue(resID-1).original_resid,\n",
    "                           masksDict[iterTraj.top.residue(resID-1).name]) \\\n",
    "             for resID in basicResidueIDs]\n",
    "pbar=ProgressBarTrajectory(iterTraj,style='tqdm')\n",
    "SASA_data=pt.compute(commandList,pbar)"
   ]
  },
  {
   "cell_type": "code",
   "execution_count": 54,
   "metadata": {},
   "outputs": [
    {
     "data": {
      "application/vnd.jupyter.widget-view+json": {
       "model_id": "34580e30d46145dfb5142ac27743e0e8",
       "version_major": 2,
       "version_minor": 0
      },
      "text/plain": [
       "HBox(children=(IntProgress(value=1, bar_style=u'info', max=1), HTML(value=u'')))"
      ]
     },
     "metadata": {},
     "output_type": "display_data"
    },
    {
     "name": "stdout",
     "output_type": "stream",
     "text": [
      "\n"
     ]
    },
    {
     "data": {
      "text/html": [
       "<div>\n",
       "<style scoped>\n",
       "    .dataframe tbody tr th:only-of-type {\n",
       "        vertical-align: middle;\n",
       "    }\n",
       "\n",
       "    .dataframe tbody tr th {\n",
       "        vertical-align: top;\n",
       "    }\n",
       "\n",
       "    .dataframe thead th {\n",
       "        text-align: right;\n",
       "    }\n",
       "</style>\n",
       "<table border=\"1\" class=\"dataframe\">\n",
       "  <thead>\n",
       "    <tr style=\"text-align: right;\">\n",
       "      <th></th>\n",
       "      <th>System</th>\n",
       "      <th>Frame</th>\n",
       "      <th>ARG_1</th>\n",
       "      <th>ARG_15</th>\n",
       "      <th>ARG_21</th>\n",
       "      <th>ARG_22</th>\n",
       "      <th>HSD_27</th>\n",
       "      <th>LYS_30</th>\n",
       "      <th>LYS_42</th>\n",
       "      <th>ARG_63</th>\n",
       "      <th>...</th>\n",
       "      <th>HSD_4198</th>\n",
       "      <th>ARG_4210</th>\n",
       "      <th>LYS_4213</th>\n",
       "      <th>ARG_4222</th>\n",
       "      <th>ARG_4225</th>\n",
       "      <th>LYS_4236</th>\n",
       "      <th>ARG_4242</th>\n",
       "      <th>LYS_4249</th>\n",
       "      <th>ARG_4252</th>\n",
       "      <th>ARG_4254</th>\n",
       "    </tr>\n",
       "  </thead>\n",
       "  <tbody>\n",
       "    <tr>\n",
       "      <th>0</th>\n",
       "      <td>Piezo_PIP2</td>\n",
       "      <td>0</td>\n",
       "      <td>87.971682</td>\n",
       "      <td>72.998160</td>\n",
       "      <td>80.786466</td>\n",
       "      <td>31.312725</td>\n",
       "      <td>67.773444</td>\n",
       "      <td>20.623376</td>\n",
       "      <td>55.209823</td>\n",
       "      <td>135.463408</td>\n",
       "      <td>...</td>\n",
       "      <td>43.275383</td>\n",
       "      <td>69.884503</td>\n",
       "      <td>24.943980</td>\n",
       "      <td>4.626739</td>\n",
       "      <td>88.281732</td>\n",
       "      <td>16.574375</td>\n",
       "      <td>15.564438</td>\n",
       "      <td>38.770691</td>\n",
       "      <td>96.299466</td>\n",
       "      <td>130.583524</td>\n",
       "    </tr>\n",
       "    <tr>\n",
       "      <th>1</th>\n",
       "      <td>Piezo_PIP2</td>\n",
       "      <td>1</td>\n",
       "      <td>76.917992</td>\n",
       "      <td>102.304355</td>\n",
       "      <td>79.381224</td>\n",
       "      <td>13.995005</td>\n",
       "      <td>86.148243</td>\n",
       "      <td>33.957993</td>\n",
       "      <td>55.538281</td>\n",
       "      <td>128.435914</td>\n",
       "      <td>...</td>\n",
       "      <td>77.561030</td>\n",
       "      <td>116.671583</td>\n",
       "      <td>39.405101</td>\n",
       "      <td>36.539325</td>\n",
       "      <td>56.898822</td>\n",
       "      <td>23.242080</td>\n",
       "      <td>33.811875</td>\n",
       "      <td>34.774065</td>\n",
       "      <td>88.537691</td>\n",
       "      <td>131.083016</td>\n",
       "    </tr>\n",
       "    <tr>\n",
       "      <th>2</th>\n",
       "      <td>Piezo_PIP2</td>\n",
       "      <td>2</td>\n",
       "      <td>92.678538</td>\n",
       "      <td>90.994392</td>\n",
       "      <td>68.379834</td>\n",
       "      <td>15.453099</td>\n",
       "      <td>90.343862</td>\n",
       "      <td>27.959345</td>\n",
       "      <td>53.981236</td>\n",
       "      <td>125.491502</td>\n",
       "      <td>...</td>\n",
       "      <td>52.222729</td>\n",
       "      <td>108.734830</td>\n",
       "      <td>46.284419</td>\n",
       "      <td>32.924167</td>\n",
       "      <td>102.064085</td>\n",
       "      <td>55.765358</td>\n",
       "      <td>36.739432</td>\n",
       "      <td>49.450528</td>\n",
       "      <td>125.012244</td>\n",
       "      <td>130.259988</td>\n",
       "    </tr>\n",
       "    <tr>\n",
       "      <th>3</th>\n",
       "      <td>Piezo_PIP2</td>\n",
       "      <td>3</td>\n",
       "      <td>88.609785</td>\n",
       "      <td>87.762004</td>\n",
       "      <td>72.502762</td>\n",
       "      <td>1.874848</td>\n",
       "      <td>84.170820</td>\n",
       "      <td>14.094714</td>\n",
       "      <td>57.859521</td>\n",
       "      <td>128.619427</td>\n",
       "      <td>...</td>\n",
       "      <td>57.925787</td>\n",
       "      <td>78.240005</td>\n",
       "      <td>41.645692</td>\n",
       "      <td>24.706268</td>\n",
       "      <td>97.861685</td>\n",
       "      <td>57.142842</td>\n",
       "      <td>24.409060</td>\n",
       "      <td>61.424450</td>\n",
       "      <td>105.862211</td>\n",
       "      <td>120.377420</td>\n",
       "    </tr>\n",
       "    <tr>\n",
       "      <th>4</th>\n",
       "      <td>Piezo_PIP2</td>\n",
       "      <td>4</td>\n",
       "      <td>104.101779</td>\n",
       "      <td>87.028277</td>\n",
       "      <td>98.756076</td>\n",
       "      <td>4.509094</td>\n",
       "      <td>88.035775</td>\n",
       "      <td>19.995091</td>\n",
       "      <td>51.474539</td>\n",
       "      <td>130.784876</td>\n",
       "      <td>...</td>\n",
       "      <td>57.793013</td>\n",
       "      <td>76.847820</td>\n",
       "      <td>39.216604</td>\n",
       "      <td>34.756950</td>\n",
       "      <td>88.014204</td>\n",
       "      <td>64.173321</td>\n",
       "      <td>45.711059</td>\n",
       "      <td>61.534140</td>\n",
       "      <td>101.307814</td>\n",
       "      <td>128.690753</td>\n",
       "    </tr>\n",
       "  </tbody>\n",
       "</table>\n",
       "<p>5 rows × 509 columns</p>\n",
       "</div>"
      ],
      "text/plain": [
       "       System  Frame       ARG_1      ARG_15     ARG_21     ARG_22     HSD_27  \\\n",
       "0  Piezo_PIP2      0   87.971682   72.998160  80.786466  31.312725  67.773444   \n",
       "1  Piezo_PIP2      1   76.917992  102.304355  79.381224  13.995005  86.148243   \n",
       "2  Piezo_PIP2      2   92.678538   90.994392  68.379834  15.453099  90.343862   \n",
       "3  Piezo_PIP2      3   88.609785   87.762004  72.502762   1.874848  84.170820   \n",
       "4  Piezo_PIP2      4  104.101779   87.028277  98.756076   4.509094  88.035775   \n",
       "\n",
       "      LYS_30     LYS_42      ARG_63  ...   HSD_4198    ARG_4210   LYS_4213  \\\n",
       "0  20.623376  55.209823  135.463408  ...  43.275383   69.884503  24.943980   \n",
       "1  33.957993  55.538281  128.435914  ...  77.561030  116.671583  39.405101   \n",
       "2  27.959345  53.981236  125.491502  ...  52.222729  108.734830  46.284419   \n",
       "3  14.094714  57.859521  128.619427  ...  57.925787   78.240005  41.645692   \n",
       "4  19.995091  51.474539  130.784876  ...  57.793013   76.847820  39.216604   \n",
       "\n",
       "    ARG_4222    ARG_4225   LYS_4236   ARG_4242   LYS_4249    ARG_4252  \\\n",
       "0   4.626739   88.281732  16.574375  15.564438  38.770691   96.299466   \n",
       "1  36.539325   56.898822  23.242080  33.811875  34.774065   88.537691   \n",
       "2  32.924167  102.064085  55.765358  36.739432  49.450528  125.012244   \n",
       "3  24.706268   97.861685  57.142842  24.409060  61.424450  105.862211   \n",
       "4  34.756950   88.014204  64.173321  45.711059  61.534140  101.307814   \n",
       "\n",
       "     ARG_4254  \n",
       "0  130.583524  \n",
       "1  131.083016  \n",
       "2  130.259988  \n",
       "3  120.377420  \n",
       "4  128.690753  \n",
       "\n",
       "[5 rows x 509 columns]"
      ]
     },
     "execution_count": 54,
     "metadata": {},
     "output_type": "execute_result"
    }
   ],
   "source": [
    "basicResidueSASAtable=pd.DataFrame(np.arange(iterTraj.n_frames),columns=['Frame'])\n",
    "basicResidueSASAtable['System']='Piezo_PIP2'\n",
    "for ii,resID in tqdm.tqdm_notebook(enumerate(basicResidueIDs)):\n",
    "    entryName='%s_%g'%(iterTraj.top.residue(resID-1).name,resID)\n",
    "    basicResidueSASAtable[entryName]=SASA_data.values()[ii]\n",
    "basicResidueSASAtable=basicResidueSASAtable[np.concatenate([\n",
    "    ['System','Frame'],\n",
    "    basicResidueSASAtable.columns[2:]])]\n",
    "basicResidueSASAtable.to_csv('basicResidueSASA.csv',index=False)\n",
    "basicResidueSASAtable.head()"
   ]
  },
  {
   "cell_type": "code",
   "execution_count": null,
   "metadata": {},
   "outputs": [],
   "source": []
  }
 ],
 "metadata": {
  "kernelspec": {
   "display_name": "Python 2",
   "language": "python",
   "name": "python2"
  },
  "language_info": {
   "codemirror_mode": {
    "name": "ipython",
    "version": 2
   },
   "file_extension": ".py",
   "mimetype": "text/x-python",
   "name": "python",
   "nbconvert_exporter": "python",
   "pygments_lexer": "ipython2",
   "version": "2.7.16"
  }
 },
 "nbformat": 4,
 "nbformat_minor": 2
}
