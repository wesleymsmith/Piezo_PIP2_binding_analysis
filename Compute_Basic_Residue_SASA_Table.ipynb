{
 "cells": [
  {
   "cell_type": "code",
   "execution_count": 1,
   "metadata": {},
   "outputs": [],
   "source": [
    "import pytraj as pt\n",
    "import numpy as np\n",
    "import pandas as pd\n",
    "import tqdm\n",
    "import sys\n",
    "import gc\n",
    "import copy\n",
    "import nglview as nv"
   ]
  },
  {
   "cell_type": "code",
   "execution_count": 6,
   "metadata": {},
   "outputs": [
    {
     "name": "stdout",
     "output_type": "stream",
     "text": [
      "pytraj.Trajectory, 1 frames: \n",
      "Size: 0.000000 (GB)\n",
      "<Topology: 70296 atoms, 4254 residues, 12 mols, PBC with box type = ortho>\n",
      "           \n",
      "pytraj.TrajectoryIterator, 1592 frames: \n",
      "Size: 2.000000 (GB)\n",
      "<Topology: 70296 atoms, 4254 residues, 12 mols, PBC with box type = ortho>\n",
      "           \n"
     ]
    }
   ],
   "source": [
    "strucDir='structures/'\n",
    "viewPDBname='Piezo_PIP2.prot_only.pdb'\n",
    "trajName='Piezo_PIP2.prot_only.dcd'\n",
    "topName='Piezo_PIP2.prot_only.parm7'\n",
    "viewStruc=pt.load(strucDir+'Piezo_PIP2.prot_only.pdb')\n",
    "iterTraj=pt.iterload(strucDir+trajName,\n",
    "                     top=strucDir+topName)\n",
    "\n",
    "print viewStruc\n",
    "print iterTraj"
   ]
  },
  {
   "cell_type": "code",
   "execution_count": 24,
   "metadata": {},
   "outputs": [],
   "source": [
    "color_scheme=[\n",
    "    ['blue','ARG LYS HIS HIP HID HIE HSD'],\n",
    "    ['red','ASP GLU'],\n",
    "    ['green','SER THR ASN GLN'],\n",
    "    ['white','CYS SEC GLY PRO ALA VAL ILE LEU MET PHE TYR TRP']\n",
    "]"
   ]
  },
  {
   "cell_type": "code",
   "execution_count": 68,
   "metadata": {},
   "outputs": [
    {
     "data": {
      "application/vnd.jupyter.widget-view+json": {
       "model_id": "fbc7761a76714510a58d04f6f8b1d50a",
       "version_major": 2,
       "version_minor": 0
      },
      "text/plain": [
       "NGLWidget()"
      ]
     },
     "metadata": {},
     "output_type": "display_data"
    }
   ],
   "source": [
    "view=nv.show_pytraj(viewStruc)\n",
    "view.clear_representations()\n",
    "view.add_representation('cartoon',color='white',alpha=.5)\n",
    "view.add_representation('licorice',\n",
    "                        color='blue',\n",
    "                        selection='HSD LYS ARG')\n",
    "view"
   ]
  },
  {
   "cell_type": "code",
   "execution_count": 80,
   "metadata": {},
   "outputs": [],
   "source": [
    "from pytraj.utils.progress import ProgressBarTrajectory"
   ]
  },
  {
   "cell_type": "code",
   "execution_count": 86,
   "metadata": {},
   "outputs": [
    {
     "data": {
      "application/vnd.jupyter.widget-view+json": {
       "model_id": "ccada14a2e9640b6b45a1f2fe92ddbaf",
       "version_major": 2,
       "version_minor": 0
      },
      "text/plain": [
       "HBox(children=(IntProgress(value=0, max=1592), HTML(value=u'')))"
      ]
     },
     "metadata": {},
     "output_type": "display_data"
    },
    {
     "data": {
      "application/vnd.jupyter.widget-view+json": {
       "model_id": "7aa2f632e29045bba5c75501fa809972",
       "version_major": 2,
       "version_minor": 0
      },
      "text/plain": [
       "HBox(children=(IntProgress(value=1, bar_style=u'info', max=1), HTML(value=u'')))"
      ]
     },
     "metadata": {},
     "output_type": "display_data"
    },
    {
     "ename": "KeyError",
     "evalue": "0",
     "output_type": "error",
     "traceback": [
      "\u001b[0;31m---------------------------------------------------------------------------\u001b[0m",
      "\u001b[0;31mKeyError\u001b[0m                                  Traceback (most recent call last)",
      "\u001b[0;32m<ipython-input-86-0ef8c6645355>\u001b[0m in \u001b[0;36m<module>\u001b[0;34m()\u001b[0m\n\u001b[1;32m      8\u001b[0m     basicResidueSASAtable[\n\u001b[1;32m      9\u001b[0m             \u001b[0;34m'%s_%g'\u001b[0m\u001b[0;34m%\u001b[0m\u001b[0;34m(\u001b[0m\u001b[0miterTraj\u001b[0m\u001b[0;34m.\u001b[0m\u001b[0mtop\u001b[0m\u001b[0;34m.\u001b[0m\u001b[0mresidue\u001b[0m\u001b[0;34m(\u001b[0m\u001b[0mresID\u001b[0m\u001b[0;34m-\u001b[0m\u001b[0;36m1\u001b[0m\u001b[0;34m)\u001b[0m\u001b[0;34m.\u001b[0m\u001b[0mname\u001b[0m\u001b[0;34m,\u001b[0m\u001b[0mresID\u001b[0m\u001b[0;34m)\u001b[0m\u001b[0;34m\u001b[0m\u001b[0m\n\u001b[0;32m---> 10\u001b[0;31m         ]=SASA_data[ii]\n\u001b[0m\u001b[1;32m     11\u001b[0m \u001b[0mbasicResidueSASAtable\u001b[0m\u001b[0;34m.\u001b[0m\u001b[0mto_csv\u001b[0m\u001b[0;34m(\u001b[0m\u001b[0;34m'basicResidueSASA.csv'\u001b[0m\u001b[0;34m,\u001b[0m\u001b[0mindex\u001b[0m\u001b[0;34m=\u001b[0m\u001b[0mFalse\u001b[0m\u001b[0;34m)\u001b[0m\u001b[0;34m\u001b[0m\u001b[0m\n\u001b[1;32m     12\u001b[0m \u001b[0mbasicResidueSASAtable\u001b[0m\u001b[0;34m.\u001b[0m\u001b[0mhead\u001b[0m\u001b[0;34m(\u001b[0m\u001b[0;34m)\u001b[0m\u001b[0;34m\u001b[0m\u001b[0m\n",
      "\u001b[0;31mKeyError\u001b[0m: 0"
     ]
    }
   ],
   "source": [
    "basicResidueIDs=[res.original_resid for res in \\\n",
    "                 viewStruc.top.residues if res.name in ['HSD','LYS','ARG']]\n",
    "\n",
    "commandList=['surf :%g'%iterTraj.top.residue(resID-1).original_resid \\\n",
    "             for resID in basicResidueIDs]\n",
    "pbar=ProgressBarTrajectory(iterTraj,style='tqdm')\n",
    "SASA_data=pt.compute(commandList,pbar)"
   ]
  },
  {
   "cell_type": "code",
   "execution_count": 95,
   "metadata": {},
   "outputs": [
    {
     "data": {
      "application/vnd.jupyter.widget-view+json": {
       "model_id": "304f0369ff244d61827fce333a4628db",
       "version_major": 2,
       "version_minor": 0
      },
      "text/plain": [
       "HBox(children=(IntProgress(value=1, bar_style=u'info', max=1), HTML(value=u'')))"
      ]
     },
     "metadata": {},
     "output_type": "display_data"
    },
    {
     "data": {
      "text/html": [
       "<div>\n",
       "<style scoped>\n",
       "    .dataframe tbody tr th:only-of-type {\n",
       "        vertical-align: middle;\n",
       "    }\n",
       "\n",
       "    .dataframe tbody tr th {\n",
       "        vertical-align: top;\n",
       "    }\n",
       "\n",
       "    .dataframe thead th {\n",
       "        text-align: right;\n",
       "    }\n",
       "</style>\n",
       "<table border=\"1\" class=\"dataframe\">\n",
       "  <thead>\n",
       "    <tr style=\"text-align: right;\">\n",
       "      <th></th>\n",
       "      <th>Frame</th>\n",
       "      <th>System</th>\n",
       "      <th>ARG_1</th>\n",
       "      <th>ARG_15</th>\n",
       "      <th>ARG_21</th>\n",
       "      <th>ARG_22</th>\n",
       "      <th>HSD_27</th>\n",
       "      <th>LYS_30</th>\n",
       "      <th>LYS_42</th>\n",
       "      <th>ARG_63</th>\n",
       "      <th>...</th>\n",
       "      <th>HSD_4198</th>\n",
       "      <th>ARG_4210</th>\n",
       "      <th>LYS_4213</th>\n",
       "      <th>ARG_4222</th>\n",
       "      <th>ARG_4225</th>\n",
       "      <th>LYS_4236</th>\n",
       "      <th>ARG_4242</th>\n",
       "      <th>LYS_4249</th>\n",
       "      <th>ARG_4252</th>\n",
       "      <th>ARG_4254</th>\n",
       "    </tr>\n",
       "  </thead>\n",
       "  <tbody>\n",
       "    <tr>\n",
       "      <th>0</th>\n",
       "      <td>0</td>\n",
       "      <td>Piezo_PIP2</td>\n",
       "      <td>231.301604</td>\n",
       "      <td>135.752731</td>\n",
       "      <td>90.688006</td>\n",
       "      <td>37.036016</td>\n",
       "      <td>81.810311</td>\n",
       "      <td>31.582857</td>\n",
       "      <td>158.942089</td>\n",
       "      <td>227.416121</td>\n",
       "      <td>...</td>\n",
       "      <td>41.210847</td>\n",
       "      <td>155.335757</td>\n",
       "      <td>111.492882</td>\n",
       "      <td>-5.209885</td>\n",
       "      <td>140.601920</td>\n",
       "      <td>84.719489</td>\n",
       "      <td>16.944188</td>\n",
       "      <td>148.135060</td>\n",
       "      <td>128.440404</td>\n",
       "      <td>290.796227</td>\n",
       "    </tr>\n",
       "    <tr>\n",
       "      <th>1</th>\n",
       "      <td>1</td>\n",
       "      <td>Piezo_PIP2</td>\n",
       "      <td>216.110266</td>\n",
       "      <td>174.780170</td>\n",
       "      <td>99.509969</td>\n",
       "      <td>16.703098</td>\n",
       "      <td>103.300599</td>\n",
       "      <td>72.856589</td>\n",
       "      <td>151.898330</td>\n",
       "      <td>210.569550</td>\n",
       "      <td>...</td>\n",
       "      <td>103.847289</td>\n",
       "      <td>162.340189</td>\n",
       "      <td>127.582129</td>\n",
       "      <td>37.842588</td>\n",
       "      <td>111.605389</td>\n",
       "      <td>113.826849</td>\n",
       "      <td>61.839898</td>\n",
       "      <td>158.491856</td>\n",
       "      <td>118.281692</td>\n",
       "      <td>288.793531</td>\n",
       "    </tr>\n",
       "    <tr>\n",
       "      <th>2</th>\n",
       "      <td>2</td>\n",
       "      <td>Piezo_PIP2</td>\n",
       "      <td>231.161291</td>\n",
       "      <td>155.527715</td>\n",
       "      <td>86.489593</td>\n",
       "      <td>9.983953</td>\n",
       "      <td>101.238810</td>\n",
       "      <td>65.590852</td>\n",
       "      <td>151.137150</td>\n",
       "      <td>200.432515</td>\n",
       "      <td>...</td>\n",
       "      <td>71.025217</td>\n",
       "      <td>139.332222</td>\n",
       "      <td>134.159950</td>\n",
       "      <td>26.783289</td>\n",
       "      <td>143.162468</td>\n",
       "      <td>152.197544</td>\n",
       "      <td>34.751632</td>\n",
       "      <td>179.815608</td>\n",
       "      <td>170.713722</td>\n",
       "      <td>316.306727</td>\n",
       "    </tr>\n",
       "    <tr>\n",
       "      <th>3</th>\n",
       "      <td>3</td>\n",
       "      <td>Piezo_PIP2</td>\n",
       "      <td>228.219199</td>\n",
       "      <td>141.413725</td>\n",
       "      <td>90.376183</td>\n",
       "      <td>4.560580</td>\n",
       "      <td>93.988088</td>\n",
       "      <td>28.210977</td>\n",
       "      <td>159.800871</td>\n",
       "      <td>207.038475</td>\n",
       "      <td>...</td>\n",
       "      <td>69.315142</td>\n",
       "      <td>107.660335</td>\n",
       "      <td>132.178808</td>\n",
       "      <td>19.361332</td>\n",
       "      <td>139.279869</td>\n",
       "      <td>145.529297</td>\n",
       "      <td>23.165717</td>\n",
       "      <td>200.181136</td>\n",
       "      <td>146.844401</td>\n",
       "      <td>289.914098</td>\n",
       "    </tr>\n",
       "    <tr>\n",
       "      <th>4</th>\n",
       "      <td>4</td>\n",
       "      <td>Piezo_PIP2</td>\n",
       "      <td>251.849992</td>\n",
       "      <td>146.331118</td>\n",
       "      <td>116.490590</td>\n",
       "      <td>12.492968</td>\n",
       "      <td>92.567033</td>\n",
       "      <td>54.396674</td>\n",
       "      <td>151.232110</td>\n",
       "      <td>217.081149</td>\n",
       "      <td>...</td>\n",
       "      <td>63.079660</td>\n",
       "      <td>107.718457</td>\n",
       "      <td>132.926795</td>\n",
       "      <td>41.318480</td>\n",
       "      <td>127.732068</td>\n",
       "      <td>165.243676</td>\n",
       "      <td>54.304498</td>\n",
       "      <td>192.992331</td>\n",
       "      <td>114.126485</td>\n",
       "      <td>273.409365</td>\n",
       "    </tr>\n",
       "  </tbody>\n",
       "</table>\n",
       "<p>5 rows × 509 columns</p>\n",
       "</div>"
      ],
      "text/plain": [
       "   Frame      System       ARG_1      ARG_15      ARG_21     ARG_22  \\\n",
       "0      0  Piezo_PIP2  231.301604  135.752731   90.688006  37.036016   \n",
       "1      1  Piezo_PIP2  216.110266  174.780170   99.509969  16.703098   \n",
       "2      2  Piezo_PIP2  231.161291  155.527715   86.489593   9.983953   \n",
       "3      3  Piezo_PIP2  228.219199  141.413725   90.376183   4.560580   \n",
       "4      4  Piezo_PIP2  251.849992  146.331118  116.490590  12.492968   \n",
       "\n",
       "       HSD_27     LYS_30      LYS_42      ARG_63  ...    HSD_4198    ARG_4210  \\\n",
       "0   81.810311  31.582857  158.942089  227.416121  ...   41.210847  155.335757   \n",
       "1  103.300599  72.856589  151.898330  210.569550  ...  103.847289  162.340189   \n",
       "2  101.238810  65.590852  151.137150  200.432515  ...   71.025217  139.332222   \n",
       "3   93.988088  28.210977  159.800871  207.038475  ...   69.315142  107.660335   \n",
       "4   92.567033  54.396674  151.232110  217.081149  ...   63.079660  107.718457   \n",
       "\n",
       "     LYS_4213   ARG_4222    ARG_4225    LYS_4236   ARG_4242    LYS_4249  \\\n",
       "0  111.492882  -5.209885  140.601920   84.719489  16.944188  148.135060   \n",
       "1  127.582129  37.842588  111.605389  113.826849  61.839898  158.491856   \n",
       "2  134.159950  26.783289  143.162468  152.197544  34.751632  179.815608   \n",
       "3  132.178808  19.361332  139.279869  145.529297  23.165717  200.181136   \n",
       "4  132.926795  41.318480  127.732068  165.243676  54.304498  192.992331   \n",
       "\n",
       "     ARG_4252    ARG_4254  \n",
       "0  128.440404  290.796227  \n",
       "1  118.281692  288.793531  \n",
       "2  170.713722  316.306727  \n",
       "3  146.844401  289.914098  \n",
       "4  114.126485  273.409365  \n",
       "\n",
       "[5 rows x 509 columns]"
      ]
     },
     "execution_count": 95,
     "metadata": {},
     "output_type": "execute_result"
    }
   ],
   "source": [
    "basicResidueSASAtable=pd.DataFrame(np.arange(iterTraj.n_frames),columns=['Frame'])\n",
    "basicResidueSASAtable['System']='Piezo_PIP2'\n",
    "for ii,resID in tqdm.tqdm_notebook(enumerate(basicResidueIDs)):\n",
    "    entryName='%s_%g'%(iterTraj.top.residue(resID-1).name,resID)\n",
    "    basicResidueSASAtable[entryName]=SASA_data.values()[ii]\n",
    "basicResidueSASAtable=basicResidueSASAtable[np.concatenate([\n",
    "    ['System','Frame'],\n",
    "    basicResidueSASAtable.columns\n",
    "])]\n",
    "basicResidueSASAtable.to_csv('basicResidueSASA.csv',index=False)\n",
    "basicResidueSASAtable.head()"
   ]
  },
  {
   "cell_type": "code",
   "execution_count": null,
   "metadata": {},
   "outputs": [],
   "source": []
  }
 ],
 "metadata": {
  "kernelspec": {
   "display_name": "Python 2",
   "language": "python",
   "name": "python2"
  },
  "language_info": {
   "codemirror_mode": {
    "name": "ipython",
    "version": 2
   },
   "file_extension": ".py",
   "mimetype": "text/x-python",
   "name": "python",
   "nbconvert_exporter": "python",
   "pygments_lexer": "ipython2",
   "version": "2.7.16"
  }
 },
 "nbformat": 4,
 "nbformat_minor": 2
}
