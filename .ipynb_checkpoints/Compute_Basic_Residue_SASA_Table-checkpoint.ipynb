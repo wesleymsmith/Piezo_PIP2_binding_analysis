{
 "cells": [
  {
   "cell_type": "code",
   "execution_count": 38,
   "metadata": {},
   "outputs": [],
   "source": [
    "import pytraj as pt\n",
    "import numpy as np\n",
    "import pandas as pd\n",
    "import tqdm\n",
    "import sys\n",
    "import gc\n",
    "import copy\n",
    "import nglview as nv\n",
    "\n",
    "import ipywidgets as widgets\n",
    "from ipywidgets import interact, interact_manual\n"
   ]
  },
  {
   "cell_type": "code",
   "execution_count": 3,
   "metadata": {},
   "outputs": [
    {
     "name": "stdout",
     "output_type": "stream",
     "text": [
      "pytraj.Trajectory, 1 frames: \n",
      "Size: 0.000000 (GB)\n",
      "<Topology: 70296 atoms, 4254 residues, 12 mols, PBC with box type = ortho>\n",
      "           \n",
      "pytraj.TrajectoryIterator, 1592 frames: \n",
      "Size: 2.000000 (GB)\n",
      "<Topology: 70296 atoms, 4254 residues, 12 mols, PBC with box type = ortho>\n",
      "           \n"
     ]
    }
   ],
   "source": [
    "strucDir='structures/'\n",
    "viewPDBname='Piezo_PIP2.prot_only.pdb'\n",
    "trajName='Piezo_PIP2.prot_only.dcd'\n",
    "topName='Piezo_PIP2.prot_only.parm7'\n",
    "viewStruc=pt.load(strucDir+'Piezo_PIP2.prot_only.pdb')\n",
    "iterTraj=pt.iterload(strucDir+trajName,\n",
    "                     top=strucDir+topName)\n",
    "\n",
    "print viewStruc\n",
    "print iterTraj"
   ]
  },
  {
   "cell_type": "markdown",
   "metadata": {},
   "source": [
    "NGLView can allow us to look at the structure directly within the notebook.\n",
    "\n",
    "Warning: google colab seems to have trouble with this as nglview apparently crashes the kernel"
   ]
  },
  {
   "cell_type": "code",
   "execution_count": 4,
   "metadata": {},
   "outputs": [],
   "source": [
    "color_scheme=[\n",
    "    ['blue','ARG LYS HIS HIP HID HIE HSD'],\n",
    "    ['red','ASP GLU'],\n",
    "    ['green','SER THR ASN GLN'],\n",
    "    ['white','CYS SEC GLY PRO ALA VAL ILE LEU MET PHE TYR TRP']\n",
    "]"
   ]
  },
  {
   "cell_type": "code",
   "execution_count": 68,
   "metadata": {},
   "outputs": [
    {
     "data": {
      "application/vnd.jupyter.widget-view+json": {
       "model_id": "fbc7761a76714510a58d04f6f8b1d50a",
       "version_major": 2,
       "version_minor": 0
      },
      "text/plain": [
       "NGLWidget()"
      ]
     },
     "metadata": {},
     "output_type": "display_data"
    }
   ],
   "source": [
    "view=nv.show_pytraj(viewStruc)\n",
    "view.clear_representations()\n",
    "view.add_representation('cartoon',color='white',alpha=.5)\n",
    "view.add_representation('licorice',\n",
    "                        color='blue',\n",
    "                        selection='HSD LYS ARG')\n",
    "view"
   ]
  },
  {
   "cell_type": "markdown",
   "metadata": {},
   "source": [
    "Lets inspect the residues. A widget proves helpful here since there are many and we \n",
    "will need to be able to look up information about the atoms in each one."
   ]
  },
  {
   "cell_type": "code",
   "execution_count": 50,
   "metadata": {},
   "outputs": [
    {
     "data": {
      "application/vnd.jupyter.widget-view+json": {
       "model_id": "eb76db28af724b78832db8eeaa00fa94",
       "version_major": 2,
       "version_minor": 0
      },
      "text/plain": [
       "aW50ZXJhY3RpdmUoY2hpbGRyZW49KERyb3Bkb3duKGRlc2NyaXB0aW9uPXUnU2VsZWN0ZWRfUmVzaWR1ZScsIG9wdGlvbnM9KHUnQVJHXzAnLCB1J0xFVV8xJywgdSdMRVVfMicsIHUnQVNQXzPigKY=\n"
      ]
     },
     "metadata": {},
     "output_type": "display_data"
    }
   ],
   "source": [
    "@interact\n",
    "def get_residue_atomInfo(Selected_Residue=[\n",
    "    \"%s_%g\"%(iterTraj.top.residue(resID).name,\n",
    "             iterTraj.top.residue(resID).index) \\\n",
    "    for resID in np.arange(iterTraj.top.n_residues)]):\n",
    "    resNum=int(Selected_Residue.split('_')[1])+1\n",
    "    atomDat=np.array(map(lambda x: x.replace('#','').split(),\n",
    "        pt.resinfo(iterTraj.top,'atominfo :%g'%resNum,viewStruc[0],task='atominfo').split('\\n')))\n",
    "    return pd.DataFrame(data=list(atomDat[1:-1]),columns=atomDat[0])"
   ]
  },
  {
   "cell_type": "code",
   "execution_count": 51,
   "metadata": {},
   "outputs": [],
   "source": [
    "from pytraj.utils.progress import ProgressBarTrajectory"
   ]
  },
  {
   "cell_type": "markdown",
   "metadata": {},
   "source": [
    "We now have the information we need to compute SASA data for each cationic residue (HSD, LYS, ARG).\n",
    "\n",
    "We will only include atoms of the cationic regions.\n",
    "\n",
    "This will yield a SASA calculation for each frame. The data table will be quite large.\n",
    "\n",
    "We will process this raw data during the analysis step."
   ]
  },
  {
   "cell_type": "code",
   "execution_count": 58,
   "metadata": {},
   "outputs": [
    {
     "data": {
      "application/vnd.jupyter.widget-view+json": {
       "model_id": "6a27df69f5164301aa62cd966ed77fa1",
       "version_major": 2,
       "version_minor": 0
      },
      "text/plain": [
       "HBox(children=(IntProgress(value=0, max=1592), HTML(value=u'')))"
      ]
     },
     "metadata": {},
     "output_type": "display_data"
    },
    {
     "name": "stdout",
     "output_type": "stream",
     "text": [
      "\n"
     ]
    }
   ],
   "source": [
    "basicResidueIDs=[res.original_resid for res in \\\n",
    "                 viewStruc.top.residues if res.name in ['HSD','LYS','ARG']]\n",
    "\n",
    "masksDict={\n",
    "    'ARG':'@NE,NH1,NH2,HE,HH11,HH12,HH21,HH22,CZ',\n",
    "    'LYS':'@NZ,HZ1,HZ2,HZ3',\n",
    "    'HSD':'@CG,CE1,CE2,CD2,ND1,NE2,HD1,HD2',\n",
    "}\n",
    "probeOffset=2.15\n",
    "commandList=['surf :%g%s offset %.2f'%(\n",
    "    iterTraj.top.residue(resID-1).original_resid,\n",
    "    masksDict[iterTraj.top.residue(resID-1).name],\n",
    "    probeOffset) for resID in basicResidueIDs]\n",
    "pbar=ProgressBarTrajectory(iterTraj,style='tqdm')\n",
    "SASA_data=pt.compute(commandList,pbar)"
   ]
  },
  {
   "cell_type": "code",
   "execution_count": 59,
   "metadata": {},
   "outputs": [
    {
     "data": {
      "application/vnd.jupyter.widget-view+json": {
       "model_id": "96cf6354fdcd427da8c3bd5edddc1dd7",
       "version_major": 2,
       "version_minor": 0
      },
      "text/plain": [
       "HBox(children=(IntProgress(value=1, bar_style=u'info', max=1), HTML(value=u'')))"
      ]
     },
     "metadata": {},
     "output_type": "display_data"
    },
    {
     "name": "stdout",
     "output_type": "stream",
     "text": [
      "\n"
     ]
    },
    {
     "data": {
      "text/html": [
       "<div>\n",
       "<style scoped>\n",
       "    .dataframe tbody tr th:only-of-type {\n",
       "        vertical-align: middle;\n",
       "    }\n",
       "\n",
       "    .dataframe tbody tr th {\n",
       "        vertical-align: top;\n",
       "    }\n",
       "\n",
       "    .dataframe thead th {\n",
       "        text-align: right;\n",
       "    }\n",
       "</style>\n",
       "<table border=\"1\" class=\"dataframe\">\n",
       "  <thead>\n",
       "    <tr style=\"text-align: right;\">\n",
       "      <th></th>\n",
       "      <th>System</th>\n",
       "      <th>Frame</th>\n",
       "      <th>ARG_1</th>\n",
       "      <th>ARG_15</th>\n",
       "      <th>ARG_21</th>\n",
       "      <th>ARG_22</th>\n",
       "      <th>HSD_27</th>\n",
       "      <th>LYS_30</th>\n",
       "      <th>LYS_42</th>\n",
       "      <th>ARG_63</th>\n",
       "      <th>...</th>\n",
       "      <th>HSD_4198</th>\n",
       "      <th>ARG_4210</th>\n",
       "      <th>LYS_4213</th>\n",
       "      <th>ARG_4222</th>\n",
       "      <th>ARG_4225</th>\n",
       "      <th>LYS_4236</th>\n",
       "      <th>ARG_4242</th>\n",
       "      <th>LYS_4249</th>\n",
       "      <th>ARG_4252</th>\n",
       "      <th>ARG_4254</th>\n",
       "    </tr>\n",
       "  </thead>\n",
       "  <tbody>\n",
       "    <tr>\n",
       "      <th>0</th>\n",
       "      <td>Piezo_PIP2</td>\n",
       "      <td>0</td>\n",
       "      <td>287.440560</td>\n",
       "      <td>274.898960</td>\n",
       "      <td>324.281827</td>\n",
       "      <td>540.105388</td>\n",
       "      <td>382.686118</td>\n",
       "      <td>172.673159</td>\n",
       "      <td>102.452724</td>\n",
       "      <td>221.306778</td>\n",
       "      <td>...</td>\n",
       "      <td>494.523318</td>\n",
       "      <td>278.618895</td>\n",
       "      <td>116.343258</td>\n",
       "      <td>629.556884</td>\n",
       "      <td>299.282841</td>\n",
       "      <td>140.083915</td>\n",
       "      <td>646.955674</td>\n",
       "      <td>103.634013</td>\n",
       "      <td>282.838529</td>\n",
       "      <td>205.066848</td>\n",
       "    </tr>\n",
       "    <tr>\n",
       "      <th>1</th>\n",
       "      <td>Piezo_PIP2</td>\n",
       "      <td>1</td>\n",
       "      <td>334.816766</td>\n",
       "      <td>183.629963</td>\n",
       "      <td>283.576915</td>\n",
       "      <td>578.829623</td>\n",
       "      <td>384.278017</td>\n",
       "      <td>103.769143</td>\n",
       "      <td>109.288093</td>\n",
       "      <td>243.110699</td>\n",
       "      <td>...</td>\n",
       "      <td>355.490064</td>\n",
       "      <td>257.677793</td>\n",
       "      <td>98.921705</td>\n",
       "      <td>453.885378</td>\n",
       "      <td>416.310184</td>\n",
       "      <td>131.922552</td>\n",
       "      <td>462.089912</td>\n",
       "      <td>95.179939</td>\n",
       "      <td>242.496894</td>\n",
       "      <td>223.123915</td>\n",
       "    </tr>\n",
       "    <tr>\n",
       "      <th>2</th>\n",
       "      <td>Piezo_PIP2</td>\n",
       "      <td>2</td>\n",
       "      <td>275.073755</td>\n",
       "      <td>202.255450</td>\n",
       "      <td>342.219028</td>\n",
       "      <td>560.460974</td>\n",
       "      <td>336.459908</td>\n",
       "      <td>111.187833</td>\n",
       "      <td>102.056689</td>\n",
       "      <td>240.717753</td>\n",
       "      <td>...</td>\n",
       "      <td>403.091530</td>\n",
       "      <td>300.392173</td>\n",
       "      <td>85.993276</td>\n",
       "      <td>465.202440</td>\n",
       "      <td>257.272547</td>\n",
       "      <td>72.081927</td>\n",
       "      <td>535.732493</td>\n",
       "      <td>82.812868</td>\n",
       "      <td>218.384865</td>\n",
       "      <td>218.979063</td>\n",
       "    </tr>\n",
       "    <tr>\n",
       "      <th>3</th>\n",
       "      <td>Piezo_PIP2</td>\n",
       "      <td>3</td>\n",
       "      <td>290.577028</td>\n",
       "      <td>193.342330</td>\n",
       "      <td>351.953645</td>\n",
       "      <td>680.849566</td>\n",
       "      <td>356.348260</td>\n",
       "      <td>126.432774</td>\n",
       "      <td>103.091409</td>\n",
       "      <td>239.646221</td>\n",
       "      <td>...</td>\n",
       "      <td>418.481454</td>\n",
       "      <td>332.128525</td>\n",
       "      <td>96.114586</td>\n",
       "      <td>567.150851</td>\n",
       "      <td>259.985159</td>\n",
       "      <td>88.943817</td>\n",
       "      <td>501.348161</td>\n",
       "      <td>95.815112</td>\n",
       "      <td>247.253744</td>\n",
       "      <td>220.677821</td>\n",
       "    </tr>\n",
       "    <tr>\n",
       "      <th>4</th>\n",
       "      <td>Piezo_PIP2</td>\n",
       "      <td>4</td>\n",
       "      <td>233.699040</td>\n",
       "      <td>203.015984</td>\n",
       "      <td>240.717316</td>\n",
       "      <td>603.387966</td>\n",
       "      <td>328.979551</td>\n",
       "      <td>127.112652</td>\n",
       "      <td>111.054757</td>\n",
       "      <td>232.711257</td>\n",
       "      <td>...</td>\n",
       "      <td>410.296426</td>\n",
       "      <td>309.629827</td>\n",
       "      <td>104.504957</td>\n",
       "      <td>468.422037</td>\n",
       "      <td>291.298963</td>\n",
       "      <td>93.244969</td>\n",
       "      <td>460.571667</td>\n",
       "      <td>93.286728</td>\n",
       "      <td>271.298287</td>\n",
       "      <td>222.949990</td>\n",
       "    </tr>\n",
       "  </tbody>\n",
       "</table>\n",
       "<p>5 rows × 509 columns</p>\n",
       "</div>"
      ],
      "text/plain": [
       "       System  Frame       ARG_1      ARG_15      ARG_21      ARG_22  \\\n",
       "0  Piezo_PIP2      0  287.440560  274.898960  324.281827  540.105388   \n",
       "1  Piezo_PIP2      1  334.816766  183.629963  283.576915  578.829623   \n",
       "2  Piezo_PIP2      2  275.073755  202.255450  342.219028  560.460974   \n",
       "3  Piezo_PIP2      3  290.577028  193.342330  351.953645  680.849566   \n",
       "4  Piezo_PIP2      4  233.699040  203.015984  240.717316  603.387966   \n",
       "\n",
       "       HSD_27      LYS_30      LYS_42      ARG_63  ...    HSD_4198  \\\n",
       "0  382.686118  172.673159  102.452724  221.306778  ...  494.523318   \n",
       "1  384.278017  103.769143  109.288093  243.110699  ...  355.490064   \n",
       "2  336.459908  111.187833  102.056689  240.717753  ...  403.091530   \n",
       "3  356.348260  126.432774  103.091409  239.646221  ...  418.481454   \n",
       "4  328.979551  127.112652  111.054757  232.711257  ...  410.296426   \n",
       "\n",
       "     ARG_4210    LYS_4213    ARG_4222    ARG_4225    LYS_4236    ARG_4242  \\\n",
       "0  278.618895  116.343258  629.556884  299.282841  140.083915  646.955674   \n",
       "1  257.677793   98.921705  453.885378  416.310184  131.922552  462.089912   \n",
       "2  300.392173   85.993276  465.202440  257.272547   72.081927  535.732493   \n",
       "3  332.128525   96.114586  567.150851  259.985159   88.943817  501.348161   \n",
       "4  309.629827  104.504957  468.422037  291.298963   93.244969  460.571667   \n",
       "\n",
       "     LYS_4249    ARG_4252    ARG_4254  \n",
       "0  103.634013  282.838529  205.066848  \n",
       "1   95.179939  242.496894  223.123915  \n",
       "2   82.812868  218.384865  218.979063  \n",
       "3   95.815112  247.253744  220.677821  \n",
       "4   93.286728  271.298287  222.949990  \n",
       "\n",
       "[5 rows x 509 columns]"
      ]
     },
     "execution_count": 59,
     "metadata": {},
     "output_type": "execute_result"
    }
   ],
   "source": [
    "basicResidueSASAtable=pd.DataFrame(np.arange(iterTraj.n_frames),columns=['Frame'])\n",
    "basicResidueSASAtable['System']='Piezo_PIP2'\n",
    "for ii,resID in tqdm.tqdm_notebook(enumerate(basicResidueIDs)):\n",
    "    entryName='%s_%g'%(iterTraj.top.residue(resID-1).name,resID)\n",
    "    basicResidueSASAtable[entryName]=SASA_data.values()[ii]\n",
    "basicResidueSASAtable=basicResidueSASAtable[np.concatenate([\n",
    "    ['System','Frame'],\n",
    "    basicResidueSASAtable.columns[2:]])]\n",
    "basicResidueSASAtable.to_csv('basicResidueSASA.csv',index=False)\n",
    "basicResidueSASAtable.head()"
   ]
  },
  {
   "cell_type": "code",
   "execution_count": null,
   "metadata": {},
   "outputs": [],
   "source": []
  }
 ],
 "metadata": {
  "kernelspec": {
   "display_name": "Python 2",
   "language": "python",
   "name": "python2"
  },
  "language_info": {
   "codemirror_mode": {
    "name": "ipython",
    "version": 2
   },
   "file_extension": ".py",
   "mimetype": "text/x-python",
   "name": "python",
   "nbconvert_exporter": "python",
   "pygments_lexer": "ipython2",
   "version": "2.7.16"
  }
 },
 "nbformat": 4,
 "nbformat_minor": 2
}
