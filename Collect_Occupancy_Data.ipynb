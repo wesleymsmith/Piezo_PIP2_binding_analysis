{
  "nbformat": 4,
  "nbformat_minor": 0,
  "metadata": {
    "kernelspec": {
      "display_name": "Python 2",
      "language": "python",
      "name": "python2"
    },
    "language_info": {
      "codemirror_mode": {
        "name": "ipython",
        "version": 2
      },
      "file_extension": ".py",
      "mimetype": "text/x-python",
      "name": "python",
      "nbconvert_exporter": "python",
      "pygments_lexer": "ipython2",
      "version": "2.7.15"
    },
    "colab": {
      "name": "Collect_Occupancy_Data.ipynb",
      "provenance": []
    },
    "widgets": {
      "application/vnd.jupyter.widget-state+json": {
        "0f3b0aa01406470a945eeab37ea18992": {
          "model_module": "@jupyter-widgets/controls",
          "model_name": "HBoxModel",
          "state": {
            "_view_name": "HBoxView",
            "_dom_classes": [],
            "_model_name": "HBoxModel",
            "_view_module": "@jupyter-widgets/controls",
            "_model_module_version": "1.5.0",
            "_view_count": null,
            "_view_module_version": "1.5.0",
            "box_style": "",
            "layout": "IPY_MODEL_eb4424276b7244a1871d8cb3d3b18362",
            "_model_module": "@jupyter-widgets/controls",
            "children": [
              "IPY_MODEL_087280a5cff24388b5040adc706f77b7",
              "IPY_MODEL_ad3519909aee471fa5c7ecedfc324d67"
            ]
          }
        },
        "eb4424276b7244a1871d8cb3d3b18362": {
          "model_module": "@jupyter-widgets/base",
          "model_name": "LayoutModel",
          "state": {
            "_view_name": "LayoutView",
            "grid_template_rows": null,
            "right": null,
            "justify_content": null,
            "_view_module": "@jupyter-widgets/base",
            "_model_module_version": "1.2.0",
            "_view_count": null,
            "flex_flow": null,
            "min_width": null,
            "border": null,
            "align_items": null,
            "bottom": null,
            "_model_module": "@jupyter-widgets/base",
            "top": null,
            "grid_column": null,
            "width": null,
            "overflow_x": null,
            "grid_auto_flow": null,
            "grid_area": null,
            "grid_template_columns": null,
            "flex": null,
            "_model_name": "LayoutModel",
            "justify_items": null,
            "grid_row": null,
            "max_height": null,
            "align_content": null,
            "visibility": null,
            "overflow": null,
            "height": null,
            "min_height": null,
            "padding": null,
            "grid_auto_rows": null,
            "grid_gap": null,
            "overflow_y": null,
            "max_width": null,
            "order": null,
            "_view_module_version": "1.2.0",
            "align_self": null,
            "grid_template_areas": null,
            "object_position": null,
            "object_fit": null,
            "grid_auto_columns": null,
            "margin": null,
            "display": null,
            "left": null
          }
        },
        "087280a5cff24388b5040adc706f77b7": {
          "model_module": "@jupyter-widgets/controls",
          "model_name": "IntProgressModel",
          "state": {
            "_view_name": "ProgressView",
            "style": "IPY_MODEL_671f74ad74d84c219f56b05275d8f71f",
            "_view_module": "@jupyter-widgets/controls",
            "_dom_classes": [],
            "orientation": "horizontal",
            "min": 0,
            "bar_style": "success",
            "max": 429,
            "_model_name": "IntProgressModel",
            "_model_module_version": "1.5.0",
            "value": 429,
            "_view_count": null,
            "_view_module_version": "1.5.0",
            "description_tooltip": null,
            "_model_module": "@jupyter-widgets/controls",
            "layout": "IPY_MODEL_59eec8ffcb444b84a75cae9677e70647",
            "description": ""
          }
        },
        "ad3519909aee471fa5c7ecedfc324d67": {
          "model_module": "@jupyter-widgets/controls",
          "model_name": "HTMLModel",
          "state": {
            "_view_name": "HTMLView",
            "style": "IPY_MODEL_77ba71010ada471992e2da4479b9a619",
            "_dom_classes": [],
            "description": "",
            "_model_name": "HTMLModel",
            "placeholder": "​",
            "_view_module": "@jupyter-widgets/controls",
            "_model_module_version": "1.5.0",
            "value": "100% 429/429 [00:04&lt;00:00, 88.90it/s]",
            "_view_count": null,
            "_view_module_version": "1.5.0",
            "description_tooltip": null,
            "_model_module": "@jupyter-widgets/controls",
            "layout": "IPY_MODEL_1e3e04579b9040ea915d9a3eb84358f7"
          }
        },
        "671f74ad74d84c219f56b05275d8f71f": {
          "model_module": "@jupyter-widgets/controls",
          "model_name": "ProgressStyleModel",
          "state": {
            "_view_name": "StyleView",
            "_model_name": "ProgressStyleModel",
            "description_width": "",
            "_view_module": "@jupyter-widgets/base",
            "_model_module_version": "1.5.0",
            "_view_count": null,
            "_view_module_version": "1.2.0",
            "bar_color": null,
            "_model_module": "@jupyter-widgets/controls"
          }
        },
        "59eec8ffcb444b84a75cae9677e70647": {
          "model_module": "@jupyter-widgets/base",
          "model_name": "LayoutModel",
          "state": {
            "_view_name": "LayoutView",
            "grid_template_rows": null,
            "right": null,
            "justify_content": null,
            "_view_module": "@jupyter-widgets/base",
            "_model_module_version": "1.2.0",
            "_view_count": null,
            "flex_flow": null,
            "min_width": null,
            "border": null,
            "align_items": null,
            "bottom": null,
            "_model_module": "@jupyter-widgets/base",
            "top": null,
            "grid_column": null,
            "width": null,
            "overflow_x": null,
            "grid_auto_flow": null,
            "grid_area": null,
            "grid_template_columns": null,
            "flex": null,
            "_model_name": "LayoutModel",
            "justify_items": null,
            "grid_row": null,
            "max_height": null,
            "align_content": null,
            "visibility": null,
            "overflow": null,
            "height": null,
            "min_height": null,
            "padding": null,
            "grid_auto_rows": null,
            "grid_gap": null,
            "overflow_y": null,
            "max_width": null,
            "order": null,
            "_view_module_version": "1.2.0",
            "align_self": null,
            "grid_template_areas": null,
            "object_position": null,
            "object_fit": null,
            "grid_auto_columns": null,
            "margin": null,
            "display": null,
            "left": null
          }
        },
        "77ba71010ada471992e2da4479b9a619": {
          "model_module": "@jupyter-widgets/controls",
          "model_name": "DescriptionStyleModel",
          "state": {
            "_view_name": "StyleView",
            "_model_name": "DescriptionStyleModel",
            "description_width": "",
            "_view_module": "@jupyter-widgets/base",
            "_model_module_version": "1.5.0",
            "_view_count": null,
            "_view_module_version": "1.2.0",
            "_model_module": "@jupyter-widgets/controls"
          }
        },
        "1e3e04579b9040ea915d9a3eb84358f7": {
          "model_module": "@jupyter-widgets/base",
          "model_name": "LayoutModel",
          "state": {
            "_view_name": "LayoutView",
            "grid_template_rows": null,
            "right": null,
            "justify_content": null,
            "_view_module": "@jupyter-widgets/base",
            "_model_module_version": "1.2.0",
            "_view_count": null,
            "flex_flow": null,
            "min_width": null,
            "border": null,
            "align_items": null,
            "bottom": null,
            "_model_module": "@jupyter-widgets/base",
            "top": null,
            "grid_column": null,
            "width": null,
            "overflow_x": null,
            "grid_auto_flow": null,
            "grid_area": null,
            "grid_template_columns": null,
            "flex": null,
            "_model_name": "LayoutModel",
            "justify_items": null,
            "grid_row": null,
            "max_height": null,
            "align_content": null,
            "visibility": null,
            "overflow": null,
            "height": null,
            "min_height": null,
            "padding": null,
            "grid_auto_rows": null,
            "grid_gap": null,
            "overflow_y": null,
            "max_width": null,
            "order": null,
            "_view_module_version": "1.2.0",
            "align_self": null,
            "grid_template_areas": null,
            "object_position": null,
            "object_fit": null,
            "grid_auto_columns": null,
            "margin": null,
            "display": null,
            "left": null
          }
        },
        "5bb86e4c7cba4321878771be730fc62e": {
          "model_module": "@jupyter-widgets/controls",
          "model_name": "HBoxModel",
          "state": {
            "_view_name": "HBoxView",
            "_dom_classes": [],
            "_model_name": "HBoxModel",
            "_view_module": "@jupyter-widgets/controls",
            "_model_module_version": "1.5.0",
            "_view_count": null,
            "_view_module_version": "1.5.0",
            "box_style": "",
            "layout": "IPY_MODEL_47c1056ed1bf43a1899e5bce0ccd09d6",
            "_model_module": "@jupyter-widgets/controls",
            "children": [
              "IPY_MODEL_b1f8ef4c761e4db6b7c9ae12dca76253",
              "IPY_MODEL_ba4846e617ec4757bc47c99dea6b1245"
            ]
          }
        },
        "47c1056ed1bf43a1899e5bce0ccd09d6": {
          "model_module": "@jupyter-widgets/base",
          "model_name": "LayoutModel",
          "state": {
            "_view_name": "LayoutView",
            "grid_template_rows": null,
            "right": null,
            "justify_content": null,
            "_view_module": "@jupyter-widgets/base",
            "_model_module_version": "1.2.0",
            "_view_count": null,
            "flex_flow": null,
            "min_width": null,
            "border": null,
            "align_items": null,
            "bottom": null,
            "_model_module": "@jupyter-widgets/base",
            "top": null,
            "grid_column": null,
            "width": null,
            "overflow_x": null,
            "grid_auto_flow": null,
            "grid_area": null,
            "grid_template_columns": null,
            "flex": null,
            "_model_name": "LayoutModel",
            "justify_items": null,
            "grid_row": null,
            "max_height": null,
            "align_content": null,
            "visibility": null,
            "overflow": null,
            "height": null,
            "min_height": null,
            "padding": null,
            "grid_auto_rows": null,
            "grid_gap": null,
            "overflow_y": null,
            "max_width": null,
            "order": null,
            "_view_module_version": "1.2.0",
            "align_self": null,
            "grid_template_areas": null,
            "object_position": null,
            "object_fit": null,
            "grid_auto_columns": null,
            "margin": null,
            "display": null,
            "left": null
          }
        },
        "b1f8ef4c761e4db6b7c9ae12dca76253": {
          "model_module": "@jupyter-widgets/controls",
          "model_name": "IntProgressModel",
          "state": {
            "_view_name": "ProgressView",
            "style": "IPY_MODEL_87c8fdf8db5b4e1ba2805797960cfcf4",
            "_view_module": "@jupyter-widgets/controls",
            "_dom_classes": [],
            "orientation": "horizontal",
            "min": 0,
            "bar_style": "success",
            "max": 1,
            "_model_name": "IntProgressModel",
            "_model_module_version": "1.5.0",
            "value": 1,
            "_view_count": null,
            "_view_module_version": "1.5.0",
            "description_tooltip": null,
            "_model_module": "@jupyter-widgets/controls",
            "layout": "IPY_MODEL_70528a8992824cae89aa05cd14b46b99",
            "description": ""
          }
        },
        "ba4846e617ec4757bc47c99dea6b1245": {
          "model_module": "@jupyter-widgets/controls",
          "model_name": "HTMLModel",
          "state": {
            "_view_name": "HTMLView",
            "style": "IPY_MODEL_9786dd0a260444c4b80710972aa7f550",
            "_dom_classes": [],
            "description": "",
            "_model_name": "HTMLModel",
            "placeholder": "​",
            "_view_module": "@jupyter-widgets/controls",
            "_model_module_version": "1.5.0",
            "value": "52it [00:02, 23.36it/s]",
            "_view_count": null,
            "_view_module_version": "1.5.0",
            "description_tooltip": null,
            "_model_module": "@jupyter-widgets/controls",
            "layout": "IPY_MODEL_f9857529e89947cd933d416977c9af93"
          }
        },
        "87c8fdf8db5b4e1ba2805797960cfcf4": {
          "model_module": "@jupyter-widgets/controls",
          "model_name": "ProgressStyleModel",
          "state": {
            "_view_name": "StyleView",
            "_model_name": "ProgressStyleModel",
            "description_width": "",
            "_view_module": "@jupyter-widgets/base",
            "_model_module_version": "1.5.0",
            "_view_count": null,
            "_view_module_version": "1.2.0",
            "bar_color": null,
            "_model_module": "@jupyter-widgets/controls"
          }
        },
        "70528a8992824cae89aa05cd14b46b99": {
          "model_module": "@jupyter-widgets/base",
          "model_name": "LayoutModel",
          "state": {
            "_view_name": "LayoutView",
            "grid_template_rows": null,
            "right": null,
            "justify_content": null,
            "_view_module": "@jupyter-widgets/base",
            "_model_module_version": "1.2.0",
            "_view_count": null,
            "flex_flow": null,
            "min_width": null,
            "border": null,
            "align_items": null,
            "bottom": null,
            "_model_module": "@jupyter-widgets/base",
            "top": null,
            "grid_column": null,
            "width": null,
            "overflow_x": null,
            "grid_auto_flow": null,
            "grid_area": null,
            "grid_template_columns": null,
            "flex": null,
            "_model_name": "LayoutModel",
            "justify_items": null,
            "grid_row": null,
            "max_height": null,
            "align_content": null,
            "visibility": null,
            "overflow": null,
            "height": null,
            "min_height": null,
            "padding": null,
            "grid_auto_rows": null,
            "grid_gap": null,
            "overflow_y": null,
            "max_width": null,
            "order": null,
            "_view_module_version": "1.2.0",
            "align_self": null,
            "grid_template_areas": null,
            "object_position": null,
            "object_fit": null,
            "grid_auto_columns": null,
            "margin": null,
            "display": null,
            "left": null
          }
        },
        "9786dd0a260444c4b80710972aa7f550": {
          "model_module": "@jupyter-widgets/controls",
          "model_name": "DescriptionStyleModel",
          "state": {
            "_view_name": "StyleView",
            "_model_name": "DescriptionStyleModel",
            "description_width": "",
            "_view_module": "@jupyter-widgets/base",
            "_model_module_version": "1.5.0",
            "_view_count": null,
            "_view_module_version": "1.2.0",
            "_model_module": "@jupyter-widgets/controls"
          }
        },
        "f9857529e89947cd933d416977c9af93": {
          "model_module": "@jupyter-widgets/base",
          "model_name": "LayoutModel",
          "state": {
            "_view_name": "LayoutView",
            "grid_template_rows": null,
            "right": null,
            "justify_content": null,
            "_view_module": "@jupyter-widgets/base",
            "_model_module_version": "1.2.0",
            "_view_count": null,
            "flex_flow": null,
            "min_width": null,
            "border": null,
            "align_items": null,
            "bottom": null,
            "_model_module": "@jupyter-widgets/base",
            "top": null,
            "grid_column": null,
            "width": null,
            "overflow_x": null,
            "grid_auto_flow": null,
            "grid_area": null,
            "grid_template_columns": null,
            "flex": null,
            "_model_name": "LayoutModel",
            "justify_items": null,
            "grid_row": null,
            "max_height": null,
            "align_content": null,
            "visibility": null,
            "overflow": null,
            "height": null,
            "min_height": null,
            "padding": null,
            "grid_auto_rows": null,
            "grid_gap": null,
            "overflow_y": null,
            "max_width": null,
            "order": null,
            "_view_module_version": "1.2.0",
            "align_self": null,
            "grid_template_areas": null,
            "object_position": null,
            "object_fit": null,
            "grid_auto_columns": null,
            "margin": null,
            "display": null,
            "left": null
          }
        }
      }
    }
  },
  "cells": [
    {
      "cell_type": "code",
      "metadata": {
        "id": "Yl-KtpetYC5i",
        "colab_type": "code",
        "colab": {}
      },
      "source": [
        "import numpy as np\n",
        "import pandas as pd\n",
        "import matplotlib\n",
        "from matplotlib import pyplot as plt\n",
        "import scipy as sp\n",
        "from scipy import stats\n",
        "\n",
        "import ipywidgets as widgets\n",
        "from ipywidgets import interact, interact_manual\n",
        "\n",
        "import os\n",
        "import sys\n",
        "import gc\n",
        "import copy\n",
        "import glob\n",
        "\n",
        "import tqdm\n",
        "import itertools\n",
        "\n",
        "import subprocess"
      ],
      "execution_count": 0,
      "outputs": []
    },
    {
      "cell_type": "code",
      "metadata": {
        "id": "AmpG6fCkYC5l",
        "colab_type": "code",
        "colab": {
          "base_uri": "https://localhost:8080/",
          "height": 153
        },
        "outputId": "2c214ebf-8863-407a-b3ca-cc0cd81e80f3"
      },
      "source": [
        "#baseDir='./'\n",
        "!rm -r sample_data\n",
        "#If you are viewing this in google colab, you will need to clone the repository first.\n",
        "#To do so uncomment the two code cells below\n",
        "!git clone https://github.com/wesleymsmith/Piezo_PIP2_binding_analysis.git\n",
        "baseDir='Piezo_PIP2_binding_analysis/'"
      ],
      "execution_count": 3,
      "outputs": [
        {
          "output_type": "stream",
          "text": [
            "Cloning into 'Piezo_PIP2_binding_analysis'...\n",
            "remote: Enumerating objects: 1537, done.\u001b[K\n",
            "remote: Counting objects: 100% (1537/1537), done.\u001b[K\n",
            "remote: Compressing objects: 100% (263/263), done.\u001b[K\n",
            "remote: Total 5096 (delta 1254), reused 1520 (delta 1241), pack-reused 3559\u001b[K\n",
            "Receiving objects: 100% (5096/5096), 172.91 MiB | 21.51 MiB/s, done.\n",
            "Resolving deltas: 100% (3986/3986), done.\n",
            "Checking out files: 100% (6646/6646), done.\n"
          ],
          "name": "stdout"
        }
      ]
    },
    {
      "cell_type": "markdown",
      "metadata": {
        "id": "_sV5wuAceIYK",
        "colab_type": "text"
      },
      "source": [
        "# **1. Get a list of ResID and SeqID**"
      ]
    },
    {
      "cell_type": "code",
      "metadata": {
        "id": "evE70Yv3YC5r",
        "colab_type": "code",
        "colab": {}
      },
      "source": [
        "xcelData=pd.read_excel(baseDir+'Residue_ID_total_occupancy_10_1_2019.xlsx',\n",
        "              sheet_name=None)\n",
        "@interact\n",
        "def show_data(sheet_name=xcelData.keys()):\n",
        "    return xcelData[sheet_name]\n",
        "#the above tables are\n",
        "#aa - result summary for all atom simulation\n",
        "#cg - result summary for coarse grain simulation\n",
        "#tension_30ns - results of all atom simulation with membrane tension\n",
        "#sheet 1 is apparently blank...\n",
        "#resinfo_table - mapping between cryo-em structure sequence and all atom residue ids\n",
        "resinfoDataSheet=xcelData['resinfo_table']\n",
        "resinfoTable=resinfoDataSheet[\n",
        "    resinfoDataSheet.columns[[0,3,5,7]]][2:]\n",
        "resinfoTable.columns=['PDB_ID','Arm1_Resid','Arm2_Resid','Arm3_Resid']\n",
        "resinfoTable.head()\n",
        "#Before continuing, lets check to see if we have any missing values.\n",
        "for colName in resinfoTable.columns:\n",
        "    print '%s:'%colName,\n",
        "    print resinfoTable[colName].isna().sum()"
      ],
      "execution_count": 0,
      "outputs": []
    },
    {
      "cell_type": "markdown",
      "metadata": {
        "id": "-8BSmlVtYC52",
        "colab_type": "text"
      },
      "source": [
        "After our inspection above, we see there is a problem with trying to directly use the resinfo table above.\n",
        "Specifically, the 'PDB_ID' column we want to use has missing values!\n",
        "\n",
        "Fortunately, we know that these missing values are gaps in the pdb sequence for structures that could not be resolved in the cryo-em. The corresponding sequence should, therefore, increase linearly across these gaps.\n",
        "\n",
        "This makes our imputation strategy relatively straight forward. We will iterate over the PDB_ID column. And keep track of the last value we see. When we find valid (integer) values, we just update the last value variable. If we see a missing value we simply increment that last value variable then set the missing entry to be equal to that value."
      ]
    },
    {
      "cell_type": "code",
      "metadata": {
        "id": "osEAXC2GYC52",
        "colab_type": "code",
        "colab": {
          "base_uri": "https://localhost:8080/",
          "height": 51
        },
        "outputId": "07806a77-1a4c-45df-97d9-19fd87d7b1f8"
      },
      "source": [
        "resinfoTableFilled=copy.deepcopy(resinfoTable)\n",
        "print resinfoTableFilled.PDB_ID.isna().sum()\n",
        "for iEntry in resinfoTableFilled.PDB_ID.index:\n",
        "    entry=resinfoTableFilled.PDB_ID[iEntry]\n",
        "    if np.isnan(entry):\n",
        "        lastVal=lastVal+1\n",
        "        resinfoTableFilled.PDB_ID[iEntry]=lastVal\n",
        "    else:\n",
        "        lastVal=entry\n",
        "resinfoTableFilled.PDB_ID.isna().sum()"
      ],
      "execution_count": 6,
      "outputs": [
        {
          "output_type": "stream",
          "text": [
            "53\n"
          ],
          "name": "stdout"
        },
        {
          "output_type": "execute_result",
          "data": {
            "text/plain": [
              "0"
            ]
          },
          "metadata": {
            "tags": []
          },
          "execution_count": 6
        }
      ]
    },
    {
      "cell_type": "code",
      "metadata": {
        "id": "nvfmYg7JYC54",
        "colab_type": "code",
        "colab": {
          "base_uri": "https://localhost:8080/",
          "height": 71
        },
        "outputId": "8deb9b07-3cce-4b6a-b58a-18e6cbdebe5d"
      },
      "source": [
        "#the pdb residue id's are sequential, but have gaps corresponding\n",
        "#to unresolved amino acids in the Cryo-EM structure.\n",
        "#The easy solution is just to fill in linearly.\n",
        "#The three arms in our simulation structure are identical, so\n",
        "#we can generate our back-map by just repeating the pdb sequence 3 times\n",
        "simResid_to_pdbResid=list(np.array(resinfoTableFilled.PDB_ID))*3\n",
        "print simResid_to_pdbResid\n",
        "np.savetxt(baseDir+'simResid_to_pdbResid.out', simResid_to_pdbResid, newline=\" \", fmt='%s')\n",
        "#print ', '.join(map(str,simResid_to_pdbResid))\n",
        "simResid_to_pdbResid=list(\n",
        "      np.loadtxt(baseDir+'simResid_to_pdbResid.out',dtype=int)\n",
        "    )\n",
        "print simResid_to_pdbResid"
      ],
      "execution_count": 35,
      "outputs": [
        {
          "output_type": "stream",
          "text": [
            "[782, 783, 784, 785, 786, 787, 788, 789, 790, 791, 792, 793, 794, 795, 796, 797, 798, 799, 800, 801, 802, 803, 804, 805, 806, 807, 808, 809, 810, 811, 812, 813, 814, 815, 816, 817, 818, 819, 820, 821, 822, 823, 824, 825, 826, 827, 828, 829, 830, 831, 832, 833, 834, 835, 836, 837, 838, 839, 840, 841, 842, 843, 844, 845, 846, 847, 848, 849, 850, 851, 852, 853, 854, 855, 856, 857, 858, 859, 860, 861, 862, 863, 864, 865, 866, 867, 868, 869, 870, 871, 872, 873, 874, 875, 876, 877, 878, 879, 880, 881, 882, 883, 884, 885, 886, 887, 888, 889, 890, 891, 892, 893, 894, 895, 896, 897, 898, 899, 900, 901, 902, 903, 904, 905, 906, 907, 908, 909, 910, 911, 912, 913, 914, 915, 916, 917, 918, 919, 920, 921, 922, 923, 924, 925, 926, 927, 928, 929, 930, 931, 932, 933, 934, 935, 936, 937, 938, 939, 940, 941, 942, 943, 944, 945, 946, 947, 948, 949, 950, 951, 952, 953, 954, 955, 956, 957, 958, 959, 960, 961, 962, 963, 964, 965, 966, 967, 968, 969, 970, 971, 972, 973, 974, 975, 976, 977, 978, 979, 980, 981, 982, 983, 984, 985, 986, 987, 988, 989, 990, 991, 992, 993, 994, 995, 996, 997, 998, 999, 1000, 1001, 1002, 1003, 1004, 1005, 1006, 1007, 1008, 1009, 1010, 1011, 1012, 1013, 1014, 1015, 1016, 1017, 1018, 1019, 1020, 1021, 1022, 1023, 1024, 1025, 1026, 1027, 1028, 1029, 1030, 1031, 1032, 1033, 1034, 1035, 1036, 1037, 1038, 1039, 1040, 1041, 1042, 1043, 1044, 1045, 1046, 1047, 1048, 1049, 1050, 1051, 1052, 1053, 1054, 1055, 1056, 1057, 1058, 1059, 1060, 1061, 1062, 1063, 1064, 1065, 1066, 1067, 1068, 1069, 1070, 1071, 1072, 1073, 1074, 1075, 1076, 1077, 1078, 1079, 1080, 1081, 1082, 1083, 1084, 1085, 1086, 1087, 1088, 1089, 1090, 1091, 1092, 1093, 1094, 1095, 1096, 1097, 1098, 1099, 1100, 1101, 1102, 1103, 1104, 1105, 1106, 1107, 1108, 1109, 1110, 1111, 1112, 1113, 1114, 1115, 1116, 1117, 1118, 1119, 1120, 1121, 1122, 1123, 1124, 1125, 1126, 1127, 1128, 1129, 1130, 1131, 1132, 1133, 1134, 1135, 1136, 1137, 1138, 1139, 1140, 1141, 1142, 1143, 1144, 1145, 1146, 1147, 1148, 1149, 1150, 1151, 1152, 1153, 1154, 1155, 1156, 1157, 1158, 1159, 1160, 1161, 1162, 1163, 1164, 1165, 1166, 1167, 1168, 1169, 1170, 1171, 1172, 1173, 1174, 1175, 1176, 1177, 1178, 1179, 1180, 1181, 1182, 1183, 1184, 1185, 1186, 1187, 1188, 1189, 1190, 1191, 1192, 1193, 1194, 1195, 1196, 1197, 1198, 1199, 1200, 1201, 1202, 1203, 1204, 1205, 1206, 1207, 1208, 1209, 1210, 1211, 1212, 1213, 1214, 1215, 1216, 1217, 1218, 1219, 1220, 1221, 1222, 1223, 1224, 1225, 1226, 1227, 1228, 1229, 1230, 1231, 1232, 1233, 1234, 1235, 1236, 1237, 1238, 1239, 1240, 1241, 1242, 1243, 1244, 1245, 1246, 1247, 1248, 1249, 1250, 1251, 1252, 1253, 1254, 1255, 1256, 1257, 1258, 1259, 1260, 1261, 1262, 1263, 1264, 1265, 1266, 1267, 1268, 1269, 1270, 1271, 1272, 1273, 1274, 1275, 1276, 1277, 1278, 1279, 1280, 1281, 1282, 1283, 1284, 1285, 1286, 1287, 1288, 1289, 1290, 1291, 1292, 1293, 1294, 1295, 1296, 1297, 1298, 1299, 1300, 1301, 1302, 1303, 1304, 1305, 1306, 1307, 1308, 1309, 1310, 1311, 1312, 1313, 1314, 1315, 1316, 1317, 1318, 1319, 1320, 1321, 1322, 1323, 1324, 1325, 1326, 1327, 1328, 1329, 1330, 1331, 1332, 1333, 1334, 1335, 1336, 1337, 1338, 1339, 1340, 1341, 1342, 1343, 1344, 1345, 1346, 1347, 1348, 1349, 1350, 1351, 1352, 1353, 1354, 1355, 1356, 1357, 1358, 1359, 1360, 1361, 1362, 1363, 1364, 1365, 1493, 1494, 1495, 1496, 1497, 1498, 1499, 1500, 1501, 1502, 1503, 1504, 1505, 1506, 1507, 1508, 1509, 1510, 1511, 1512, 1513, 1514, 1515, 1516, 1517, 1518, 1519, 1520, 1521, 1522, 1523, 1524, 1525, 1526, 1527, 1528, 1529, 1530, 1531, 1532, 1533, 1534, 1535, 1536, 1537, 1538, 1539, 1540, 1541, 1542, 1543, 1544, 1545, 1546, 1547, 1548, 1549, 1550, 1551, 1552, 1553, 1554, 1555, 1556, 1557, 1558, 1559, 1560, 1561, 1562, 1563, 1564, 1565, 1566, 1567, 1568, 1569, 1570, 1571, 1572, 1573, 1574, 1575, 1576, 1577, 1578, 1655, 1656, 1657, 1658, 1659, 1660, 1661, 1662, 1663, 1664, 1665, 1666, 1667, 1668, 1669, 1670, 1671, 1672, 1673, 1674, 1675, 1676, 1677, 1678, 1679, 1680, 1681, 1682, 1683, 1684, 1685, 1686, 1687, 1688, 1689, 1690, 1691, 1692, 1693, 1694, 1695, 1696, 1697, 1698, 1699, 1700, 1701, 1702, 1703, 1704, 1705, 1706, 1707, 1708, 1709, 1710, 1711, 1712, 1713, 1714, 1715, 1716, 1717, 1718, 1719, 1720, 1721, 1722, 1723, 1724, 1725, 1726, 1727, 1728, 1729, 1730, 1731, 1732, 1733, 1734, 1735, 1736, 1737, 1738, 1739, 1740, 1741, 1742, 1743, 1744, 1745, 1746, 1747, 1748, 1749, 1750, 1751, 1752, 1753, 1754, 1755, 1756, 1757, 1758, 1759, 1760, 1761, 1762, 1763, 1764, 1765, 1766, 1767, 1768, 1769, 1770, 1771, 1772, 1773, 1774, 1775, 1776, 1777, 1778, 1779, 1780, 1781, 1782, 1783, 1784, 1785, 1786, 1787, 1788, 1789, 1790, 1791, 1792, 1793, 1794, 1795, 1796, 1797, 1798, 1799, 1800, 1801, 1802, 1803, 1804, 1805, 1806, 1807, 1952, 1953, 1954, 1955, 1956, 1957, 1958, 1959, 1960, 1961, 1962, 1963, 1964, 1965, 1966, 1967, 1968, 1969, 1970, 1971, 1972, 1973, 1974, 1975, 1976, 1977, 1978, 1979, 1980, 1981, 1982, 1983, 1984, 1985, 1986, 1987, 1988, 1989, 1990, 1991, 1992, 1993, 1994, 1995, 1996, 1997, 1998, 1999, 2000, 2001, 2002, 2003, 2004, 2005, 2006, 2007, 2008, 2009, 2010, 2011, 2012, 2013, 2014, 2015, 2016, 2017, 2018, 2019, 2020, 2021, 2022, 2023, 2024, 2025, 2026, 2027, 2028, 2029, 2030, 2031, 2032, 2033, 2034, 2035, 2036, 2037, 2038, 2039, 2040, 2041, 2042, 2043, 2044, 2045, 2046, 2047, 2048, 2049, 2050, 2051, 2052, 2053, 2054, 2055, 2056, 2057, 2058, 2059, 2060, 2061, 2062, 2063, 2064, 2065, 2066, 2067, 2068, 2069, 2070, 2071, 2072, 2073, 2074, 2075, 2076, 2077, 2078, 2079, 2080, 2081, 2082, 2083, 2084, 2085, 2086, 2087, 2088, 2089, 2090, 2091, 2092, 2093, 2094, 2095, 2096, 2097, 2098, 2099, 2100, 2101, 2102, 2103, 2104, 2105, 2106, 2107, 2108, 2109, 2110, 2111, 2112, 2113, 2114, 2115, 2116, 2117, 2118, 2119, 2120, 2121, 2122, 2123, 2124, 2125, 2126, 2127, 2128, 2129, 2130, 2131, 2132, 2133, 2134, 2135, 2136, 2137, 2138, 2139, 2140, 2141, 2142, 2143, 2144, 2145, 2146, 2147, 2148, 2149, 2150, 2151, 2152, 2153, 2154, 2155, 2156, 2157, 2158, 2159, 2160, 2161, 2162, 2163, 2164, 2165, 2166, 2167, 2168, 2169, 2170, 2171, 2172, 2173, 2174, 2175, 2176, 2177, 2178, 2179, 2180, 2181, 2182, 2183, 2184, 2185, 2186, 2187, 2188, 2189, 2190, 2191, 2192, 2193, 2194, 2195, 2196, 2197, 2198, 2199, 2200, 2201, 2202, 2203, 2204, 2205, 2206, 2207, 2208, 2209, 2210, 2211, 2212, 2213, 2214, 2215, 2216, 2217, 2218, 2219, 2220, 2221, 2222, 2223, 2224, 2225, 2226, 2227, 2228, 2229, 2230, 2231, 2232, 2233, 2234, 2235, 2236, 2237, 2238, 2239, 2240, 2241, 2242, 2243, 2244, 2245, 2246, 2247, 2248, 2249, 2250, 2251, 2252, 2253, 2254, 2255, 2256, 2257, 2258, 2259, 2260, 2261, 2262, 2263, 2264, 2265, 2266, 2267, 2268, 2269, 2270, 2271, 2272, 2273, 2274, 2275, 2276, 2277, 2278, 2279, 2280, 2281, 2282, 2283, 2284, 2285, 2286, 2287, 2288, 2289, 2290, 2291, 2292, 2293, 2294, 2295, 2296, 2297, 2298, 2299, 2300, 2301, 2302, 2303, 2304, 2305, 2306, 2307, 2308, 2309, 2310, 2311, 2312, 2313, 2314, 2315, 2316, 2317, 2318, 2319, 2320, 2321, 2322, 2323, 2324, 2325, 2326, 2327, 2328, 2329, 2330, 2331, 2332, 2333, 2334, 2335, 2336, 2337, 2338, 2339, 2340, 2341, 2342, 2343, 2344, 2345, 2346, 2347, 2348, 2349, 2350, 2351, 2352, 2353, 2354, 2355, 2356, 2357, 2358, 2359, 2360, 2361, 2362, 2363, 2364, 2365, 2366, 2367, 2368, 2369, 2370, 2371, 2372, 2373, 2374, 2375, 2376, 2377, 2378, 2379, 2380, 2381, 2382, 2383, 2384, 2385, 2386, 2387, 2388, 2389, 2390, 2391, 2392, 2393, 2394, 2395, 2396, 2397, 2398, 2399, 2400, 2401, 2402, 2403, 2404, 2405, 2406, 2407, 2408, 2409, 2410, 2411, 2412, 2413, 2414, 2415, 2416, 2417, 2418, 2419, 2420, 2421, 2422, 2423, 2424, 2425, 2426, 2427, 2428, 2429, 2430, 2431, 2432, 2433, 2434, 2435, 2436, 2437, 2438, 2439, 2440, 2441, 2442, 2443, 2444, 2445, 2446, 2447, 2448, 2449, 2450, 2451, 2452, 2453, 2454, 2455, 2456, 2457, 2458, 2459, 2460, 2461, 2462, 2463, 2464, 2465, 2466, 2467, 2468, 2469, 2470, 2471, 2472, 2473, 2474, 2475, 2476, 2477, 2478, 2479, 2480, 2481, 2482, 2483, 2484, 2485, 2486, 2487, 2488, 2489, 2490, 2491, 2492, 2493, 2494, 2495, 2496, 2497, 2498, 2499, 2500, 2501, 2502, 2503, 2504, 2505, 2506, 2507, 2508, 2509, 2510, 2511, 2512, 2513, 2514, 2515, 2516, 2517, 2518, 2519, 2520, 2521, 2522, 2523, 2524, 2525, 2526, 2527, 2528, 2529, 2530, 2531, 2532, 2533, 2534, 2535, 2536, 2537, 2538, 2539, 2540, 2541, 2542, 2543, 2544, 2545, 2546, 782, 783, 784, 785, 786, 787, 788, 789, 790, 791, 792, 793, 794, 795, 796, 797, 798, 799, 800, 801, 802, 803, 804, 805, 806, 807, 808, 809, 810, 811, 812, 813, 814, 815, 816, 817, 818, 819, 820, 821, 822, 823, 824, 825, 826, 827, 828, 829, 830, 831, 832, 833, 834, 835, 836, 837, 838, 839, 840, 841, 842, 843, 844, 845, 846, 847, 848, 849, 850, 851, 852, 853, 854, 855, 856, 857, 858, 859, 860, 861, 862, 863, 864, 865, 866, 867, 868, 869, 870, 871, 872, 873, 874, 875, 876, 877, 878, 879, 880, 881, 882, 883, 884, 885, 886, 887, 888, 889, 890, 891, 892, 893, 894, 895, 896, 897, 898, 899, 900, 901, 902, 903, 904, 905, 906, 907, 908, 909, 910, 911, 912, 913, 914, 915, 916, 917, 918, 919, 920, 921, 922, 923, 924, 925, 926, 927, 928, 929, 930, 931, 932, 933, 934, 935, 936, 937, 938, 939, 940, 941, 942, 943, 944, 945, 946, 947, 948, 949, 950, 951, 952, 953, 954, 955, 956, 957, 958, 959, 960, 961, 962, 963, 964, 965, 966, 967, 968, 969, 970, 971, 972, 973, 974, 975, 976, 977, 978, 979, 980, 981, 982, 983, 984, 985, 986, 987, 988, 989, 990, 991, 992, 993, 994, 995, 996, 997, 998, 999, 1000, 1001, 1002, 1003, 1004, 1005, 1006, 1007, 1008, 1009, 1010, 1011, 1012, 1013, 1014, 1015, 1016, 1017, 1018, 1019, 1020, 1021, 1022, 1023, 1024, 1025, 1026, 1027, 1028, 1029, 1030, 1031, 1032, 1033, 1034, 1035, 1036, 1037, 1038, 1039, 1040, 1041, 1042, 1043, 1044, 1045, 1046, 1047, 1048, 1049, 1050, 1051, 1052, 1053, 1054, 1055, 1056, 1057, 1058, 1059, 1060, 1061, 1062, 1063, 1064, 1065, 1066, 1067, 1068, 1069, 1070, 1071, 1072, 1073, 1074, 1075, 1076, 1077, 1078, 1079, 1080, 1081, 1082, 1083, 1084, 1085, 1086, 1087, 1088, 1089, 1090, 1091, 1092, 1093, 1094, 1095, 1096, 1097, 1098, 1099, 1100, 1101, 1102, 1103, 1104, 1105, 1106, 1107, 1108, 1109, 1110, 1111, 1112, 1113, 1114, 1115, 1116, 1117, 1118, 1119, 1120, 1121, 1122, 1123, 1124, 1125, 1126, 1127, 1128, 1129, 1130, 1131, 1132, 1133, 1134, 1135, 1136, 1137, 1138, 1139, 1140, 1141, 1142, 1143, 1144, 1145, 1146, 1147, 1148, 1149, 1150, 1151, 1152, 1153, 1154, 1155, 1156, 1157, 1158, 1159, 1160, 1161, 1162, 1163, 1164, 1165, 1166, 1167, 1168, 1169, 1170, 1171, 1172, 1173, 1174, 1175, 1176, 1177, 1178, 1179, 1180, 1181, 1182, 1183, 1184, 1185, 1186, 1187, 1188, 1189, 1190, 1191, 1192, 1193, 1194, 1195, 1196, 1197, 1198, 1199, 1200, 1201, 1202, 1203, 1204, 1205, 1206, 1207, 1208, 1209, 1210, 1211, 1212, 1213, 1214, 1215, 1216, 1217, 1218, 1219, 1220, 1221, 1222, 1223, 1224, 1225, 1226, 1227, 1228, 1229, 1230, 1231, 1232, 1233, 1234, 1235, 1236, 1237, 1238, 1239, 1240, 1241, 1242, 1243, 1244, 1245, 1246, 1247, 1248, 1249, 1250, 1251, 1252, 1253, 1254, 1255, 1256, 1257, 1258, 1259, 1260, 1261, 1262, 1263, 1264, 1265, 1266, 1267, 1268, 1269, 1270, 1271, 1272, 1273, 1274, 1275, 1276, 1277, 1278, 1279, 1280, 1281, 1282, 1283, 1284, 1285, 1286, 1287, 1288, 1289, 1290, 1291, 1292, 1293, 1294, 1295, 1296, 1297, 1298, 1299, 1300, 1301, 1302, 1303, 1304, 1305, 1306, 1307, 1308, 1309, 1310, 1311, 1312, 1313, 1314, 1315, 1316, 1317, 1318, 1319, 1320, 1321, 1322, 1323, 1324, 1325, 1326, 1327, 1328, 1329, 1330, 1331, 1332, 1333, 1334, 1335, 1336, 1337, 1338, 1339, 1340, 1341, 1342, 1343, 1344, 1345, 1346, 1347, 1348, 1349, 1350, 1351, 1352, 1353, 1354, 1355, 1356, 1357, 1358, 1359, 1360, 1361, 1362, 1363, 1364, 1365, 1493, 1494, 1495, 1496, 1497, 1498, 1499, 1500, 1501, 1502, 1503, 1504, 1505, 1506, 1507, 1508, 1509, 1510, 1511, 1512, 1513, 1514, 1515, 1516, 1517, 1518, 1519, 1520, 1521, 1522, 1523, 1524, 1525, 1526, 1527, 1528, 1529, 1530, 1531, 1532, 1533, 1534, 1535, 1536, 1537, 1538, 1539, 1540, 1541, 1542, 1543, 1544, 1545, 1546, 1547, 1548, 1549, 1550, 1551, 1552, 1553, 1554, 1555, 1556, 1557, 1558, 1559, 1560, 1561, 1562, 1563, 1564, 1565, 1566, 1567, 1568, 1569, 1570, 1571, 1572, 1573, 1574, 1575, 1576, 1577, 1578, 1655, 1656, 1657, 1658, 1659, 1660, 1661, 1662, 1663, 1664, 1665, 1666, 1667, 1668, 1669, 1670, 1671, 1672, 1673, 1674, 1675, 1676, 1677, 1678, 1679, 1680, 1681, 1682, 1683, 1684, 1685, 1686, 1687, 1688, 1689, 1690, 1691, 1692, 1693, 1694, 1695, 1696, 1697, 1698, 1699, 1700, 1701, 1702, 1703, 1704, 1705, 1706, 1707, 1708, 1709, 1710, 1711, 1712, 1713, 1714, 1715, 1716, 1717, 1718, 1719, 1720, 1721, 1722, 1723, 1724, 1725, 1726, 1727, 1728, 1729, 1730, 1731, 1732, 1733, 1734, 1735, 1736, 1737, 1738, 1739, 1740, 1741, 1742, 1743, 1744, 1745, 1746, 1747, 1748, 1749, 1750, 1751, 1752, 1753, 1754, 1755, 1756, 1757, 1758, 1759, 1760, 1761, 1762, 1763, 1764, 1765, 1766, 1767, 1768, 1769, 1770, 1771, 1772, 1773, 1774, 1775, 1776, 1777, 1778, 1779, 1780, 1781, 1782, 1783, 1784, 1785, 1786, 1787, 1788, 1789, 1790, 1791, 1792, 1793, 1794, 1795, 1796, 1797, 1798, 1799, 1800, 1801, 1802, 1803, 1804, 1805, 1806, 1807, 1952, 1953, 1954, 1955, 1956, 1957, 1958, 1959, 1960, 1961, 1962, 1963, 1964, 1965, 1966, 1967, 1968, 1969, 1970, 1971, 1972, 1973, 1974, 1975, 1976, 1977, 1978, 1979, 1980, 1981, 1982, 1983, 1984, 1985, 1986, 1987, 1988, 1989, 1990, 1991, 1992, 1993, 1994, 1995, 1996, 1997, 1998, 1999, 2000, 2001, 2002, 2003, 2004, 2005, 2006, 2007, 2008, 2009, 2010, 2011, 2012, 2013, 2014, 2015, 2016, 2017, 2018, 2019, 2020, 2021, 2022, 2023, 2024, 2025, 2026, 2027, 2028, 2029, 2030, 2031, 2032, 2033, 2034, 2035, 2036, 2037, 2038, 2039, 2040, 2041, 2042, 2043, 2044, 2045, 2046, 2047, 2048, 2049, 2050, 2051, 2052, 2053, 2054, 2055, 2056, 2057, 2058, 2059, 2060, 2061, 2062, 2063, 2064, 2065, 2066, 2067, 2068, 2069, 2070, 2071, 2072, 2073, 2074, 2075, 2076, 2077, 2078, 2079, 2080, 2081, 2082, 2083, 2084, 2085, 2086, 2087, 2088, 2089, 2090, 2091, 2092, 2093, 2094, 2095, 2096, 2097, 2098, 2099, 2100, 2101, 2102, 2103, 2104, 2105, 2106, 2107, 2108, 2109, 2110, 2111, 2112, 2113, 2114, 2115, 2116, 2117, 2118, 2119, 2120, 2121, 2122, 2123, 2124, 2125, 2126, 2127, 2128, 2129, 2130, 2131, 2132, 2133, 2134, 2135, 2136, 2137, 2138, 2139, 2140, 2141, 2142, 2143, 2144, 2145, 2146, 2147, 2148, 2149, 2150, 2151, 2152, 2153, 2154, 2155, 2156, 2157, 2158, 2159, 2160, 2161, 2162, 2163, 2164, 2165, 2166, 2167, 2168, 2169, 2170, 2171, 2172, 2173, 2174, 2175, 2176, 2177, 2178, 2179, 2180, 2181, 2182, 2183, 2184, 2185, 2186, 2187, 2188, 2189, 2190, 2191, 2192, 2193, 2194, 2195, 2196, 2197, 2198, 2199, 2200, 2201, 2202, 2203, 2204, 2205, 2206, 2207, 2208, 2209, 2210, 2211, 2212, 2213, 2214, 2215, 2216, 2217, 2218, 2219, 2220, 2221, 2222, 2223, 2224, 2225, 2226, 2227, 2228, 2229, 2230, 2231, 2232, 2233, 2234, 2235, 2236, 2237, 2238, 2239, 2240, 2241, 2242, 2243, 2244, 2245, 2246, 2247, 2248, 2249, 2250, 2251, 2252, 2253, 2254, 2255, 2256, 2257, 2258, 2259, 2260, 2261, 2262, 2263, 2264, 2265, 2266, 2267, 2268, 2269, 2270, 2271, 2272, 2273, 2274, 2275, 2276, 2277, 2278, 2279, 2280, 2281, 2282, 2283, 2284, 2285, 2286, 2287, 2288, 2289, 2290, 2291, 2292, 2293, 2294, 2295, 2296, 2297, 2298, 2299, 2300, 2301, 2302, 2303, 2304, 2305, 2306, 2307, 2308, 2309, 2310, 2311, 2312, 2313, 2314, 2315, 2316, 2317, 2318, 2319, 2320, 2321, 2322, 2323, 2324, 2325, 2326, 2327, 2328, 2329, 2330, 2331, 2332, 2333, 2334, 2335, 2336, 2337, 2338, 2339, 2340, 2341, 2342, 2343, 2344, 2345, 2346, 2347, 2348, 2349, 2350, 2351, 2352, 2353, 2354, 2355, 2356, 2357, 2358, 2359, 2360, 2361, 2362, 2363, 2364, 2365, 2366, 2367, 2368, 2369, 2370, 2371, 2372, 2373, 2374, 2375, 2376, 2377, 2378, 2379, 2380, 2381, 2382, 2383, 2384, 2385, 2386, 2387, 2388, 2389, 2390, 2391, 2392, 2393, 2394, 2395, 2396, 2397, 2398, 2399, 2400, 2401, 2402, 2403, 2404, 2405, 2406, 2407, 2408, 2409, 2410, 2411, 2412, 2413, 2414, 2415, 2416, 2417, 2418, 2419, 2420, 2421, 2422, 2423, 2424, 2425, 2426, 2427, 2428, 2429, 2430, 2431, 2432, 2433, 2434, 2435, 2436, 2437, 2438, 2439, 2440, 2441, 2442, 2443, 2444, 2445, 2446, 2447, 2448, 2449, 2450, 2451, 2452, 2453, 2454, 2455, 2456, 2457, 2458, 2459, 2460, 2461, 2462, 2463, 2464, 2465, 2466, 2467, 2468, 2469, 2470, 2471, 2472, 2473, 2474, 2475, 2476, 2477, 2478, 2479, 2480, 2481, 2482, 2483, 2484, 2485, 2486, 2487, 2488, 2489, 2490, 2491, 2492, 2493, 2494, 2495, 2496, 2497, 2498, 2499, 2500, 2501, 2502, 2503, 2504, 2505, 2506, 2507, 2508, 2509, 2510, 2511, 2512, 2513, 2514, 2515, 2516, 2517, 2518, 2519, 2520, 2521, 2522, 2523, 2524, 2525, 2526, 2527, 2528, 2529, 2530, 2531, 2532, 2533, 2534, 2535, 2536, 2537, 2538, 2539, 2540, 2541, 2542, 2543, 2544, 2545, 2546, 782, 783, 784, 785, 786, 787, 788, 789, 790, 791, 792, 793, 794, 795, 796, 797, 798, 799, 800, 801, 802, 803, 804, 805, 806, 807, 808, 809, 810, 811, 812, 813, 814, 815, 816, 817, 818, 819, 820, 821, 822, 823, 824, 825, 826, 827, 828, 829, 830, 831, 832, 833, 834, 835, 836, 837, 838, 839, 840, 841, 842, 843, 844, 845, 846, 847, 848, 849, 850, 851, 852, 853, 854, 855, 856, 857, 858, 859, 860, 861, 862, 863, 864, 865, 866, 867, 868, 869, 870, 871, 872, 873, 874, 875, 876, 877, 878, 879, 880, 881, 882, 883, 884, 885, 886, 887, 888, 889, 890, 891, 892, 893, 894, 895, 896, 897, 898, 899, 900, 901, 902, 903, 904, 905, 906, 907, 908, 909, 910, 911, 912, 913, 914, 915, 916, 917, 918, 919, 920, 921, 922, 923, 924, 925, 926, 927, 928, 929, 930, 931, 932, 933, 934, 935, 936, 937, 938, 939, 940, 941, 942, 943, 944, 945, 946, 947, 948, 949, 950, 951, 952, 953, 954, 955, 956, 957, 958, 959, 960, 961, 962, 963, 964, 965, 966, 967, 968, 969, 970, 971, 972, 973, 974, 975, 976, 977, 978, 979, 980, 981, 982, 983, 984, 985, 986, 987, 988, 989, 990, 991, 992, 993, 994, 995, 996, 997, 998, 999, 1000, 1001, 1002, 1003, 1004, 1005, 1006, 1007, 1008, 1009, 1010, 1011, 1012, 1013, 1014, 1015, 1016, 1017, 1018, 1019, 1020, 1021, 1022, 1023, 1024, 1025, 1026, 1027, 1028, 1029, 1030, 1031, 1032, 1033, 1034, 1035, 1036, 1037, 1038, 1039, 1040, 1041, 1042, 1043, 1044, 1045, 1046, 1047, 1048, 1049, 1050, 1051, 1052, 1053, 1054, 1055, 1056, 1057, 1058, 1059, 1060, 1061, 1062, 1063, 1064, 1065, 1066, 1067, 1068, 1069, 1070, 1071, 1072, 1073, 1074, 1075, 1076, 1077, 1078, 1079, 1080, 1081, 1082, 1083, 1084, 1085, 1086, 1087, 1088, 1089, 1090, 1091, 1092, 1093, 1094, 1095, 1096, 1097, 1098, 1099, 1100, 1101, 1102, 1103, 1104, 1105, 1106, 1107, 1108, 1109, 1110, 1111, 1112, 1113, 1114, 1115, 1116, 1117, 1118, 1119, 1120, 1121, 1122, 1123, 1124, 1125, 1126, 1127, 1128, 1129, 1130, 1131, 1132, 1133, 1134, 1135, 1136, 1137, 1138, 1139, 1140, 1141, 1142, 1143, 1144, 1145, 1146, 1147, 1148, 1149, 1150, 1151, 1152, 1153, 1154, 1155, 1156, 1157, 1158, 1159, 1160, 1161, 1162, 1163, 1164, 1165, 1166, 1167, 1168, 1169, 1170, 1171, 1172, 1173, 1174, 1175, 1176, 1177, 1178, 1179, 1180, 1181, 1182, 1183, 1184, 1185, 1186, 1187, 1188, 1189, 1190, 1191, 1192, 1193, 1194, 1195, 1196, 1197, 1198, 1199, 1200, 1201, 1202, 1203, 1204, 1205, 1206, 1207, 1208, 1209, 1210, 1211, 1212, 1213, 1214, 1215, 1216, 1217, 1218, 1219, 1220, 1221, 1222, 1223, 1224, 1225, 1226, 1227, 1228, 1229, 1230, 1231, 1232, 1233, 1234, 1235, 1236, 1237, 1238, 1239, 1240, 1241, 1242, 1243, 1244, 1245, 1246, 1247, 1248, 1249, 1250, 1251, 1252, 1253, 1254, 1255, 1256, 1257, 1258, 1259, 1260, 1261, 1262, 1263, 1264, 1265, 1266, 1267, 1268, 1269, 1270, 1271, 1272, 1273, 1274, 1275, 1276, 1277, 1278, 1279, 1280, 1281, 1282, 1283, 1284, 1285, 1286, 1287, 1288, 1289, 1290, 1291, 1292, 1293, 1294, 1295, 1296, 1297, 1298, 1299, 1300, 1301, 1302, 1303, 1304, 1305, 1306, 1307, 1308, 1309, 1310, 1311, 1312, 1313, 1314, 1315, 1316, 1317, 1318, 1319, 1320, 1321, 1322, 1323, 1324, 1325, 1326, 1327, 1328, 1329, 1330, 1331, 1332, 1333, 1334, 1335, 1336, 1337, 1338, 1339, 1340, 1341, 1342, 1343, 1344, 1345, 1346, 1347, 1348, 1349, 1350, 1351, 1352, 1353, 1354, 1355, 1356, 1357, 1358, 1359, 1360, 1361, 1362, 1363, 1364, 1365, 1493, 1494, 1495, 1496, 1497, 1498, 1499, 1500, 1501, 1502, 1503, 1504, 1505, 1506, 1507, 1508, 1509, 1510, 1511, 1512, 1513, 1514, 1515, 1516, 1517, 1518, 1519, 1520, 1521, 1522, 1523, 1524, 1525, 1526, 1527, 1528, 1529, 1530, 1531, 1532, 1533, 1534, 1535, 1536, 1537, 1538, 1539, 1540, 1541, 1542, 1543, 1544, 1545, 1546, 1547, 1548, 1549, 1550, 1551, 1552, 1553, 1554, 1555, 1556, 1557, 1558, 1559, 1560, 1561, 1562, 1563, 1564, 1565, 1566, 1567, 1568, 1569, 1570, 1571, 1572, 1573, 1574, 1575, 1576, 1577, 1578, 1655, 1656, 1657, 1658, 1659, 1660, 1661, 1662, 1663, 1664, 1665, 1666, 1667, 1668, 1669, 1670, 1671, 1672, 1673, 1674, 1675, 1676, 1677, 1678, 1679, 1680, 1681, 1682, 1683, 1684, 1685, 1686, 1687, 1688, 1689, 1690, 1691, 1692, 1693, 1694, 1695, 1696, 1697, 1698, 1699, 1700, 1701, 1702, 1703, 1704, 1705, 1706, 1707, 1708, 1709, 1710, 1711, 1712, 1713, 1714, 1715, 1716, 1717, 1718, 1719, 1720, 1721, 1722, 1723, 1724, 1725, 1726, 1727, 1728, 1729, 1730, 1731, 1732, 1733, 1734, 1735, 1736, 1737, 1738, 1739, 1740, 1741, 1742, 1743, 1744, 1745, 1746, 1747, 1748, 1749, 1750, 1751, 1752, 1753, 1754, 1755, 1756, 1757, 1758, 1759, 1760, 1761, 1762, 1763, 1764, 1765, 1766, 1767, 1768, 1769, 1770, 1771, 1772, 1773, 1774, 1775, 1776, 1777, 1778, 1779, 1780, 1781, 1782, 1783, 1784, 1785, 1786, 1787, 1788, 1789, 1790, 1791, 1792, 1793, 1794, 1795, 1796, 1797, 1798, 1799, 1800, 1801, 1802, 1803, 1804, 1805, 1806, 1807, 1952, 1953, 1954, 1955, 1956, 1957, 1958, 1959, 1960, 1961, 1962, 1963, 1964, 1965, 1966, 1967, 1968, 1969, 1970, 1971, 1972, 1973, 1974, 1975, 1976, 1977, 1978, 1979, 1980, 1981, 1982, 1983, 1984, 1985, 1986, 1987, 1988, 1989, 1990, 1991, 1992, 1993, 1994, 1995, 1996, 1997, 1998, 1999, 2000, 2001, 2002, 2003, 2004, 2005, 2006, 2007, 2008, 2009, 2010, 2011, 2012, 2013, 2014, 2015, 2016, 2017, 2018, 2019, 2020, 2021, 2022, 2023, 2024, 2025, 2026, 2027, 2028, 2029, 2030, 2031, 2032, 2033, 2034, 2035, 2036, 2037, 2038, 2039, 2040, 2041, 2042, 2043, 2044, 2045, 2046, 2047, 2048, 2049, 2050, 2051, 2052, 2053, 2054, 2055, 2056, 2057, 2058, 2059, 2060, 2061, 2062, 2063, 2064, 2065, 2066, 2067, 2068, 2069, 2070, 2071, 2072, 2073, 2074, 2075, 2076, 2077, 2078, 2079, 2080, 2081, 2082, 2083, 2084, 2085, 2086, 2087, 2088, 2089, 2090, 2091, 2092, 2093, 2094, 2095, 2096, 2097, 2098, 2099, 2100, 2101, 2102, 2103, 2104, 2105, 2106, 2107, 2108, 2109, 2110, 2111, 2112, 2113, 2114, 2115, 2116, 2117, 2118, 2119, 2120, 2121, 2122, 2123, 2124, 2125, 2126, 2127, 2128, 2129, 2130, 2131, 2132, 2133, 2134, 2135, 2136, 2137, 2138, 2139, 2140, 2141, 2142, 2143, 2144, 2145, 2146, 2147, 2148, 2149, 2150, 2151, 2152, 2153, 2154, 2155, 2156, 2157, 2158, 2159, 2160, 2161, 2162, 2163, 2164, 2165, 2166, 2167, 2168, 2169, 2170, 2171, 2172, 2173, 2174, 2175, 2176, 2177, 2178, 2179, 2180, 2181, 2182, 2183, 2184, 2185, 2186, 2187, 2188, 2189, 2190, 2191, 2192, 2193, 2194, 2195, 2196, 2197, 2198, 2199, 2200, 2201, 2202, 2203, 2204, 2205, 2206, 2207, 2208, 2209, 2210, 2211, 2212, 2213, 2214, 2215, 2216, 2217, 2218, 2219, 2220, 2221, 2222, 2223, 2224, 2225, 2226, 2227, 2228, 2229, 2230, 2231, 2232, 2233, 2234, 2235, 2236, 2237, 2238, 2239, 2240, 2241, 2242, 2243, 2244, 2245, 2246, 2247, 2248, 2249, 2250, 2251, 2252, 2253, 2254, 2255, 2256, 2257, 2258, 2259, 2260, 2261, 2262, 2263, 2264, 2265, 2266, 2267, 2268, 2269, 2270, 2271, 2272, 2273, 2274, 2275, 2276, 2277, 2278, 2279, 2280, 2281, 2282, 2283, 2284, 2285, 2286, 2287, 2288, 2289, 2290, 2291, 2292, 2293, 2294, 2295, 2296, 2297, 2298, 2299, 2300, 2301, 2302, 2303, 2304, 2305, 2306, 2307, 2308, 2309, 2310, 2311, 2312, 2313, 2314, 2315, 2316, 2317, 2318, 2319, 2320, 2321, 2322, 2323, 2324, 2325, 2326, 2327, 2328, 2329, 2330, 2331, 2332, 2333, 2334, 2335, 2336, 2337, 2338, 2339, 2340, 2341, 2342, 2343, 2344, 2345, 2346, 2347, 2348, 2349, 2350, 2351, 2352, 2353, 2354, 2355, 2356, 2357, 2358, 2359, 2360, 2361, 2362, 2363, 2364, 2365, 2366, 2367, 2368, 2369, 2370, 2371, 2372, 2373, 2374, 2375, 2376, 2377, 2378, 2379, 2380, 2381, 2382, 2383, 2384, 2385, 2386, 2387, 2388, 2389, 2390, 2391, 2392, 2393, 2394, 2395, 2396, 2397, 2398, 2399, 2400, 2401, 2402, 2403, 2404, 2405, 2406, 2407, 2408, 2409, 2410, 2411, 2412, 2413, 2414, 2415, 2416, 2417, 2418, 2419, 2420, 2421, 2422, 2423, 2424, 2425, 2426, 2427, 2428, 2429, 2430, 2431, 2432, 2433, 2434, 2435, 2436, 2437, 2438, 2439, 2440, 2441, 2442, 2443, 2444, 2445, 2446, 2447, 2448, 2449, 2450, 2451, 2452, 2453, 2454, 2455, 2456, 2457, 2458, 2459, 2460, 2461, 2462, 2463, 2464, 2465, 2466, 2467, 2468, 2469, 2470, 2471, 2472, 2473, 2474, 2475, 2476, 2477, 2478, 2479, 2480, 2481, 2482, 2483, 2484, 2485, 2486, 2487, 2488, 2489, 2490, 2491, 2492, 2493, 2494, 2495, 2496, 2497, 2498, 2499, 2500, 2501, 2502, 2503, 2504, 2505, 2506, 2507, 2508, 2509, 2510, 2511, 2512, 2513, 2514, 2515, 2516, 2517, 2518, 2519, 2520, 2521, 2522, 2523, 2524, 2525, 2526, 2527, 2528, 2529, 2530, 2531, 2532, 2533, 2534, 2535, 2536, 2537, 2538, 2539, 2540, 2541, 2542, 2543, 2544, 2545, 2546]\n",
            "[782, 783, 784, 785, 786, 787, 788, 789, 790, 791, 792, 793, 794, 795, 796, 797, 798, 799, 800, 801, 802, 803, 804, 805, 806, 807, 808, 809, 810, 811, 812, 813, 814, 815, 816, 817, 818, 819, 820, 821, 822, 823, 824, 825, 826, 827, 828, 829, 830, 831, 832, 833, 834, 835, 836, 837, 838, 839, 840, 841, 842, 843, 844, 845, 846, 847, 848, 849, 850, 851, 852, 853, 854, 855, 856, 857, 858, 859, 860, 861, 862, 863, 864, 865, 866, 867, 868, 869, 870, 871, 872, 873, 874, 875, 876, 877, 878, 879, 880, 881, 882, 883, 884, 885, 886, 887, 888, 889, 890, 891, 892, 893, 894, 895, 896, 897, 898, 899, 900, 901, 902, 903, 904, 905, 906, 907, 908, 909, 910, 911, 912, 913, 914, 915, 916, 917, 918, 919, 920, 921, 922, 923, 924, 925, 926, 927, 928, 929, 930, 931, 932, 933, 934, 935, 936, 937, 938, 939, 940, 941, 942, 943, 944, 945, 946, 947, 948, 949, 950, 951, 952, 953, 954, 955, 956, 957, 958, 959, 960, 961, 962, 963, 964, 965, 966, 967, 968, 969, 970, 971, 972, 973, 974, 975, 976, 977, 978, 979, 980, 981, 982, 983, 984, 985, 986, 987, 988, 989, 990, 991, 992, 993, 994, 995, 996, 997, 998, 999, 1000, 1001, 1002, 1003, 1004, 1005, 1006, 1007, 1008, 1009, 1010, 1011, 1012, 1013, 1014, 1015, 1016, 1017, 1018, 1019, 1020, 1021, 1022, 1023, 1024, 1025, 1026, 1027, 1028, 1029, 1030, 1031, 1032, 1033, 1034, 1035, 1036, 1037, 1038, 1039, 1040, 1041, 1042, 1043, 1044, 1045, 1046, 1047, 1048, 1049, 1050, 1051, 1052, 1053, 1054, 1055, 1056, 1057, 1058, 1059, 1060, 1061, 1062, 1063, 1064, 1065, 1066, 1067, 1068, 1069, 1070, 1071, 1072, 1073, 1074, 1075, 1076, 1077, 1078, 1079, 1080, 1081, 1082, 1083, 1084, 1085, 1086, 1087, 1088, 1089, 1090, 1091, 1092, 1093, 1094, 1095, 1096, 1097, 1098, 1099, 1100, 1101, 1102, 1103, 1104, 1105, 1106, 1107, 1108, 1109, 1110, 1111, 1112, 1113, 1114, 1115, 1116, 1117, 1118, 1119, 1120, 1121, 1122, 1123, 1124, 1125, 1126, 1127, 1128, 1129, 1130, 1131, 1132, 1133, 1134, 1135, 1136, 1137, 1138, 1139, 1140, 1141, 1142, 1143, 1144, 1145, 1146, 1147, 1148, 1149, 1150, 1151, 1152, 1153, 1154, 1155, 1156, 1157, 1158, 1159, 1160, 1161, 1162, 1163, 1164, 1165, 1166, 1167, 1168, 1169, 1170, 1171, 1172, 1173, 1174, 1175, 1176, 1177, 1178, 1179, 1180, 1181, 1182, 1183, 1184, 1185, 1186, 1187, 1188, 1189, 1190, 1191, 1192, 1193, 1194, 1195, 1196, 1197, 1198, 1199, 1200, 1201, 1202, 1203, 1204, 1205, 1206, 1207, 1208, 1209, 1210, 1211, 1212, 1213, 1214, 1215, 1216, 1217, 1218, 1219, 1220, 1221, 1222, 1223, 1224, 1225, 1226, 1227, 1228, 1229, 1230, 1231, 1232, 1233, 1234, 1235, 1236, 1237, 1238, 1239, 1240, 1241, 1242, 1243, 1244, 1245, 1246, 1247, 1248, 1249, 1250, 1251, 1252, 1253, 1254, 1255, 1256, 1257, 1258, 1259, 1260, 1261, 1262, 1263, 1264, 1265, 1266, 1267, 1268, 1269, 1270, 1271, 1272, 1273, 1274, 1275, 1276, 1277, 1278, 1279, 1280, 1281, 1282, 1283, 1284, 1285, 1286, 1287, 1288, 1289, 1290, 1291, 1292, 1293, 1294, 1295, 1296, 1297, 1298, 1299, 1300, 1301, 1302, 1303, 1304, 1305, 1306, 1307, 1308, 1309, 1310, 1311, 1312, 1313, 1314, 1315, 1316, 1317, 1318, 1319, 1320, 1321, 1322, 1323, 1324, 1325, 1326, 1327, 1328, 1329, 1330, 1331, 1332, 1333, 1334, 1335, 1336, 1337, 1338, 1339, 1340, 1341, 1342, 1343, 1344, 1345, 1346, 1347, 1348, 1349, 1350, 1351, 1352, 1353, 1354, 1355, 1356, 1357, 1358, 1359, 1360, 1361, 1362, 1363, 1364, 1365, 1493, 1494, 1495, 1496, 1497, 1498, 1499, 1500, 1501, 1502, 1503, 1504, 1505, 1506, 1507, 1508, 1509, 1510, 1511, 1512, 1513, 1514, 1515, 1516, 1517, 1518, 1519, 1520, 1521, 1522, 1523, 1524, 1525, 1526, 1527, 1528, 1529, 1530, 1531, 1532, 1533, 1534, 1535, 1536, 1537, 1538, 1539, 1540, 1541, 1542, 1543, 1544, 1545, 1546, 1547, 1548, 1549, 1550, 1551, 1552, 1553, 1554, 1555, 1556, 1557, 1558, 1559, 1560, 1561, 1562, 1563, 1564, 1565, 1566, 1567, 1568, 1569, 1570, 1571, 1572, 1573, 1574, 1575, 1576, 1577, 1578, 1655, 1656, 1657, 1658, 1659, 1660, 1661, 1662, 1663, 1664, 1665, 1666, 1667, 1668, 1669, 1670, 1671, 1672, 1673, 1674, 1675, 1676, 1677, 1678, 1679, 1680, 1681, 1682, 1683, 1684, 1685, 1686, 1687, 1688, 1689, 1690, 1691, 1692, 1693, 1694, 1695, 1696, 1697, 1698, 1699, 1700, 1701, 1702, 1703, 1704, 1705, 1706, 1707, 1708, 1709, 1710, 1711, 1712, 1713, 1714, 1715, 1716, 1717, 1718, 1719, 1720, 1721, 1722, 1723, 1724, 1725, 1726, 1727, 1728, 1729, 1730, 1731, 1732, 1733, 1734, 1735, 1736, 1737, 1738, 1739, 1740, 1741, 1742, 1743, 1744, 1745, 1746, 1747, 1748, 1749, 1750, 1751, 1752, 1753, 1754, 1755, 1756, 1757, 1758, 1759, 1760, 1761, 1762, 1763, 1764, 1765, 1766, 1767, 1768, 1769, 1770, 1771, 1772, 1773, 1774, 1775, 1776, 1777, 1778, 1779, 1780, 1781, 1782, 1783, 1784, 1785, 1786, 1787, 1788, 1789, 1790, 1791, 1792, 1793, 1794, 1795, 1796, 1797, 1798, 1799, 1800, 1801, 1802, 1803, 1804, 1805, 1806, 1807, 1952, 1953, 1954, 1955, 1956, 1957, 1958, 1959, 1960, 1961, 1962, 1963, 1964, 1965, 1966, 1967, 1968, 1969, 1970, 1971, 1972, 1973, 1974, 1975, 1976, 1977, 1978, 1979, 1980, 1981, 1982, 1983, 1984, 1985, 1986, 1987, 1988, 1989, 1990, 1991, 1992, 1993, 1994, 1995, 1996, 1997, 1998, 1999, 2000, 2001, 2002, 2003, 2004, 2005, 2006, 2007, 2008, 2009, 2010, 2011, 2012, 2013, 2014, 2015, 2016, 2017, 2018, 2019, 2020, 2021, 2022, 2023, 2024, 2025, 2026, 2027, 2028, 2029, 2030, 2031, 2032, 2033, 2034, 2035, 2036, 2037, 2038, 2039, 2040, 2041, 2042, 2043, 2044, 2045, 2046, 2047, 2048, 2049, 2050, 2051, 2052, 2053, 2054, 2055, 2056, 2057, 2058, 2059, 2060, 2061, 2062, 2063, 2064, 2065, 2066, 2067, 2068, 2069, 2070, 2071, 2072, 2073, 2074, 2075, 2076, 2077, 2078, 2079, 2080, 2081, 2082, 2083, 2084, 2085, 2086, 2087, 2088, 2089, 2090, 2091, 2092, 2093, 2094, 2095, 2096, 2097, 2098, 2099, 2100, 2101, 2102, 2103, 2104, 2105, 2106, 2107, 2108, 2109, 2110, 2111, 2112, 2113, 2114, 2115, 2116, 2117, 2118, 2119, 2120, 2121, 2122, 2123, 2124, 2125, 2126, 2127, 2128, 2129, 2130, 2131, 2132, 2133, 2134, 2135, 2136, 2137, 2138, 2139, 2140, 2141, 2142, 2143, 2144, 2145, 2146, 2147, 2148, 2149, 2150, 2151, 2152, 2153, 2154, 2155, 2156, 2157, 2158, 2159, 2160, 2161, 2162, 2163, 2164, 2165, 2166, 2167, 2168, 2169, 2170, 2171, 2172, 2173, 2174, 2175, 2176, 2177, 2178, 2179, 2180, 2181, 2182, 2183, 2184, 2185, 2186, 2187, 2188, 2189, 2190, 2191, 2192, 2193, 2194, 2195, 2196, 2197, 2198, 2199, 2200, 2201, 2202, 2203, 2204, 2205, 2206, 2207, 2208, 2209, 2210, 2211, 2212, 2213, 2214, 2215, 2216, 2217, 2218, 2219, 2220, 2221, 2222, 2223, 2224, 2225, 2226, 2227, 2228, 2229, 2230, 2231, 2232, 2233, 2234, 2235, 2236, 2237, 2238, 2239, 2240, 2241, 2242, 2243, 2244, 2245, 2246, 2247, 2248, 2249, 2250, 2251, 2252, 2253, 2254, 2255, 2256, 2257, 2258, 2259, 2260, 2261, 2262, 2263, 2264, 2265, 2266, 2267, 2268, 2269, 2270, 2271, 2272, 2273, 2274, 2275, 2276, 2277, 2278, 2279, 2280, 2281, 2282, 2283, 2284, 2285, 2286, 2287, 2288, 2289, 2290, 2291, 2292, 2293, 2294, 2295, 2296, 2297, 2298, 2299, 2300, 2301, 2302, 2303, 2304, 2305, 2306, 2307, 2308, 2309, 2310, 2311, 2312, 2313, 2314, 2315, 2316, 2317, 2318, 2319, 2320, 2321, 2322, 2323, 2324, 2325, 2326, 2327, 2328, 2329, 2330, 2331, 2332, 2333, 2334, 2335, 2336, 2337, 2338, 2339, 2340, 2341, 2342, 2343, 2344, 2345, 2346, 2347, 2348, 2349, 2350, 2351, 2352, 2353, 2354, 2355, 2356, 2357, 2358, 2359, 2360, 2361, 2362, 2363, 2364, 2365, 2366, 2367, 2368, 2369, 2370, 2371, 2372, 2373, 2374, 2375, 2376, 2377, 2378, 2379, 2380, 2381, 2382, 2383, 2384, 2385, 2386, 2387, 2388, 2389, 2390, 2391, 2392, 2393, 2394, 2395, 2396, 2397, 2398, 2399, 2400, 2401, 2402, 2403, 2404, 2405, 2406, 2407, 2408, 2409, 2410, 2411, 2412, 2413, 2414, 2415, 2416, 2417, 2418, 2419, 2420, 2421, 2422, 2423, 2424, 2425, 2426, 2427, 2428, 2429, 2430, 2431, 2432, 2433, 2434, 2435, 2436, 2437, 2438, 2439, 2440, 2441, 2442, 2443, 2444, 2445, 2446, 2447, 2448, 2449, 2450, 2451, 2452, 2453, 2454, 2455, 2456, 2457, 2458, 2459, 2460, 2461, 2462, 2463, 2464, 2465, 2466, 2467, 2468, 2469, 2470, 2471, 2472, 2473, 2474, 2475, 2476, 2477, 2478, 2479, 2480, 2481, 2482, 2483, 2484, 2485, 2486, 2487, 2488, 2489, 2490, 2491, 2492, 2493, 2494, 2495, 2496, 2497, 2498, 2499, 2500, 2501, 2502, 2503, 2504, 2505, 2506, 2507, 2508, 2509, 2510, 2511, 2512, 2513, 2514, 2515, 2516, 2517, 2518, 2519, 2520, 2521, 2522, 2523, 2524, 2525, 2526, 2527, 2528, 2529, 2530, 2531, 2532, 2533, 2534, 2535, 2536, 2537, 2538, 2539, 2540, 2541, 2542, 2543, 2544, 2545, 2546, 782, 783, 784, 785, 786, 787, 788, 789, 790, 791, 792, 793, 794, 795, 796, 797, 798, 799, 800, 801, 802, 803, 804, 805, 806, 807, 808, 809, 810, 811, 812, 813, 814, 815, 816, 817, 818, 819, 820, 821, 822, 823, 824, 825, 826, 827, 828, 829, 830, 831, 832, 833, 834, 835, 836, 837, 838, 839, 840, 841, 842, 843, 844, 845, 846, 847, 848, 849, 850, 851, 852, 853, 854, 855, 856, 857, 858, 859, 860, 861, 862, 863, 864, 865, 866, 867, 868, 869, 870, 871, 872, 873, 874, 875, 876, 877, 878, 879, 880, 881, 882, 883, 884, 885, 886, 887, 888, 889, 890, 891, 892, 893, 894, 895, 896, 897, 898, 899, 900, 901, 902, 903, 904, 905, 906, 907, 908, 909, 910, 911, 912, 913, 914, 915, 916, 917, 918, 919, 920, 921, 922, 923, 924, 925, 926, 927, 928, 929, 930, 931, 932, 933, 934, 935, 936, 937, 938, 939, 940, 941, 942, 943, 944, 945, 946, 947, 948, 949, 950, 951, 952, 953, 954, 955, 956, 957, 958, 959, 960, 961, 962, 963, 964, 965, 966, 967, 968, 969, 970, 971, 972, 973, 974, 975, 976, 977, 978, 979, 980, 981, 982, 983, 984, 985, 986, 987, 988, 989, 990, 991, 992, 993, 994, 995, 996, 997, 998, 999, 1000, 1001, 1002, 1003, 1004, 1005, 1006, 1007, 1008, 1009, 1010, 1011, 1012, 1013, 1014, 1015, 1016, 1017, 1018, 1019, 1020, 1021, 1022, 1023, 1024, 1025, 1026, 1027, 1028, 1029, 1030, 1031, 1032, 1033, 1034, 1035, 1036, 1037, 1038, 1039, 1040, 1041, 1042, 1043, 1044, 1045, 1046, 1047, 1048, 1049, 1050, 1051, 1052, 1053, 1054, 1055, 1056, 1057, 1058, 1059, 1060, 1061, 1062, 1063, 1064, 1065, 1066, 1067, 1068, 1069, 1070, 1071, 1072, 1073, 1074, 1075, 1076, 1077, 1078, 1079, 1080, 1081, 1082, 1083, 1084, 1085, 1086, 1087, 1088, 1089, 1090, 1091, 1092, 1093, 1094, 1095, 1096, 1097, 1098, 1099, 1100, 1101, 1102, 1103, 1104, 1105, 1106, 1107, 1108, 1109, 1110, 1111, 1112, 1113, 1114, 1115, 1116, 1117, 1118, 1119, 1120, 1121, 1122, 1123, 1124, 1125, 1126, 1127, 1128, 1129, 1130, 1131, 1132, 1133, 1134, 1135, 1136, 1137, 1138, 1139, 1140, 1141, 1142, 1143, 1144, 1145, 1146, 1147, 1148, 1149, 1150, 1151, 1152, 1153, 1154, 1155, 1156, 1157, 1158, 1159, 1160, 1161, 1162, 1163, 1164, 1165, 1166, 1167, 1168, 1169, 1170, 1171, 1172, 1173, 1174, 1175, 1176, 1177, 1178, 1179, 1180, 1181, 1182, 1183, 1184, 1185, 1186, 1187, 1188, 1189, 1190, 1191, 1192, 1193, 1194, 1195, 1196, 1197, 1198, 1199, 1200, 1201, 1202, 1203, 1204, 1205, 1206, 1207, 1208, 1209, 1210, 1211, 1212, 1213, 1214, 1215, 1216, 1217, 1218, 1219, 1220, 1221, 1222, 1223, 1224, 1225, 1226, 1227, 1228, 1229, 1230, 1231, 1232, 1233, 1234, 1235, 1236, 1237, 1238, 1239, 1240, 1241, 1242, 1243, 1244, 1245, 1246, 1247, 1248, 1249, 1250, 1251, 1252, 1253, 1254, 1255, 1256, 1257, 1258, 1259, 1260, 1261, 1262, 1263, 1264, 1265, 1266, 1267, 1268, 1269, 1270, 1271, 1272, 1273, 1274, 1275, 1276, 1277, 1278, 1279, 1280, 1281, 1282, 1283, 1284, 1285, 1286, 1287, 1288, 1289, 1290, 1291, 1292, 1293, 1294, 1295, 1296, 1297, 1298, 1299, 1300, 1301, 1302, 1303, 1304, 1305, 1306, 1307, 1308, 1309, 1310, 1311, 1312, 1313, 1314, 1315, 1316, 1317, 1318, 1319, 1320, 1321, 1322, 1323, 1324, 1325, 1326, 1327, 1328, 1329, 1330, 1331, 1332, 1333, 1334, 1335, 1336, 1337, 1338, 1339, 1340, 1341, 1342, 1343, 1344, 1345, 1346, 1347, 1348, 1349, 1350, 1351, 1352, 1353, 1354, 1355, 1356, 1357, 1358, 1359, 1360, 1361, 1362, 1363, 1364, 1365, 1493, 1494, 1495, 1496, 1497, 1498, 1499, 1500, 1501, 1502, 1503, 1504, 1505, 1506, 1507, 1508, 1509, 1510, 1511, 1512, 1513, 1514, 1515, 1516, 1517, 1518, 1519, 1520, 1521, 1522, 1523, 1524, 1525, 1526, 1527, 1528, 1529, 1530, 1531, 1532, 1533, 1534, 1535, 1536, 1537, 1538, 1539, 1540, 1541, 1542, 1543, 1544, 1545, 1546, 1547, 1548, 1549, 1550, 1551, 1552, 1553, 1554, 1555, 1556, 1557, 1558, 1559, 1560, 1561, 1562, 1563, 1564, 1565, 1566, 1567, 1568, 1569, 1570, 1571, 1572, 1573, 1574, 1575, 1576, 1577, 1578, 1655, 1656, 1657, 1658, 1659, 1660, 1661, 1662, 1663, 1664, 1665, 1666, 1667, 1668, 1669, 1670, 1671, 1672, 1673, 1674, 1675, 1676, 1677, 1678, 1679, 1680, 1681, 1682, 1683, 1684, 1685, 1686, 1687, 1688, 1689, 1690, 1691, 1692, 1693, 1694, 1695, 1696, 1697, 1698, 1699, 1700, 1701, 1702, 1703, 1704, 1705, 1706, 1707, 1708, 1709, 1710, 1711, 1712, 1713, 1714, 1715, 1716, 1717, 1718, 1719, 1720, 1721, 1722, 1723, 1724, 1725, 1726, 1727, 1728, 1729, 1730, 1731, 1732, 1733, 1734, 1735, 1736, 1737, 1738, 1739, 1740, 1741, 1742, 1743, 1744, 1745, 1746, 1747, 1748, 1749, 1750, 1751, 1752, 1753, 1754, 1755, 1756, 1757, 1758, 1759, 1760, 1761, 1762, 1763, 1764, 1765, 1766, 1767, 1768, 1769, 1770, 1771, 1772, 1773, 1774, 1775, 1776, 1777, 1778, 1779, 1780, 1781, 1782, 1783, 1784, 1785, 1786, 1787, 1788, 1789, 1790, 1791, 1792, 1793, 1794, 1795, 1796, 1797, 1798, 1799, 1800, 1801, 1802, 1803, 1804, 1805, 1806, 1807, 1952, 1953, 1954, 1955, 1956, 1957, 1958, 1959, 1960, 1961, 1962, 1963, 1964, 1965, 1966, 1967, 1968, 1969, 1970, 1971, 1972, 1973, 1974, 1975, 1976, 1977, 1978, 1979, 1980, 1981, 1982, 1983, 1984, 1985, 1986, 1987, 1988, 1989, 1990, 1991, 1992, 1993, 1994, 1995, 1996, 1997, 1998, 1999, 2000, 2001, 2002, 2003, 2004, 2005, 2006, 2007, 2008, 2009, 2010, 2011, 2012, 2013, 2014, 2015, 2016, 2017, 2018, 2019, 2020, 2021, 2022, 2023, 2024, 2025, 2026, 2027, 2028, 2029, 2030, 2031, 2032, 2033, 2034, 2035, 2036, 2037, 2038, 2039, 2040, 2041, 2042, 2043, 2044, 2045, 2046, 2047, 2048, 2049, 2050, 2051, 2052, 2053, 2054, 2055, 2056, 2057, 2058, 2059, 2060, 2061, 2062, 2063, 2064, 2065, 2066, 2067, 2068, 2069, 2070, 2071, 2072, 2073, 2074, 2075, 2076, 2077, 2078, 2079, 2080, 2081, 2082, 2083, 2084, 2085, 2086, 2087, 2088, 2089, 2090, 2091, 2092, 2093, 2094, 2095, 2096, 2097, 2098, 2099, 2100, 2101, 2102, 2103, 2104, 2105, 2106, 2107, 2108, 2109, 2110, 2111, 2112, 2113, 2114, 2115, 2116, 2117, 2118, 2119, 2120, 2121, 2122, 2123, 2124, 2125, 2126, 2127, 2128, 2129, 2130, 2131, 2132, 2133, 2134, 2135, 2136, 2137, 2138, 2139, 2140, 2141, 2142, 2143, 2144, 2145, 2146, 2147, 2148, 2149, 2150, 2151, 2152, 2153, 2154, 2155, 2156, 2157, 2158, 2159, 2160, 2161, 2162, 2163, 2164, 2165, 2166, 2167, 2168, 2169, 2170, 2171, 2172, 2173, 2174, 2175, 2176, 2177, 2178, 2179, 2180, 2181, 2182, 2183, 2184, 2185, 2186, 2187, 2188, 2189, 2190, 2191, 2192, 2193, 2194, 2195, 2196, 2197, 2198, 2199, 2200, 2201, 2202, 2203, 2204, 2205, 2206, 2207, 2208, 2209, 2210, 2211, 2212, 2213, 2214, 2215, 2216, 2217, 2218, 2219, 2220, 2221, 2222, 2223, 2224, 2225, 2226, 2227, 2228, 2229, 2230, 2231, 2232, 2233, 2234, 2235, 2236, 2237, 2238, 2239, 2240, 2241, 2242, 2243, 2244, 2245, 2246, 2247, 2248, 2249, 2250, 2251, 2252, 2253, 2254, 2255, 2256, 2257, 2258, 2259, 2260, 2261, 2262, 2263, 2264, 2265, 2266, 2267, 2268, 2269, 2270, 2271, 2272, 2273, 2274, 2275, 2276, 2277, 2278, 2279, 2280, 2281, 2282, 2283, 2284, 2285, 2286, 2287, 2288, 2289, 2290, 2291, 2292, 2293, 2294, 2295, 2296, 2297, 2298, 2299, 2300, 2301, 2302, 2303, 2304, 2305, 2306, 2307, 2308, 2309, 2310, 2311, 2312, 2313, 2314, 2315, 2316, 2317, 2318, 2319, 2320, 2321, 2322, 2323, 2324, 2325, 2326, 2327, 2328, 2329, 2330, 2331, 2332, 2333, 2334, 2335, 2336, 2337, 2338, 2339, 2340, 2341, 2342, 2343, 2344, 2345, 2346, 2347, 2348, 2349, 2350, 2351, 2352, 2353, 2354, 2355, 2356, 2357, 2358, 2359, 2360, 2361, 2362, 2363, 2364, 2365, 2366, 2367, 2368, 2369, 2370, 2371, 2372, 2373, 2374, 2375, 2376, 2377, 2378, 2379, 2380, 2381, 2382, 2383, 2384, 2385, 2386, 2387, 2388, 2389, 2390, 2391, 2392, 2393, 2394, 2395, 2396, 2397, 2398, 2399, 2400, 2401, 2402, 2403, 2404, 2405, 2406, 2407, 2408, 2409, 2410, 2411, 2412, 2413, 2414, 2415, 2416, 2417, 2418, 2419, 2420, 2421, 2422, 2423, 2424, 2425, 2426, 2427, 2428, 2429, 2430, 2431, 2432, 2433, 2434, 2435, 2436, 2437, 2438, 2439, 2440, 2441, 2442, 2443, 2444, 2445, 2446, 2447, 2448, 2449, 2450, 2451, 2452, 2453, 2454, 2455, 2456, 2457, 2458, 2459, 2460, 2461, 2462, 2463, 2464, 2465, 2466, 2467, 2468, 2469, 2470, 2471, 2472, 2473, 2474, 2475, 2476, 2477, 2478, 2479, 2480, 2481, 2482, 2483, 2484, 2485, 2486, 2487, 2488, 2489, 2490, 2491, 2492, 2493, 2494, 2495, 2496, 2497, 2498, 2499, 2500, 2501, 2502, 2503, 2504, 2505, 2506, 2507, 2508, 2509, 2510, 2511, 2512, 2513, 2514, 2515, 2516, 2517, 2518, 2519, 2520, 2521, 2522, 2523, 2524, 2525, 2526, 2527, 2528, 2529, 2530, 2531, 2532, 2533, 2534, 2535, 2536, 2537, 2538, 2539, 2540, 2541, 2542, 2543, 2544, 2545, 2546, 782, 783, 784, 785, 786, 787, 788, 789, 790, 791, 792, 793, 794, 795, 796, 797, 798, 799, 800, 801, 802, 803, 804, 805, 806, 807, 808, 809, 810, 811, 812, 813, 814, 815, 816, 817, 818, 819, 820, 821, 822, 823, 824, 825, 826, 827, 828, 829, 830, 831, 832, 833, 834, 835, 836, 837, 838, 839, 840, 841, 842, 843, 844, 845, 846, 847, 848, 849, 850, 851, 852, 853, 854, 855, 856, 857, 858, 859, 860, 861, 862, 863, 864, 865, 866, 867, 868, 869, 870, 871, 872, 873, 874, 875, 876, 877, 878, 879, 880, 881, 882, 883, 884, 885, 886, 887, 888, 889, 890, 891, 892, 893, 894, 895, 896, 897, 898, 899, 900, 901, 902, 903, 904, 905, 906, 907, 908, 909, 910, 911, 912, 913, 914, 915, 916, 917, 918, 919, 920, 921, 922, 923, 924, 925, 926, 927, 928, 929, 930, 931, 932, 933, 934, 935, 936, 937, 938, 939, 940, 941, 942, 943, 944, 945, 946, 947, 948, 949, 950, 951, 952, 953, 954, 955, 956, 957, 958, 959, 960, 961, 962, 963, 964, 965, 966, 967, 968, 969, 970, 971, 972, 973, 974, 975, 976, 977, 978, 979, 980, 981, 982, 983, 984, 985, 986, 987, 988, 989, 990, 991, 992, 993, 994, 995, 996, 997, 998, 999, 1000, 1001, 1002, 1003, 1004, 1005, 1006, 1007, 1008, 1009, 1010, 1011, 1012, 1013, 1014, 1015, 1016, 1017, 1018, 1019, 1020, 1021, 1022, 1023, 1024, 1025, 1026, 1027, 1028, 1029, 1030, 1031, 1032, 1033, 1034, 1035, 1036, 1037, 1038, 1039, 1040, 1041, 1042, 1043, 1044, 1045, 1046, 1047, 1048, 1049, 1050, 1051, 1052, 1053, 1054, 1055, 1056, 1057, 1058, 1059, 1060, 1061, 1062, 1063, 1064, 1065, 1066, 1067, 1068, 1069, 1070, 1071, 1072, 1073, 1074, 1075, 1076, 1077, 1078, 1079, 1080, 1081, 1082, 1083, 1084, 1085, 1086, 1087, 1088, 1089, 1090, 1091, 1092, 1093, 1094, 1095, 1096, 1097, 1098, 1099, 1100, 1101, 1102, 1103, 1104, 1105, 1106, 1107, 1108, 1109, 1110, 1111, 1112, 1113, 1114, 1115, 1116, 1117, 1118, 1119, 1120, 1121, 1122, 1123, 1124, 1125, 1126, 1127, 1128, 1129, 1130, 1131, 1132, 1133, 1134, 1135, 1136, 1137, 1138, 1139, 1140, 1141, 1142, 1143, 1144, 1145, 1146, 1147, 1148, 1149, 1150, 1151, 1152, 1153, 1154, 1155, 1156, 1157, 1158, 1159, 1160, 1161, 1162, 1163, 1164, 1165, 1166, 1167, 1168, 1169, 1170, 1171, 1172, 1173, 1174, 1175, 1176, 1177, 1178, 1179, 1180, 1181, 1182, 1183, 1184, 1185, 1186, 1187, 1188, 1189, 1190, 1191, 1192, 1193, 1194, 1195, 1196, 1197, 1198, 1199, 1200, 1201, 1202, 1203, 1204, 1205, 1206, 1207, 1208, 1209, 1210, 1211, 1212, 1213, 1214, 1215, 1216, 1217, 1218, 1219, 1220, 1221, 1222, 1223, 1224, 1225, 1226, 1227, 1228, 1229, 1230, 1231, 1232, 1233, 1234, 1235, 1236, 1237, 1238, 1239, 1240, 1241, 1242, 1243, 1244, 1245, 1246, 1247, 1248, 1249, 1250, 1251, 1252, 1253, 1254, 1255, 1256, 1257, 1258, 1259, 1260, 1261, 1262, 1263, 1264, 1265, 1266, 1267, 1268, 1269, 1270, 1271, 1272, 1273, 1274, 1275, 1276, 1277, 1278, 1279, 1280, 1281, 1282, 1283, 1284, 1285, 1286, 1287, 1288, 1289, 1290, 1291, 1292, 1293, 1294, 1295, 1296, 1297, 1298, 1299, 1300, 1301, 1302, 1303, 1304, 1305, 1306, 1307, 1308, 1309, 1310, 1311, 1312, 1313, 1314, 1315, 1316, 1317, 1318, 1319, 1320, 1321, 1322, 1323, 1324, 1325, 1326, 1327, 1328, 1329, 1330, 1331, 1332, 1333, 1334, 1335, 1336, 1337, 1338, 1339, 1340, 1341, 1342, 1343, 1344, 1345, 1346, 1347, 1348, 1349, 1350, 1351, 1352, 1353, 1354, 1355, 1356, 1357, 1358, 1359, 1360, 1361, 1362, 1363, 1364, 1365, 1493, 1494, 1495, 1496, 1497, 1498, 1499, 1500, 1501, 1502, 1503, 1504, 1505, 1506, 1507, 1508, 1509, 1510, 1511, 1512, 1513, 1514, 1515, 1516, 1517, 1518, 1519, 1520, 1521, 1522, 1523, 1524, 1525, 1526, 1527, 1528, 1529, 1530, 1531, 1532, 1533, 1534, 1535, 1536, 1537, 1538, 1539, 1540, 1541, 1542, 1543, 1544, 1545, 1546, 1547, 1548, 1549, 1550, 1551, 1552, 1553, 1554, 1555, 1556, 1557, 1558, 1559, 1560, 1561, 1562, 1563, 1564, 1565, 1566, 1567, 1568, 1569, 1570, 1571, 1572, 1573, 1574, 1575, 1576, 1577, 1578, 1655, 1656, 1657, 1658, 1659, 1660, 1661, 1662, 1663, 1664, 1665, 1666, 1667, 1668, 1669, 1670, 1671, 1672, 1673, 1674, 1675, 1676, 1677, 1678, 1679, 1680, 1681, 1682, 1683, 1684, 1685, 1686, 1687, 1688, 1689, 1690, 1691, 1692, 1693, 1694, 1695, 1696, 1697, 1698, 1699, 1700, 1701, 1702, 1703, 1704, 1705, 1706, 1707, 1708, 1709, 1710, 1711, 1712, 1713, 1714, 1715, 1716, 1717, 1718, 1719, 1720, 1721, 1722, 1723, 1724, 1725, 1726, 1727, 1728, 1729, 1730, 1731, 1732, 1733, 1734, 1735, 1736, 1737, 1738, 1739, 1740, 1741, 1742, 1743, 1744, 1745, 1746, 1747, 1748, 1749, 1750, 1751, 1752, 1753, 1754, 1755, 1756, 1757, 1758, 1759, 1760, 1761, 1762, 1763, 1764, 1765, 1766, 1767, 1768, 1769, 1770, 1771, 1772, 1773, 1774, 1775, 1776, 1777, 1778, 1779, 1780, 1781, 1782, 1783, 1784, 1785, 1786, 1787, 1788, 1789, 1790, 1791, 1792, 1793, 1794, 1795, 1796, 1797, 1798, 1799, 1800, 1801, 1802, 1803, 1804, 1805, 1806, 1807, 1952, 1953, 1954, 1955, 1956, 1957, 1958, 1959, 1960, 1961, 1962, 1963, 1964, 1965, 1966, 1967, 1968, 1969, 1970, 1971, 1972, 1973, 1974, 1975, 1976, 1977, 1978, 1979, 1980, 1981, 1982, 1983, 1984, 1985, 1986, 1987, 1988, 1989, 1990, 1991, 1992, 1993, 1994, 1995, 1996, 1997, 1998, 1999, 2000, 2001, 2002, 2003, 2004, 2005, 2006, 2007, 2008, 2009, 2010, 2011, 2012, 2013, 2014, 2015, 2016, 2017, 2018, 2019, 2020, 2021, 2022, 2023, 2024, 2025, 2026, 2027, 2028, 2029, 2030, 2031, 2032, 2033, 2034, 2035, 2036, 2037, 2038, 2039, 2040, 2041, 2042, 2043, 2044, 2045, 2046, 2047, 2048, 2049, 2050, 2051, 2052, 2053, 2054, 2055, 2056, 2057, 2058, 2059, 2060, 2061, 2062, 2063, 2064, 2065, 2066, 2067, 2068, 2069, 2070, 2071, 2072, 2073, 2074, 2075, 2076, 2077, 2078, 2079, 2080, 2081, 2082, 2083, 2084, 2085, 2086, 2087, 2088, 2089, 2090, 2091, 2092, 2093, 2094, 2095, 2096, 2097, 2098, 2099, 2100, 2101, 2102, 2103, 2104, 2105, 2106, 2107, 2108, 2109, 2110, 2111, 2112, 2113, 2114, 2115, 2116, 2117, 2118, 2119, 2120, 2121, 2122, 2123, 2124, 2125, 2126, 2127, 2128, 2129, 2130, 2131, 2132, 2133, 2134, 2135, 2136, 2137, 2138, 2139, 2140, 2141, 2142, 2143, 2144, 2145, 2146, 2147, 2148, 2149, 2150, 2151, 2152, 2153, 2154, 2155, 2156, 2157, 2158, 2159, 2160, 2161, 2162, 2163, 2164, 2165, 2166, 2167, 2168, 2169, 2170, 2171, 2172, 2173, 2174, 2175, 2176, 2177, 2178, 2179, 2180, 2181, 2182, 2183, 2184, 2185, 2186, 2187, 2188, 2189, 2190, 2191, 2192, 2193, 2194, 2195, 2196, 2197, 2198, 2199, 2200, 2201, 2202, 2203, 2204, 2205, 2206, 2207, 2208, 2209, 2210, 2211, 2212, 2213, 2214, 2215, 2216, 2217, 2218, 2219, 2220, 2221, 2222, 2223, 2224, 2225, 2226, 2227, 2228, 2229, 2230, 2231, 2232, 2233, 2234, 2235, 2236, 2237, 2238, 2239, 2240, 2241, 2242, 2243, 2244, 2245, 2246, 2247, 2248, 2249, 2250, 2251, 2252, 2253, 2254, 2255, 2256, 2257, 2258, 2259, 2260, 2261, 2262, 2263, 2264, 2265, 2266, 2267, 2268, 2269, 2270, 2271, 2272, 2273, 2274, 2275, 2276, 2277, 2278, 2279, 2280, 2281, 2282, 2283, 2284, 2285, 2286, 2287, 2288, 2289, 2290, 2291, 2292, 2293, 2294, 2295, 2296, 2297, 2298, 2299, 2300, 2301, 2302, 2303, 2304, 2305, 2306, 2307, 2308, 2309, 2310, 2311, 2312, 2313, 2314, 2315, 2316, 2317, 2318, 2319, 2320, 2321, 2322, 2323, 2324, 2325, 2326, 2327, 2328, 2329, 2330, 2331, 2332, 2333, 2334, 2335, 2336, 2337, 2338, 2339, 2340, 2341, 2342, 2343, 2344, 2345, 2346, 2347, 2348, 2349, 2350, 2351, 2352, 2353, 2354, 2355, 2356, 2357, 2358, 2359, 2360, 2361, 2362, 2363, 2364, 2365, 2366, 2367, 2368, 2369, 2370, 2371, 2372, 2373, 2374, 2375, 2376, 2377, 2378, 2379, 2380, 2381, 2382, 2383, 2384, 2385, 2386, 2387, 2388, 2389, 2390, 2391, 2392, 2393, 2394, 2395, 2396, 2397, 2398, 2399, 2400, 2401, 2402, 2403, 2404, 2405, 2406, 2407, 2408, 2409, 2410, 2411, 2412, 2413, 2414, 2415, 2416, 2417, 2418, 2419, 2420, 2421, 2422, 2423, 2424, 2425, 2426, 2427, 2428, 2429, 2430, 2431, 2432, 2433, 2434, 2435, 2436, 2437, 2438, 2439, 2440, 2441, 2442, 2443, 2444, 2445, 2446, 2447, 2448, 2449, 2450, 2451, 2452, 2453, 2454, 2455, 2456, 2457, 2458, 2459, 2460, 2461, 2462, 2463, 2464, 2465, 2466, 2467, 2468, 2469, 2470, 2471, 2472, 2473, 2474, 2475, 2476, 2477, 2478, 2479, 2480, 2481, 2482, 2483, 2484, 2485, 2486, 2487, 2488, 2489, 2490, 2491, 2492, 2493, 2494, 2495, 2496, 2497, 2498, 2499, 2500, 2501, 2502, 2503, 2504, 2505, 2506, 2507, 2508, 2509, 2510, 2511, 2512, 2513, 2514, 2515, 2516, 2517, 2518, 2519, 2520, 2521, 2522, 2523, 2524, 2525, 2526, 2527, 2528, 2529, 2530, 2531, 2532, 2533, 2534, 2535, 2536, 2537, 2538, 2539, 2540, 2541, 2542, 2543, 2544, 2545, 2546]\n"
          ],
          "name": "stdout"
        }
      ]
    },
    {
      "cell_type": "code",
      "metadata": {
        "id": "L056GVL308T9",
        "colab_type": "code",
        "colab": {}
      },
      "source": [
        "?np.loadtxt"
      ],
      "execution_count": 0,
      "outputs": []
    },
    {
      "cell_type": "markdown",
      "metadata": {
        "id": "nAIDnWwkYC56",
        "colab_type": "text"
      },
      "source": [
        "While the above excel sheet provides a useful summary at a glance, we would like to have direct access to the distribution of residence times rather than just the mean max and cummulative sum over all lipids. \n",
        "\n",
        "Using the set of all individually measured residence times, we can fit a model distribution. More specifically, the reciporical of residence time would correspond to a frequency. Specifically, the reciporical of residence time gives us the corresponding unbinding frequency. \n",
        "\n",
        "This can then be used to fit an appropriate distribution (geometric distribution would be one choice) and provide a characteristic unbinding frequency (or characteristic residence time as its reciporical). More over, it can give us a bound / confidence interval of this distribution as well.\n",
        "\n",
        "We can then repeat this process for the all atom model. While CG is expected to have shorter residence times due to the notably lower membrane viscocity, we should still be able to see if the ranking and / or relative characteristic residence time / unbinding frequencies match (for each protein amino acid). If CG can rank amino acids in the correct order, based upon PIP2 residence times, then we can be confident that it is functioning well as a model for correctly predicting lipid binding sites.\n",
        "\n",
        "Below, this residence time distribution data can be exctracted from the coarse grain simulation data files which list individual PIP2 residence time observations for each protein residue (amino acid)\n",
        "\n",
        "in the Raw_PIP2_CG_residence_time_data directory, the .xvg files contain\n",
        "the 'occupancy' of each amino acid at each output time step.\n",
        "The occupancy is zero if there were no PIP2 lipids in contact\n",
        "and non-zero if there was at least one PIP2 lipid in contact.\n",
        "The first step is to extract these individual timeseries\n",
        "into a joint table."
      ]
    },
    {
      "cell_type": "markdown",
      "metadata": {
        "id": "JLW45CFReoZg",
        "colab_type": "text"
      },
      "source": [
        "# **2. Write raw occupancy data (a list of 1 and 0) to csv file**"
      ]
    },
    {
      "cell_type": "code",
      "metadata": {
        "id": "2VRP2XDTYC56",
        "colab_type": "code",
        "colab": {}
      },
      "source": [
        "#os.listdir can be used to generate a list of all xvg files present\n",
        "cg_RawData_dir=baseDir+'Raw_PIP2_CG_residence_time_data/'\n",
        "!cg_RawData_dir=baseDir+'Raw_POPS_data/calc_CG_all_lysArg/'\n",
        "cg_dataFile_list=[dataFileName for dataFileName in os.listdir(cg_RawData_dir) \\\n",
        "             if 'xvg' in dataFileName]\n",
        "cg_dataFile_list\n",
        "\n",
        "#simResid_to_pdbResid=np.loadtxt(baseDir+\"test.out\", dtype=int)\n",
        "#simResid_to_pdbResid=', '.join(map(str,simResid_to_pdbResid))\n",
        "#print simResid_to_pdbResid"
      ],
      "execution_count": 0,
      "outputs": []
    },
    {
      "cell_type": "code",
      "metadata": {
        "id": "8bNhBT--YC58",
        "colab_type": "code",
        "colab": {
          "base_uri": "https://localhost:8080/",
          "height": 270,
          "referenced_widgets": [
            "0f3b0aa01406470a945eeab37ea18992",
            "eb4424276b7244a1871d8cb3d3b18362",
            "087280a5cff24388b5040adc706f77b7",
            "ad3519909aee471fa5c7ecedfc324d67",
            "671f74ad74d84c219f56b05275d8f71f",
            "59eec8ffcb444b84a75cae9677e70647",
            "77ba71010ada471992e2da4479b9a619",
            "1e3e04579b9040ea915d9a3eb84358f7"
          ]
        },
        "outputId": "e5517643-e312-4fb8-c8b6-b16de909d2b2"
      },
      "source": [
        "#Each of the above files contains an 18 line header, followed by 2 column occupancy series\n",
        "#the data can be easily extracted using pd.read_table\n",
        "cgDataTables=[]\n",
        "for dataFileName in tqdm.tqdm_notebook(cg_dataFile_list):\n",
        "    resID=int(dataFileName.split('_')[1])\n",
        "    seqID=simResid_to_pdbResid[resID-1]\n",
        "    tempTable=pd.read_csv(\n",
        "        cg_RawData_dir+dataFileName,\n",
        "        skiprows=17,names=['Time','Occupancy'],\n",
        "        delim_whitespace=True)\n",
        "    tempTable['ResID']=resID\n",
        "    tempTable['SeqID']=seqID\n",
        "    tempTable['Frame']=np.arange(len(tempTable))\n",
        "    tempTable=tempTable[['ResID','SeqID','Frame','Time','Occupancy']]\n",
        "    cgDataTables.append(copy.deepcopy(tempTable))\n",
        "    \n",
        "cg_occupancy_data=pd.concat(cgDataTables)\n",
        "cg_occupancy_data.to_csv(baseDir+\"Coarse_Grain_PIP2_Occupancy_Data.csv\",index=False)\n",
        "print cg_occupancy_data.head()\n",
        "print cg_occupancy_data.tail()"
      ],
      "execution_count": 36,
      "outputs": [
        {
          "output_type": "display_data",
          "data": {
            "application/vnd.jupyter.widget-view+json": {
              "model_id": "0f3b0aa01406470a945eeab37ea18992",
              "version_minor": 0,
              "version_major": 2
            },
            "text/plain": [
              "HBox(children=(IntProgress(value=0, max=429), HTML(value=u'')))"
            ]
          },
          "metadata": {
            "tags": []
          }
        },
        {
          "output_type": "stream",
          "text": [
            "\n",
            "   ResID  SeqID  Frame    Time  Occupancy\n",
            "0   1997   1360      0     0.0          0\n",
            "1   1997   1360      1  1000.0          0\n",
            "2   1997   1360      2  2000.0          0\n",
            "3   1997   1360      3  3000.0          0\n",
            "4   1997   1360      4  4000.0          0\n",
            "       ResID  SeqID  Frame        Time  Occupancy\n",
            "11996    744   1728  11996  11996000.0          1\n",
            "11997    744   1728  11997  11997000.0          1\n",
            "11998    744   1728  11998  11998000.0          1\n",
            "11999    744   1728  11999  11999000.0          1\n",
            "12000    744   1728  12000  12000000.0          1\n"
          ],
          "name": "stdout"
        }
      ]
    },
    {
      "cell_type": "code",
      "metadata": {
        "id": "EnNwndtBiR0Z",
        "colab_type": "code",
        "colab": {
          "base_uri": "https://localhost:8080/",
          "height": 136
        },
        "outputId": "2efe211a-1c50-40a7-e029-9809e3f59c90"
      },
      "source": [
        "residtmp=pd.DataFrame(cg_occupancy_data.ResID.unique())\n",
        "print residtmp.count()\n",
        "print \"......\"\n",
        "segidtmp=pd.DataFrame(cg_occupancy_data.SeqID.unique())\n",
        "print segidtmp.count()\n",
        "print residtmp.count()/segidtmp.count()\n"
      ],
      "execution_count": 10,
      "outputs": [
        {
          "output_type": "stream",
          "text": [
            "0    429\n",
            "dtype: int64\n",
            "......\n",
            "0    143\n",
            "dtype: int64\n",
            "0    3.0\n",
            "dtype: float64\n"
          ],
          "name": "stdout"
        }
      ]
    },
    {
      "cell_type": "code",
      "metadata": {
        "id": "fzi4R1QsYC59",
        "colab_type": "code",
        "colab": {
          "base_uri": "https://localhost:8080/",
          "height": 34
        },
        "outputId": "2f1713fd-15bb-41b9-8f6c-66f791fc7808"
      },
      "source": [
        "#The coarse grain data table is huge, so we need to split it into chunks\n",
        "\n",
        "os.system(\"split -l 100000 \"+\\\n",
        "          baseDir+\"Coarse_Grain_PIP2_Occupancy_Data.csv \"+\\\n",
        "          baseDir+\"Coarse_Grain_Occupancy_Data/Coarse_Grain_Occupancy_Data.chunk.\")\n",
        "os.system(\"rm \"+baseDir+\"Coarse_Grain_PIP2_Occupancy_Data.csv\")"
      ],
      "execution_count": 11,
      "outputs": [
        {
          "output_type": "execute_result",
          "data": {
            "text/plain": [
              "0"
            ]
          },
          "metadata": {
            "tags": []
          },
          "execution_count": 11
        }
      ]
    },
    {
      "cell_type": "markdown",
      "metadata": {
        "id": "AjaLUJ3nYC5_",
        "colab_type": "text"
      },
      "source": [
        "Next, lets collect the occupancy data for the all atom simulation into a single data frame."
      ]
    },
    {
      "cell_type": "code",
      "metadata": {
        "id": "8k4PUEajYC5_",
        "colab_type": "code",
        "colab": {}
      },
      "source": [
        "aa_RawData_dir=baseDir+'Raw_POPS_data/calc_aa_190ns_lysArg/'\n",
        "aa_dataFile_list=[dataFileName for dataFileName in os.listdir(aa_RawData_dir) \\\n",
        "             if 'xvg' in dataFileName]\n",
        "aa_dataFile_list\n",
        "\n",
        "#Each of the above files contains an 18 line header, followed by 2 column occupancy series\n",
        "#the data can be easily extracted using pd.read_table\n",
        "aaDataTables=[]\n",
        "for dataFileName in tqdm.tqdm_notebook(aa_dataFile_list):\n",
        "    resID=int(dataFileName.split('_')[1])\n",
        "    seqID=simResid_to_pdbResid[resID-1]\n",
        "    tempTable=pd.read_csv(\n",
        "        aa_RawData_dir+dataFileName,\n",
        "        skiprows=17,names=['Time','Occupancy'],\n",
        "        delim_whitespace=True)\n",
        "    tempTable['ResID']=resID\n",
        "    tempTable['SeqID']=seqID\n",
        "    tempTable['Frame']=np.arange(len(tempTable))\n",
        "    tempTable=tempTable[['ResID','SeqID','Frame','Time','Occupancy']]\n",
        "    aaDataTables.append(copy.deepcopy(tempTable))\n",
        "    \n",
        "aa_occupancy_data=pd.concat(aaDataTables)\n",
        "aa_occupancy_data.to_csv(baseDir+\"All_Atom_POPS_Occupancy_Data.190ns_0.12ns.csv\",index=False)\n",
        "print aa_occupancy_data.head()\n",
        "print aa_occupancy_data.tail()"
      ],
      "execution_count": 0,
      "outputs": []
    },
    {
      "cell_type": "code",
      "metadata": {
        "id": "9G5n_9R-YC6B",
        "colab_type": "code",
        "colab": {}
      },
      "source": [
        "aa_occupancy_data.Time.max()*0.12\n",
        "residtmp=pd.DataFrame(aa_occupancy_data.ResID.unique())\n",
        "print aa_occupancy_data.ResID.count()\n",
        "print residtmp.count()\n",
        "print \"......\"\n",
        "segidtmp=pd.DataFrame(aa_occupancy_data.SeqID.unique())\n",
        "print segidtmp.count()\n",
        "print residtmp.count()/segidtmp.count()"
      ],
      "execution_count": 0,
      "outputs": []
    },
    {
      "cell_type": "markdown",
      "metadata": {
        "id": "pe4UxWYpu0hy",
        "colab_type": "text"
      },
      "source": [
        "# **3. Fit occupancy and waiting distributions**"
      ]
    },
    {
      "cell_type": "code",
      "metadata": {
        "id": "HG7gqBVJ4Haa",
        "colab_type": "code",
        "colab": {}
      },
      "source": [
        "def extract_runs(x):\n",
        "    return [len(list(gg)) for kk,gg in itertools.groupby(x, bool) if kk]\n",
        "\n",
        "def extract_resDist(x):\n",
        "    return(np.unique(extract_runs(x),return_counts=True))\n",
        "\n",
        "def bin_runs(x,binWidth=1.000,frameRate=1.,center='right'):\n",
        "    init_dist=extract_resDist(x)\n",
        "    x_dist=(init_dist[0]*frameRate,init_dist[1])\n",
        "    binMax=np.max(x_dist[0])\n",
        "    nBins=np.ceil(binMax/binWidth)+1\n",
        "    hbins=np.arange(nBins)*binWidth\n",
        "    temp_dist=np.histogram(x_dist[0],weights=x_dist[1],bins=hbins)\n",
        "    outDat=[temp_dist[1],temp_dist[0]]\n",
        "    if center=='midpoint':\n",
        "        outDat[0]=(temp_dist[1][1:]+temp_dist[1][:-1])/2.\n",
        "    elif center==\"left\":\n",
        "        outDat[0]=temp_dist[1][:-1]\n",
        "    elif center==\"right\":\n",
        "        outDat[0]=temp_dist[1][1:]\n",
        "    return(outDat)\n",
        "\n",
        "def expDist(x,l):\n",
        "    return np.exp(-x/l)/l\n",
        "\n",
        "def frequencyDistribution_mle_exp_params(bin_dist,bias_correction=True):\n",
        "    Nv=np.sum(bin_dist[1])\n",
        "    if bias_correction & (Nv>2):\n",
        "        Nv=Nv-2\n",
        "    return (np.sum(bin_dist[0]*bin_dist[1])/(1.*Nv))\n",
        "\n",
        "        \n",
        "\n",
        "def beta_dist(x,a,b):\n",
        "    return (x**(a-1.)*(1.-x)**(b-1.))/\\\n",
        "        (sp.special.gamma(a)*sp.special.gamma(b)/sp.special.gamma(a+b))\n",
        "def gamma_dist(x,t,k):\n",
        "    return 1/(sp.special.gamma(k)*(t**k))*x**(k-1.)*np.exp(-x/t)\n",
        "\n",
        "def frequencyDistribution_mle_gamma_params(bin_dist,bias_correction=True):\n",
        "    xi,fi=bin_dist\n",
        "    Nv=np.sum(fi)\n",
        "    sum_f=np.sum(fi*xi)\n",
        "    sum_lnf=np.sum(fi*np.log(xi))\n",
        "    sum_flnf=np.sum(fi*xi*np.log(xi))\n",
        "    k_est=(Nv*sum_f)/(Nv*sum_flnf-sum_lnf*sum_f)\n",
        "    t_est=1./(Nv**2)*(Nv*sum_flnf-sum_lnf*sum_f)\n",
        "    if bias_correction:\n",
        "        t_est=Nv*t_est/(Nv-1)\n",
        "        k_est=k_est-1./Nv*(3.*k_est-2./3.*(k_est/(1+k_est))-4./5.*(k_est/(1+k_est)**2))\n",
        "    return [t_est,k_est]\n",
        "\n",
        "\n",
        "def calc_GammaParams(x,fr=1.0,bw=4.8):\n",
        "    return list(list(\n",
        "        frequencyDistribution_mle_gamma_params(\n",
        "             bin_runs(x,frameRate=fr,binWidth=bw),\n",
        "             bias_correction=True))\n",
        "        ) if np.sum(x)>0 else [np.nan,np.nan]\n",
        "\n",
        "def calc_ExpParams(x,fr=1.0,bw=4.8):\n",
        "    return frequencyDistribution_mle_exp_params(\n",
        "                bin_runs(x,frameRate=fr,binWidth=bw)\n",
        "            ) if np.sum(x)>0 else np.nan\n",
        "\n",
        "def calc_GammaRMSE(x,fr=1.0,bw=4.8):\n",
        "    if np.sum(x)>0:\n",
        "        xDist=bin_runs(x,frameRate=fr,binWidth=bw)\n",
        "        fitParams=calc_GammaParams(x)\n",
        "        return np.sqrt(\n",
        "            np.sum(\n",
        "                (xDist[1]/np.sum(xDist[1])-\\\n",
        "                gamma_dist(xDist[0],*fitParams))**2)/\\\n",
        "            len(xDist[1]))\n",
        "    else:\n",
        "        return np.nan\n",
        "        \n",
        "def calc_ExpRMSE(x,fr=1.0,bw=4.8):\n",
        "    if np.sum(x)>0:\n",
        "        xDist=bin_runs(x,frameRate=fr,binWidth=bw)\n",
        "        fitParams=[calc_ExpParams(x)]\n",
        "        return np.sqrt(\n",
        "            np.sum(\n",
        "                (xDist[1]/np.sum(xDist[1])-\\\n",
        "                expDist(xDist[0],*fitParams))**2)/\\\n",
        "            len(xDist[1]))\n",
        "    else:\n",
        "        return np.nan\n"
      ],
      "execution_count": 0,
      "outputs": []
    },
    {
      "cell_type": "code",
      "metadata": {
        "id": "yGeHe4evvNun",
        "colab_type": "code",
        "colab": {
          "base_uri": "https://localhost:8080/",
          "height": 304,
          "referenced_widgets": [
            "5bb86e4c7cba4321878771be730fc62e",
            "47c1056ed1bf43a1899e5bce0ccd09d6",
            "b1f8ef4c761e4db6b7c9ae12dca76253",
            "ba4846e617ec4757bc47c99dea6b1245",
            "87c8fdf8db5b4e1ba2805797960cfcf4",
            "70528a8992824cae89aa05cd14b46b99",
            "9786dd0a260444c4b80710972aa7f550",
            "f9857529e89947cd933d416977c9af93"
          ]
        },
        "outputId": "41276ea7-feb6-4556-e87e-3281ec3fb017"
      },
      "source": [
        "cg_occupancy_data_files=glob.glob(baseDir+\"Coarse_Grain_Occupancy_Data/Coarse_Grain_Occupancy_Data.chunk*\")\n",
        "print \"first cg data frame: '%s'\"%np.sort(cg_occupancy_data_files)[0]\n",
        "cg_frames=[]\n",
        "for iFile,cg_file in tqdm.tqdm_notebook(enumerate(np.sort(cg_occupancy_data_files))):\n",
        "    if iFile==0:\n",
        "        cg_frames.append(pd.read_csv(cg_file))\n",
        "        colNames=cg_frames[0].columns\n",
        "    else:\n",
        "        cg_frames.append(pd.read_csv(cg_file,names=colNames))\n",
        "cg_occupancy_data=pd.concat(cg_frames)\n",
        "cg_frames=[]\n",
        "gc.collect()\n",
        "\n",
        "aa_occupancy_data=pd.read_csv(baseDir+\"All_Atom_PIP2_Occupancy_Data.2us_0.6ns.csv\")\n",
        "\n",
        "print cg_occupancy_data.head()\n",
        "print aa_occupancy_data.head()\n",
        "np.max(aa_occupancy_data.Time.unique())*.12"
      ],
      "execution_count": 138,
      "outputs": [
        {
          "output_type": "stream",
          "text": [
            "first cg data frame: 'Piezo_PIP2_binding_analysis/Coarse_Grain_Occupancy_Data/Coarse_Grain_Occupancy_Data.chunk.aa'\n"
          ],
          "name": "stdout"
        },
        {
          "output_type": "display_data",
          "data": {
            "application/vnd.jupyter.widget-view+json": {
              "model_id": "5bb86e4c7cba4321878771be730fc62e",
              "version_minor": 0,
              "version_major": 2
            },
            "text/plain": [
              "HBox(children=(IntProgress(value=1, bar_style=u'info', max=1), HTML(value=u'')))"
            ]
          },
          "metadata": {
            "tags": []
          }
        },
        {
          "output_type": "stream",
          "text": [
            "\n",
            "   ResID  SeqID  Frame    Time  Occupancy\n",
            "0   3677   1969      0     0.0          0\n",
            "1   3677   1969      1  1000.0          0\n",
            "2   3677   1969      2  2000.0          0\n",
            "3   3677   1969      3  3000.0          0\n",
            "4   3677   1969      4  4000.0          0\n",
            "   ResID  SeqID  Frame  Time  Occupancy\n",
            "0   3677   1969      0   0.0          0\n",
            "1   3677   1969      1   5.0          0\n",
            "2   3677   1969      2  10.0          0\n",
            "3   3677   1969      3  15.0          0\n",
            "4   3677   1969      4  20.0          0\n"
          ],
          "name": "stdout"
        },
        {
          "output_type": "execute_result",
          "data": {
            "text/plain": [
              "1999.8"
            ]
          },
          "metadata": {
            "tags": []
          },
          "execution_count": 138
        }
      ]
    },
    {
      "cell_type": "code",
      "metadata": {
        "id": "ZuByqz63hW4z",
        "colab_type": "code",
        "colab": {}
      },
      "source": [
        "aaFrameRate=0.12 #time between frames in ns for all atom\n",
        "aaBinWidth=4.0 #binning size in ns\n",
        "\n",
        "aaKwds={'fr':aaFrameRate,'bw':aaBinWidth}\n",
        "aaFitDat=aa_occupancy_data\n",
        "aaFitDat['Wait']=aaFitDat.Occupancy.map(lambda x: not x)\n",
        "print aaFitDat.head()\n",
        "aaFitFrame=aaFitDat.groupby(['ResID','SeqID']).agg(\n",
        "    {\"Occupancy\": {\n",
        "         \"Total\":lambda x: aaFrameRate*np.sum(x),\n",
        "         \"N\":lambda x: len(extract_runs(x)),\n",
        "         \"Max\":lambda x: np.max(extract_runs(x))*aaFrameRate if np.sum(x) > 0 else 0,\n",
        "         \"GammaDist_Params\": lambda x: calc_GammaParams(x,**aaKwds), \n",
        "        \"Gamma_RMSE\":lambda x: calc_GammaRMSE(x,**aaKwds),\n",
        "        \"Exp_Mean\": lambda x: calc_ExpParams(x,**aaKwds), \n",
        "        \"Exp_RMSE\": lambda x: calc_ExpRMSE(x,**aaKwds),\n",
        "        },\n",
        "     \n",
        "     \"Wait\": {\n",
        "         \"Total\":lambda x: aaFrameRate*np.sum(x),\n",
        "         \"N\":lambda x: len(extract_runs(x)),\n",
        "         \"Max\":lambda x: np.max(extract_runs(x))*aaFrameRate if np.sum(x) > 0 else 0,\n",
        "         \"GammaDist_Params\": lambda x: calc_GammaParams(x,**aaKwds), \n",
        "        \"Gamma_RMSE\":lambda x: calc_GammaRMSE(x,**aaKwds),\n",
        "        \"Exp_Mean\": lambda x: calc_ExpParams(x,**aaKwds), \n",
        "        \"Exp_RMSE\": lambda x: calc_ExpRMSE(x,**aaKwds),\n",
        "        },\n",
        "     })\n",
        "\n",
        "aaFitFrame.columns=aaFitFrame.columns.map(lambda x: '.'.join(x))\n",
        "for entryType in ['Wait','Occupancy']:\n",
        "  aaFitFrame[entryType+'.Gamma_Mean']=aaFitFrame[entryType+'.GammaDist_Params'].map(np.product)\n",
        "  aaFitFrame[entryType+'.Gamma_k']=aaFitFrame[entryType+'.GammaDist_Params'].map(lambda x: x[1])\n",
        "  aaFitFrame=aaFitFrame.drop(columns=entryType+'.GammaDist_Params')\n",
        "\n",
        "aaFitFrame['SimType']='AA'\n",
        "aaFitFrame=aaFitFrame.reset_index()\n",
        "aaFitFrame=aaFitFrame[[\"SimType\",\"ResID\", \"SeqID\",\"Occupancy.Total\", \n",
        "                       \"Occupancy.N\",\"Occupancy.Max\",\"Occupancy.Exp_Mean\",\"Occupancy.Exp_RMSE\",\n",
        "                       \"Occupancy.Gamma_Mean\",\"Occupancy.Gamma_k\",\"Occupancy.Gamma_RMSE\",\n",
        "                       \"Wait.N\",\"Wait.Max\",\"Wait.Exp_Mean\",\"Wait.Exp_RMSE\",\n",
        "                       \"Wait.Gamma_Mean\",\"Wait.Gamma_k\",\"Wait.Gamma_RMSE\"]]\n",
        "aaFitFrame.head()"
      ],
      "execution_count": 0,
      "outputs": []
    },
    {
      "cell_type": "code",
      "metadata": {
        "id": "yQ76QPvTm1YC",
        "colab_type": "code",
        "colab": {}
      },
      "source": [
        "cgFrameRate=1.0 #time between frames in ns for coarse grain\n",
        "cgBinWidth=4.0\n",
        "\n",
        "cgKwds={'fr':cgFrameRate,'bw':cgBinWidth}\n",
        "cgFitDat=cg_occupancy_data \n",
        "cgFitDat['Wait']=cgFitDat.Occupancy.map(lambda x: not x)\n",
        "print cgFitDat.head()\n",
        "cgFitFrame=cgFitDat.groupby(['ResID','SeqID']).agg(\n",
        "    {\"Occupancy\": {\n",
        "         \"Total\":lambda x: cgFrameRate*np.sum(x),\n",
        "         \"N\":lambda x: len(extract_runs(x)),\n",
        "         \"Max\":lambda x: np.max(extract_runs(x))*cgFrameRate if np.sum(x) > 0 else 0,\n",
        "         \"GammaDist_Params\": lambda x: calc_GammaParams(x,**cgKwds), \n",
        "        \"Gamma_RMSE\":lambda x: calc_GammaRMSE(x,**cgKwds),\n",
        "        \"Exp_Mean\": lambda x: calc_ExpParams(x,**cgKwds), \n",
        "        \"Exp_RMSE\": lambda x: calc_ExpRMSE(x,**cgKwds),\n",
        "        },\n",
        "     \n",
        "     \"Wait\": {\n",
        "         \"Total\":lambda x: cgFrameRate*np.sum(x),\n",
        "         \"N\":lambda x: len(extract_runs(x)),\n",
        "         \"Max\":lambda x: np.max(extract_runs(x))*cgFrameRate if np.sum(x) > 0 else 0,\n",
        "         \"GammaDist_Params\": lambda x: calc_GammaParams(x,**cgKwds), \n",
        "        \"Gamma_RMSE\":lambda x: calc_GammaRMSE(x,**cgKwds),\n",
        "        \"Exp_Mean\": lambda x: calc_ExpParams(x,**cgKwds), \n",
        "        \"Exp_RMSE\": lambda x: calc_ExpRMSE(x,**cgKwds),\n",
        "        },\n",
        "     })\n",
        "\n",
        "cgFitFrame.columns=cgFitFrame.columns.map(lambda x: '.'.join(x))\n",
        "for entryType in ['Wait','Occupancy']:\n",
        "  cgFitFrame[entryType+'.Gamma_Mean']=cgFitFrame[entryType+'.GammaDist_Params'].map(np.product)\n",
        "  cgFitFrame[entryType+'.Gamma_k']=cgFitFrame[entryType+'.GammaDist_Params'].map(lambda x: x[1])\n",
        "  cgFitFrame=cgFitFrame.drop(columns=entryType+'.GammaDist_Params')\n",
        "  \n",
        "cgFitFrame['SimType']='CG'\n",
        "cgFitFrame=cgFitFrame.reset_index()\n",
        "cgFitFrame=cgFitFrame[[\"SimType\",\"ResID\", \"SeqID\",\"Occupancy.Total\", \n",
        "                       \"Occupancy.N\",\"Occupancy.Max\",\"Occupancy.Exp_Mean\",\"Occupancy.Exp_RMSE\",\n",
        "                       \"Occupancy.Gamma_Mean\",\"Occupancy.Gamma_k\",\"Occupancy.Gamma_RMSE\",\n",
        "                       \"Wait.N\",\"Wait.Max\",\"Wait.Exp_Mean\",\"Wait.Exp_RMSE\",\n",
        "                       \"Wait.Gamma_Mean\",\"Wait.Gamma_k\",\"Wait.Gamma_RMSE\"]]  \n",
        "cgFitFrame.head()"
      ],
      "execution_count": 0,
      "outputs": []
    },
    {
      "cell_type": "code",
      "metadata": {
        "id": "NQDuqNKIn1yz",
        "colab_type": "code",
        "colab": {}
      },
      "source": [
        "jointFitFrame=pd.concat([aaFitFrame,cgFitFrame])\n",
        "jointFitMelt=jointFitFrame.melt(id_vars=[\"SimType\",\"ResID\",\"SeqID\"],var_name=\"Fit_Param\")\n",
        "print jointFitMelt.head()\n",
        "\n",
        "jointFitWide=jointFitMelt\n",
        "jointFitWide[\"Measurement\"]=jointFitWide.SimType+\".\"+jointFitWide.Fit_Param\n",
        "jointFitWide=jointFitWide.drop(columns=[\"SimType\",\"Fit_Param\"])\n",
        "jointFitWide=jointFitWide.reset_index()\n",
        "jointFitWide=pd.pivot_table(index=[\"ResID\",\"SeqID\"],columns=\"Measurement\",values=\"value\",data=jointFitWide)\n",
        "#jointFitWide.columns=jointFitWide.columns.map(lambda x: x[1])\n",
        "jointFitWide=jointFitWide.reset_index()\n",
        "#print jointFitWide.columns\n",
        "jointFitWide.to_csv(baseDir+\"POPS_aa_cg_joint_Fit_Data_wide.csv\",index=False)\n",
        "print jointFitWide.head()\n",
        "jointFitWide.describe()"
      ],
      "execution_count": 0,
      "outputs": []
    },
    {
      "cell_type": "markdown",
      "metadata": {
        "id": "P4IU5iP_hsK4",
        "colab_type": "text"
      },
      "source": [
        "# **4. Fit the occupancy/wait data for a cluster of consequtive residues**\n",
        "(if one of \n",
        "the residue has occupany 1, the whole cluster has occupancy 1) "
      ]
    },
    {
      "cell_type": "code",
      "metadata": {
        "colab_type": "code",
        "id": "mRPhNZUCyuXX",
        "colab": {}
      },
      "source": [
        "print \"making domain keys\"\n",
        "domainKey=aa_occupancy_data[['ResID','SeqID']].sort_values(['ResID','SeqID']).apply(lambda x: '.'.join(map(str,x)),axis=1).unique()\n",
        "#domainKey\n",
        "domainNames={domainKey[0]:domainKey[0]}\n",
        "currentID=domainKey[0]\n",
        "print \"making domain names\"\n",
        "for iEntry,domainID in tqdm.tqdm_notebook(enumerate(domainKey[1:])):\n",
        "  if int(domainID.split('.')[-1])-1!=int(domainKey[iEntry].split('.')[-1]):\n",
        "    currentID=domainID\n",
        "  domainNames[domainID]=currentID\n",
        "domainNames"
      ],
      "execution_count": 0,
      "outputs": []
    },
    {
      "cell_type": "code",
      "metadata": {
        "id": "H9n7ferpZmUY",
        "colab_type": "code",
        "colab": {
          "base_uri": "https://localhost:8080/",
          "height": 204
        },
        "outputId": "f92903ea-be2d-4db7-f361-5366f31870eb"
      },
      "source": [
        "aa_occupancy_data['Domain']=aa_occupancy_data[['ResID','SeqID']].sort_values(\n",
        "    ['ResID','SeqID']).apply(\n",
        "        lambda x: domainNames['.'.join(map(str,x))],axis=1)\n",
        "\n",
        "aa_domain_data=aa_occupancy_data.groupby(['Domain','Frame','Time']).agg({\n",
        "    \"Occupancy\":lambda x: np.sum(x)>0\n",
        "})\n",
        "\n",
        "aa_domain_data=aa_domain_data.reset_index()\n",
        "\n",
        "aa_domain_data['Wait']=aa_domain_data['Occupancy'].map(lambda x: not x)\n",
        "aa_domain_data.head()"
      ],
      "execution_count": 92,
      "outputs": [
        {
          "output_type": "execute_result",
          "data": {
            "text/html": [
              "<div>\n",
              "<style scoped>\n",
              "    .dataframe tbody tr th:only-of-type {\n",
              "        vertical-align: middle;\n",
              "    }\n",
              "\n",
              "    .dataframe tbody tr th {\n",
              "        vertical-align: top;\n",
              "    }\n",
              "\n",
              "    .dataframe thead th {\n",
              "        text-align: right;\n",
              "    }\n",
              "</style>\n",
              "<table border=\"1\" class=\"dataframe\">\n",
              "  <thead>\n",
              "    <tr style=\"text-align: right;\">\n",
              "      <th></th>\n",
              "      <th>Domain</th>\n",
              "      <th>Frame</th>\n",
              "      <th>Time</th>\n",
              "      <th>Occupancy</th>\n",
              "      <th>Wait</th>\n",
              "    </tr>\n",
              "  </thead>\n",
              "  <tbody>\n",
              "    <tr>\n",
              "      <th>0</th>\n",
              "      <td>1.782</td>\n",
              "      <td>0</td>\n",
              "      <td>0.0</td>\n",
              "      <td>False</td>\n",
              "      <td>True</td>\n",
              "    </tr>\n",
              "    <tr>\n",
              "      <th>1</th>\n",
              "      <td>1.782</td>\n",
              "      <td>1</td>\n",
              "      <td>5.0</td>\n",
              "      <td>True</td>\n",
              "      <td>False</td>\n",
              "    </tr>\n",
              "    <tr>\n",
              "      <th>2</th>\n",
              "      <td>1.782</td>\n",
              "      <td>2</td>\n",
              "      <td>10.0</td>\n",
              "      <td>False</td>\n",
              "      <td>True</td>\n",
              "    </tr>\n",
              "    <tr>\n",
              "      <th>3</th>\n",
              "      <td>1.782</td>\n",
              "      <td>3</td>\n",
              "      <td>15.0</td>\n",
              "      <td>True</td>\n",
              "      <td>False</td>\n",
              "    </tr>\n",
              "    <tr>\n",
              "      <th>4</th>\n",
              "      <td>1.782</td>\n",
              "      <td>4</td>\n",
              "      <td>20.0</td>\n",
              "      <td>True</td>\n",
              "      <td>False</td>\n",
              "    </tr>\n",
              "  </tbody>\n",
              "</table>\n",
              "</div>"
            ],
            "text/plain": [
              "  Domain  Frame  Time  Occupancy   Wait\n",
              "0  1.782      0   0.0      False   True\n",
              "1  1.782      1   5.0       True  False\n",
              "2  1.782      2  10.0      False   True\n",
              "3  1.782      3  15.0       True  False\n",
              "4  1.782      4  20.0       True  False"
            ]
          },
          "metadata": {
            "tags": []
          },
          "execution_count": 92
        }
      ]
    },
    {
      "cell_type": "code",
      "metadata": {
        "id": "iTmILQNCID1n",
        "colab_type": "code",
        "colab": {
          "base_uri": "https://localhost:8080/",
          "height": 136
        },
        "outputId": "852131a4-48f0-4f03-d188-11a24a111287"
      },
      "source": [
        "aaFrameRate=0.12 #time between frames in ns for all atom\n",
        "aaBinWidth=4.0 #binning size in ns\n",
        "cgFrameRate=1.0 #time between frames in ns for coarse grain\n",
        "cgBinWidth=4.0\n",
        "\n",
        "aaKwds={'fr':aaFrameRate,'bw':aaBinWidth}\n",
        "cgKwds={'fr':cgFrameRate,'bw':cgBinWidth}\n",
        "\n",
        "aaFitDat=aa_domain_data \n",
        "aaFitFrame=aaFitDat.groupby('Domain').agg(\n",
        "    {\"Occupancy\": {\n",
        "         \"Total\":lambda x: aaFrameRate*np.sum(x),\n",
        "         \"N\":lambda x: len(extract_runs(x)),\n",
        "         \"Max\":lambda x: np.max(extract_runs(x))*aaFrameRate if np.sum(x) > 0 else 0,\n",
        "         \"GammaDist_Params\": lambda x: calc_GammaParams(x,**aaKwds), \n",
        "        \"Gamma_RMSE\":lambda x: calc_GammaRMSE(x,**aaKwds),\n",
        "        \"Exp_Mean\": lambda x: calc_ExpParams(x,**aaKwds), \n",
        "        \"Exp_RMSE\": lambda x: calc_ExpRMSE(x,**aaKwds),\n",
        "        },\n",
        "     \n",
        "     \"Wait\": {\n",
        "         \"Total\":lambda x: aaFrameRate*np.sum(x),\n",
        "         \"N\":lambda x: len(extract_runs(x)),\n",
        "         \"Max\":lambda x: np.max(extract_runs(x))*aaFrameRate if np.sum(x) > 0 else 0,\n",
        "         \"GammaDist_Params\": lambda x: calc_GammaParams(x,**aaKwds), \n",
        "        \"Gamma_RMSE\":lambda x: calc_GammaRMSE(x,**aaKwds),\n",
        "        \"Exp_Mean\": lambda x: calc_ExpParams(x,**aaKwds), \n",
        "        \"Exp_RMSE\": lambda x: calc_ExpRMSE(x,**aaKwds),\n",
        "        },\n",
        "     })\n",
        "\n",
        "aaFitFrame.columns=aaFitFrame.columns.map(lambda x: '.'.join(x))\n",
        "for entryType in ['Wait','Occupancy']:\n",
        "  aaFitFrame[entryType+'.Gamma_Mean']=aaFitFrame[entryType+'.GammaDist_Params'].map(np.product)\n",
        "  aaFitFrame[entryType+'.Gamma_k']=aaFitFrame[entryType+'.GammaDist_Params'].map(lambda x: x[1])\n",
        "  aaFitFrame=aaFitFrame.drop(columns=entryType+'.GammaDist_Params')\n",
        "\n",
        "aaFitFrame['SimType']='AA'\n",
        "aaFitFrame=aaFitFrame.reset_index()\n",
        "aaFitFrame=aaFitFrame[[\"SimType\",\"Domain\",\"Occupancy.Total\", \n",
        "                       \"Occupancy.N\",\"Occupancy.Max\",\"Occupancy.Exp_Mean\",\"Occupancy.Exp_RMSE\",\n",
        "                       \"Occupancy.Gamma_Mean\",\"Occupancy.Gamma_k\",\"Occupancy.Gamma_RMSE\",\n",
        "                       \"Wait.N\",\"Wait.Max\",\"Wait.Exp_Mean\",\"Wait.Exp_RMSE\",\n",
        "                       \"Wait.Gamma_Mean\",\"Wait.Gamma_k\",\"Wait.Gamma_RMSE\"]]\n",
        "aaFitFrame.head()\n",
        "aaFitFrame.to_csv(baseDir+\"PIP_aa_domain_fit.csv\",index=False)"
      ],
      "execution_count": 95,
      "outputs": [
        {
          "output_type": "stream",
          "text": [
            "/usr/local/lib/python2.7/dist-packages/ipykernel_launcher.py:37: RuntimeWarning: overflow encountered in double_scalars\n",
            "/usr/local/lib/python2.7/dist-packages/ipykernel_launcher.py:37: RuntimeWarning: overflow encountered in exp\n",
            "/usr/local/lib/python2.7/dist-packages/ipykernel_launcher.py:37: RuntimeWarning: invalid value encountered in multiply\n",
            "/usr/local/lib/python2.7/dist-packages/ipykernel_launcher.py:45: RuntimeWarning: divide by zero encountered in double_scalars\n",
            "/usr/local/lib/python2.7/dist-packages/ipykernel_launcher.py:48: RuntimeWarning: invalid value encountered in double_scalars\n",
            "/usr/local/lib/python2.7/dist-packages/ipykernel_launcher.py:49: RuntimeWarning: invalid value encountered in double_scalars\n",
            "/usr/local/lib/python2.7/dist-packages/ipykernel_launcher.py:37: RuntimeWarning: divide by zero encountered in divide\n"
          ],
          "name": "stderr"
        }
      ]
    },
    {
      "cell_type": "code",
      "metadata": {
        "id": "0c4FrmfXm8l_",
        "colab_type": "code",
        "colab": {}
      },
      "source": [
        "print \"making domain keys\"\n",
        "domainKey=cg_occupancy_data[['ResID','SeqID']].sort_values(['ResID','SeqID']).apply(lambda x: '.'.join(map(str,x)),axis=1).unique()\n",
        "#domainKey\n",
        "domainNames={domainKey[0]:domainKey[0]}\n",
        "currentID=domainKey[0]\n",
        "print \"making domain names\"\n",
        "for iEntry,domainID in tqdm.tqdm_notebook(enumerate(domainKey[1:])):\n",
        "  if int(domainID.split('.')[-1])-1!=int(domainKey[iEntry].split('.')[-1]):\n",
        "    currentID=domainID\n",
        "  domainNames[domainID]=currentID\n",
        "domainNames"
      ],
      "execution_count": 0,
      "outputs": []
    },
    {
      "cell_type": "code",
      "metadata": {
        "id": "KWrPpoBixthh",
        "colab_type": "code",
        "colab": {
          "base_uri": "https://localhost:8080/",
          "height": 102
        },
        "outputId": "e468dc71-225d-4678-b899-ca1af3a05f3c"
      },
      "source": [
        "tempDict={'1.1':'1.1','1.2':'1.1','1.4':'1.4'}\n",
        "#tempDict=domainNames\n",
        "tempFrame=pd.DataFrame({'IndexPair':np.sort(tempDict.keys()),\n",
        "              'Domain':[tempDict[iKey] for iKey in np.sort(tempDict.keys())]})\n",
        "print tempFrame\n",
        "tempFrame=zip(tempFrame['IndexPair'],tempFrame['Domain'])\n",
        "print tempFrame"
      ],
      "execution_count": 57,
      "outputs": [
        {
          "output_type": "stream",
          "text": [
            "  Domain IndexPair\n",
            "0    1.1       1.1\n",
            "1    1.1       1.2\n",
            "2    1.4       1.4\n",
            "[('1.1', '1.1'), ('1.2', '1.1'), ('1.4', '1.4')]\n"
          ],
          "name": "stdout"
        }
      ]
    },
    {
      "cell_type": "code",
      "metadata": {
        "id": "lD6JIC8bFmBQ",
        "colab_type": "code",
        "colab": {
          "base_uri": "https://localhost:8080/",
          "height": 1000
        },
        "outputId": "978e64be-0464-430f-ca64-b6145eb1106d"
      },
      "source": [
        "#tempDict={'1.1':'1.1','1.2':'1.1','1.4':'1.4'}\n",
        "tempDict=domainNames\n",
        "tempFrame=pd.DataFrame({'IndexPair':np.sort(tempDict.keys()),\n",
        "              'Domain':[tempDict[iKey] for iKey in np.sort(tempDict.keys())]})\n",
        "tempFrame.to_csv(baseDir+'domainNames.csv')\n",
        "print tempFrame\n"
      ],
      "execution_count": 61,
      "outputs": [
        {
          "output_type": "stream",
          "text": [
            "        Domain  IndexPair\n",
            "0        1.782      1.782\n",
            "1    1007.2135  1007.2135\n",
            "2    1038.2166  1038.2166\n",
            "3    1041.2169  1041.2169\n",
            "4    1045.2173  1045.2173\n",
            "5    1045.2173  1046.2174\n",
            "6    1051.2179  1051.2179\n",
            "7    1054.2182  1054.2182\n",
            "8    1054.2182  1055.2183\n",
            "9    1054.2182  1056.2184\n",
            "10   1054.2182  1057.2185\n",
            "11   1060.2188  1060.2188\n",
            "12   1086.2214  1086.2214\n",
            "13   1103.2231  1103.2231\n",
            "14   1167.2295  1167.2295\n",
            "15   1173.2301  1173.2301\n",
            "16   1177.2305  1177.2305\n",
            "17   1190.2318  1190.2318\n",
            "18   1197.2325  1197.2325\n",
            "19   1201.2329  1201.2329\n",
            "20   1211.2339  1211.2339\n",
            "21     122.903    122.903\n",
            "22   1223.2351  1223.2351\n",
            "23   1223.2351  1224.2352\n",
            "24   1233.2361  1233.2361\n",
            "25   1246.2374  1246.2374\n",
            "26   1249.2377  1249.2377\n",
            "27   1260.2388  1260.2388\n",
            "28   1274.2402  1274.2402\n",
            "29   1278.2406  1278.2406\n",
            "..         ...        ...\n",
            "399   690.1674   690.1674\n",
            "400   693.1677   693.1677\n",
            "401   740.1724   740.1724\n",
            "402   743.1727   743.1727\n",
            "403   743.1727   744.1728\n",
            "404   760.1744   760.1744\n",
            "405   777.1761   777.1761\n",
            "406   777.1761   778.1762\n",
            "407   782.1766   782.1766\n",
            "408   788.1772   788.1772\n",
            "409   794.1778   794.1778\n",
            "410   800.1784   800.1784\n",
            "411   813.1797   813.1797\n",
            "412     83.864     83.864\n",
            "413   832.1960   832.1960\n",
            "414   841.1969   841.1969\n",
            "415   843.1971   843.1971\n",
            "416   872.2000   872.2000\n",
            "417     89.870     89.870\n",
            "418   907.2035   907.2035\n",
            "419   912.2040   912.2040\n",
            "420   912.2040   913.2041\n",
            "421   918.2046   918.2046\n",
            "422   943.2071   943.2071\n",
            "423   958.2086   958.2086\n",
            "424   970.2098   970.2098\n",
            "425   976.2104   976.2104\n",
            "426   984.2112   984.2112\n",
            "427   984.2112   985.2113\n",
            "428   998.2126   998.2126\n",
            "\n",
            "[429 rows x 2 columns]\n"
          ],
          "name": "stdout"
        }
      ]
    },
    {
      "cell_type": "code",
      "metadata": {
        "id": "Xlf9dktgIWBm",
        "colab_type": "code",
        "colab": {
          "base_uri": "https://localhost:8080/",
          "height": 54
        },
        "outputId": "cef68c8b-4b7c-4b61-c45f-ce20b0c58f80"
      },
      "source": [
        "tempFrame=pd.read_csv(baseDir+'domainNames.csv')\n",
        "tempFrame=zip(tempFrame['IndexPair'],tempFrame['Domain'])\n",
        "print tempFrame"
      ],
      "execution_count": 62,
      "outputs": [
        {
          "output_type": "stream",
          "text": [
            "[(1.7819999999999998, 1.7819999999999998), (1007.2135, 1007.2135), (1038.2166, 1038.2166), (1041.2169, 1041.2169), (1045.2173, 1045.2173), (1046.2174, 1045.2173), (1051.2179, 1051.2179), (1054.2182, 1054.2182), (1055.2183, 1054.2182), (1056.2184, 1054.2182), (1057.2185, 1054.2182), (1060.2188, 1060.2188), (1086.2214, 1086.2214), (1103.2231, 1103.2231), (1167.2295, 1167.2295), (1173.2301, 1173.2301), (1177.2305, 1177.2305), (1190.2318, 1190.2318), (1197.2325, 1197.2325), (1201.2329, 1201.2329), (1211.2339, 1211.2339), (122.90299999999999, 122.90299999999999), (1223.2351, 1223.2351), (1224.2352, 1223.2351), (1233.2361, 1233.2361), (1246.2374, 1246.2374), (1249.2377, 1249.2377), (1260.2388, 1260.2388), (1274.2402, 1274.2402), (1278.2406, 1278.2406), (1279.2407, 1278.2406), (1294.2422, 1294.2422), (1310.2438, 1310.2438), (1324.2452, 1324.2452), (134.915, 134.915), (135.916, 134.915), (1351.2479, 1351.2479), (1354.2482, 1354.2482), (1374.2502, 1374.2502), (1377.2505, 1377.2505), (1386.2514, 1386.2514), (1389.2517, 1389.2517), (1400.2528, 1400.2528), (1406.2534, 1406.2534), (1413.2541, 1413.2541), (1416.2544, 1416.2544), (1418.2546, 1418.2546), (1419.7820000000002, 1419.7820000000002), (1433.796, 1433.796), (1439.8020000000001, 1439.8020000000001), (1440.8029999999999, 1439.8020000000001), (1448.8110000000001, 1448.8110000000001), (1460.8229999999999, 1460.8229999999999), (1481.844, 1481.844), (1483.846, 1483.846), (15.796, 15.796), (1501.864, 1501.864), (1507.87, 1507.87), (1540.9029999999998, 1540.9029999999998), (1552.915, 1552.915), (1553.9160000000002, 1552.915), (1579.942, 1579.942), (1580.943, 1579.942), (1585.9479999999999, 1585.9479999999999), (1586.9489999999998, 1585.9479999999999), (1604.967, 1604.967), (1606.969, 1606.969), (161.942, 161.942), (1616.979, 1616.979), (162.94299999999998, 161.942), (1625.9879999999998, 1625.9879999999998), (1642.1005, 1642.1005), (1660.1023, 1660.1023), (1661.1024, 1660.1023), (1662.1025, 1660.1023), (1663.1026, 1660.1023), (1668.1031, 1668.1031), (167.94799999999998, 167.94799999999998), (168.949, 167.94799999999998), (1702.1065, 1702.1065), (1705.1068, 1705.1068), (1715.1078, 1715.1078), (1724.1087, 1724.1087), (1752.1115, 1752.1115), (1758.1121, 1758.1121), (1771.1134, 1771.1134), (1784.1147, 1784.1147), (1791.1154, 1791.1154), (1796.1159, 1796.1159), (1813.1176, 1813.1176), (1838.1201, 1838.1201), (1841.1204, 1841.1204), (186.967, 186.967), (1861.1224, 1861.1224), (188.96900000000002, 188.96900000000002), (1893.1256, 1893.1256), (1899.1262, 1899.1262), (1904.1267, 1904.1267), (1906.1269, 1906.1269), (1931.1294, 1931.1294), (1932.1295, 1931.1294), (1947.131, 1947.131), (1955.1318, 1955.1318), (1966.1329, 1966.1329), (1972.1335, 1972.1335), (1977.134, 1977.134), (198.979, 198.979), (1983.1346, 1983.1346), (1984.1347, 1983.1346), (1987.135, 1987.135), (1988.1351, 1987.135), (1990.1353, 1990.1353), (1992.1355, 1992.1355), (1995.1358, 1995.1358), (1997.136, 1997.136), (2007.1497, 2007.1497), (2028.1518, 2028.1518), (2031.1521, 2031.1521), (2035.1525, 2035.1525), (2038.1528, 2038.1528), (2048.1538, 2048.1538), (2057.1547, 2057.1547), (2062.1552, 2062.1552), (2063.1553, 2062.1552), (207.988, 207.988), (2085.1575, 2085.1575), (2098.1664, 2098.1664), (21.802, 21.802), (2105.1671, 2105.1671), (2108.1674, 2108.1674), (2111.1677, 2111.1677), (2158.1724, 2158.1724), (2161.1727, 2161.1727), (2162.1728, 2161.1727), (2178.1744, 2178.1744), (2195.1761, 2195.1761), (2196.1762, 2195.1761), (22.803, 21.802), (2200.1766, 2200.1766), (2206.1772, 2206.1772), (2212.1778, 2212.1778), (2218.1784, 2218.1784), (2231.1797, 2231.1797), (224.1005, 224.1005), (2250.196, 2250.196), (2259.1969, 2259.1969), (2261.1971, 2261.1971), (2290.2, 2290.2), (2325.2035, 2325.2035), (2330.204, 2330.204), (2331.2041, 2330.204), (2336.2046, 2336.2046), (2361.2071, 2361.2071), (2376.2086, 2376.2086), (2388.2098, 2388.2098), (2394.2104, 2394.2104), (2402.2112, 2402.2112), (2403.2113, 2402.2112), (2416.2126, 2416.2126), (242.1023, 242.1023), (2425.2135, 2425.2135), (243.1024, 242.1023), (244.1025, 242.1023), (245.1026, 242.1023), (2456.2166, 2456.2166), (2459.2169, 2459.2169), (2463.2173, 2463.2173), (2464.2174, 2463.2173), (2469.2179, 2469.2179), (2472.2182, 2472.2182), (2473.2183, 2472.2182), (2474.2184, 2472.2182), (2475.2185, 2472.2182), (2478.2188, 2478.2188), (250.1031, 250.1031), (2504.2214, 2504.2214), (2521.2231, 2521.2231), (2585.2295, 2585.2295), (2591.2301, 2591.2301), (2595.2305, 2595.2305), (2608.2318, 2608.2318), (2615.2325, 2615.2325), (2619.2329, 2619.2329), (2629.2339, 2629.2339), (2641.2351, 2641.2351), (2642.2352, 2641.2351), (2651.2361, 2651.2361), (2664.2374, 2664.2374), (2667.2377, 2667.2377), (2678.2388, 2678.2388), (2692.2402, 2692.2402), (2696.2406, 2696.2406), (2697.2407, 2696.2406), (2712.2422, 2712.2422), (2728.2438, 2728.2438), (2742.2452, 2742.2452), (2769.2479, 2769.2479), (2772.2482, 2772.2482), (2792.2502, 2792.2502), (2795.2505, 2795.2505), (2804.2514, 2804.2514), (2807.2517, 2807.2517), (2818.2528, 2818.2528), (2824.2534, 2824.2534), (2831.2541, 2831.2541), (2834.2544, 2834.2544), (2836.2546, 2836.2546), (2837.782, 2837.782), (284.1065, 284.1065), (2851.796, 2851.796), (2857.802, 2857.802), (2858.803, 2857.802), (2866.8109999999997, 2866.8109999999997), (287.1068, 287.1068), (2878.823, 2878.823), (2899.844, 2899.844), (2901.8459999999995, 2901.8459999999995), (2919.864, 2919.864), (2925.87, 2925.87), (2958.903, 2958.903), (297.1078, 297.1078), (2970.915, 2970.915), (2971.9159999999997, 2970.915), (2997.942, 2997.942), (2998.9429999999998, 2997.942), (30.811, 30.811), (3003.948, 3003.948), (3004.949, 3003.948), (3022.967, 3022.967), (3024.969, 3024.969), (3034.9790000000003, 3034.9790000000003), (3043.988, 3043.988), (306.1087, 306.1087), (3060.1005, 3060.1005), (3078.1023, 3078.1023), (3079.1024, 3078.1023), (3080.1025, 3078.1023), (3081.1026, 3078.1023), (3086.1031, 3086.1031), (3120.1065, 3120.1065), (3123.1068, 3123.1068), (3133.1078, 3133.1078), (3142.1087, 3142.1087), (3170.1115, 3170.1115), (3176.1121, 3176.1121), (3189.1134, 3189.1134), (3202.1147, 3202.1147), (3209.1154, 3209.1154), (3214.1159, 3214.1159), (3231.1176, 3231.1176), (3256.1201, 3256.1201), (3259.1204, 3259.1204), (3279.1224, 3279.1224), (3311.1256, 3311.1256), (3317.1262, 3317.1262), (3322.1267, 3322.1267), (3324.1269, 3324.1269), (334.1115, 334.1115), (3349.1294, 3349.1294), (3350.1295, 3349.1294), (3365.131, 3365.131), (3373.1318, 3373.1318), (3384.1329, 3384.1329), (3390.1335, 3390.1335), (3395.134, 3395.134), (340.1121, 340.1121), (3401.1346, 3401.1346), (3402.1347, 3401.1346), (3405.135, 3405.135), (3406.1351, 3405.135), (3408.1353, 3408.1353), (3410.1355, 3410.1355), (3413.1358, 3413.1358), (3415.136, 3415.136), (3425.1497, 3425.1497), (3446.1518, 3446.1518), (3449.1521, 3449.1521), (3453.1525, 3453.1525), (3456.1528, 3456.1528), (3466.1538, 3466.1538), (3475.1547, 3475.1547), (3480.1552, 3480.1552), (3481.1553, 3480.1552), (3503.1575, 3503.1575), (3516.1664, 3516.1664), (3523.1671, 3523.1671), (3526.1674, 3526.1674), (3529.1677, 3529.1677), (353.1134, 353.1134), (3576.1724, 3576.1724), (3579.1727, 3579.1727), (3580.1728, 3579.1727), (3596.1744, 3596.1744), (3613.1761, 3613.1761), (3614.1762, 3613.1761), (3618.1766, 3618.1766), (3624.1772, 3624.1772), (3630.1778, 3630.1778), (3636.1784, 3636.1784), (3649.1797, 3649.1797), (366.1147, 366.1147), (3668.196, 3668.196), (3677.1969, 3677.1969), (3679.1971, 3679.1971), (3708.2, 3708.2), (373.1154, 373.1154), (3743.2035, 3743.2035), (3748.204, 3748.204), (3749.2041, 3748.204), (3754.2046, 3754.2046), (3779.2071, 3779.2071), (378.1159, 378.1159), (3794.2086, 3794.2086), (3806.2098, 3806.2098), (3812.2104, 3812.2104), (3820.2112, 3820.2112), (3821.2113, 3820.2112), (3834.2126, 3834.2126), (3843.2135, 3843.2135), (3874.2166, 3874.2166), (3877.2169, 3877.2169), (3881.2173, 3881.2173), (3882.2174, 3881.2173), (3887.2179, 3887.2179), (3890.2182, 3890.2182), (3891.2183, 3890.2182), (3892.2184, 3890.2182), (3893.2185, 3890.2182), (3896.2188, 3896.2188), (3922.2214, 3922.2214), (3939.2231, 3939.2231), (395.1176, 395.1176), (4003.2295, 4003.2295), (4009.2301, 4009.2301), (4013.2305, 4013.2305), (4026.2318, 4026.2318), (4033.2325, 4033.2325), (4037.2329, 4037.2329), (4047.2339, 4047.2339), (4059.2351, 4059.2351), (4060.2352, 4059.2351), (4069.2361, 4069.2361), (4082.2374, 4082.2374), (4085.2377, 4085.2377), (4096.2388, 4096.2388), (4110.2402, 4110.2402), (4114.2406, 4114.2406), (4115.2407, 4114.2406), (4130.2422, 4130.2422), (4146.2438, 4146.2438), (4160.2452, 4160.2452), (4187.2479, 4187.2479), (4190.2482, 4190.2482), (42.823, 42.823), (420.1201, 420.1201), (4210.2502, 4210.2502), (4213.2505, 4213.2505), (4222.2514, 4222.2514), (4225.2517, 4225.2517), (423.1204, 423.1204), (4236.2528, 4236.2528), (4242.2534, 4242.2534), (4249.2541, 4249.2541), (4252.2544, 4252.2544), (4254.2546, 4254.2546), (443.1224, 443.1224), (475.1256, 475.1256), (481.1262, 481.1262), (486.1267, 486.1267), (488.1269, 488.1269), (513.1294, 513.1294), (514.1295, 513.1294), (529.131, 529.131), (537.1318, 537.1318), (548.1329, 548.1329), (554.1335, 554.1335), (559.134, 559.134), (565.1346, 565.1346), (566.1347, 565.1346), (569.135, 569.135), (570.1351, 569.135), (572.1353, 572.1353), (574.1355, 574.1355), (577.1358, 577.1358), (579.136, 579.136), (589.1497, 589.1497), (610.1518, 610.1518), (613.1521, 613.1521), (617.1525, 617.1525), (620.1528, 620.1528), (63.843999999999994, 63.843999999999994), (630.1538, 630.1538), (639.1547, 639.1547), (644.1552, 644.1552), (645.1553, 644.1552), (65.846, 65.846), (667.1575, 667.1575), (680.1664, 680.1664), (687.1671, 687.1671), (690.1674, 690.1674), (693.1677, 693.1677), (740.1724, 740.1724), (743.1727, 743.1727), (744.1728, 743.1727), (760.1744, 760.1744), (777.1761, 777.1761), (778.1762, 777.1761), (782.1766, 782.1766), (788.1772, 788.1772), (794.1778, 794.1778), (800.1784, 800.1784), (813.1797, 813.1797), (83.86399999999999, 83.86399999999999), (832.196, 832.196), (841.1969, 841.1969), (843.1971, 843.1971), (872.2, 872.2), (89.87, 89.87), (907.2035, 907.2035), (912.204, 912.204), (913.2041, 912.204), (918.2046, 918.2046), (943.2071, 943.2071), (958.2086, 958.2086), (970.2098, 970.2098), (976.2104, 976.2104), (984.2112, 984.2112), (985.2113, 984.2112), (998.2126, 998.2126)]\n"
          ],
          "name": "stdout"
        }
      ]
    },
    {
      "cell_type": "code",
      "metadata": {
        "id": "Z7L_Hhh-6LnY",
        "colab_type": "code",
        "colab": {
          "base_uri": "https://localhost:8080/",
          "height": 204
        },
        "outputId": "77a2ccd5-fbeb-40fa-e57a-70182fea1107"
      },
      "source": [
        "cg_occupancy_data['Domain']=cg_occupancy_data[['ResID','SeqID']].sort_values(\n",
        "    ['ResID','SeqID']).apply(\n",
        "        lambda x: domainNames['.'.join(map(str,x))],axis=1)\n",
        "\n",
        "cg_domain_data=cg_occupancy_data.groupby(['Domain','Frame','Time']).agg({\n",
        "    \"Occupancy\":lambda x: np.sum(x)>0\n",
        "})\n",
        "\n",
        "cg_domain_data=cg_domain_data.reset_index()\n",
        "\n",
        "cg_domain_data['Wait']=cg_domain_data['Occupancy'].map(lambda x: not x)\n",
        "cg_domain_data.head()"
      ],
      "execution_count": 63,
      "outputs": [
        {
          "output_type": "execute_result",
          "data": {
            "text/html": [
              "<div>\n",
              "<style scoped>\n",
              "    .dataframe tbody tr th:only-of-type {\n",
              "        vertical-align: middle;\n",
              "    }\n",
              "\n",
              "    .dataframe tbody tr th {\n",
              "        vertical-align: top;\n",
              "    }\n",
              "\n",
              "    .dataframe thead th {\n",
              "        text-align: right;\n",
              "    }\n",
              "</style>\n",
              "<table border=\"1\" class=\"dataframe\">\n",
              "  <thead>\n",
              "    <tr style=\"text-align: right;\">\n",
              "      <th></th>\n",
              "      <th>Domain</th>\n",
              "      <th>Frame</th>\n",
              "      <th>Time</th>\n",
              "      <th>Occupancy</th>\n",
              "      <th>Wait</th>\n",
              "    </tr>\n",
              "  </thead>\n",
              "  <tbody>\n",
              "    <tr>\n",
              "      <th>0</th>\n",
              "      <td>1.782</td>\n",
              "      <td>0</td>\n",
              "      <td>0.0</td>\n",
              "      <td>False</td>\n",
              "      <td>True</td>\n",
              "    </tr>\n",
              "    <tr>\n",
              "      <th>1</th>\n",
              "      <td>1.782</td>\n",
              "      <td>1</td>\n",
              "      <td>1000.0</td>\n",
              "      <td>False</td>\n",
              "      <td>True</td>\n",
              "    </tr>\n",
              "    <tr>\n",
              "      <th>2</th>\n",
              "      <td>1.782</td>\n",
              "      <td>2</td>\n",
              "      <td>2000.0</td>\n",
              "      <td>False</td>\n",
              "      <td>True</td>\n",
              "    </tr>\n",
              "    <tr>\n",
              "      <th>3</th>\n",
              "      <td>1.782</td>\n",
              "      <td>3</td>\n",
              "      <td>3000.0</td>\n",
              "      <td>False</td>\n",
              "      <td>True</td>\n",
              "    </tr>\n",
              "    <tr>\n",
              "      <th>4</th>\n",
              "      <td>1.782</td>\n",
              "      <td>4</td>\n",
              "      <td>4000.0</td>\n",
              "      <td>False</td>\n",
              "      <td>True</td>\n",
              "    </tr>\n",
              "  </tbody>\n",
              "</table>\n",
              "</div>"
            ],
            "text/plain": [
              "  Domain  Frame    Time  Occupancy  Wait\n",
              "0  1.782      0     0.0      False  True\n",
              "1  1.782      1  1000.0      False  True\n",
              "2  1.782      2  2000.0      False  True\n",
              "3  1.782      3  3000.0      False  True\n",
              "4  1.782      4  4000.0      False  True"
            ]
          },
          "metadata": {
            "tags": []
          },
          "execution_count": 63
        }
      ]
    },
    {
      "cell_type": "code",
      "metadata": {
        "id": "_cCMpd219p_f",
        "colab_type": "code",
        "colab": {
          "base_uri": "https://localhost:8080/",
          "height": 187
        },
        "outputId": "986d423a-e9c5-4220-d3ae-01559e9498b0"
      },
      "source": [
        "\n",
        "cgFrameRate=1.0 #time between frames in ns for coarse grain\n",
        "cgBinWidth=4.0\n",
        "cgKwds={'fr':cgFrameRate,'bw':cgBinWidth}\n",
        "\n",
        "cgFitDat=cg_domain_data \n",
        "cgFitFrame=cgFitDat.groupby('Domain').agg(\n",
        "    {\"Occupancy\": {\n",
        "        \"Total\":lambda x: cgFrameRate*np.sum(x),\n",
        "         \"N\":lambda x: len(extract_runs(x)),\n",
        "         \"Max\":lambda x: np.max(extract_runs(x))*cgFrameRate if np.sum(x) > 0 else 0,\n",
        "         \"GammaDist_Params\": lambda x: calc_GammaParams(x,**cgKwds), \n",
        "        \"Gamma_RMSE\":lambda x: calc_GammaRMSE(x,**cgKwds),\n",
        "        \"Exp_Mean\": lambda x: calc_ExpParams(x,**cgKwds), \n",
        "        \"Exp_RMSE\": lambda x: calc_ExpRMSE(x,**cgKwds),\n",
        "        },\n",
        "     \n",
        "     \"Wait\": {\n",
        "         \"Total\":lambda x: cgFrameRate*np.sum(x),\n",
        "         \"N\":lambda x: len(extract_runs(x)),\n",
        "         \"Max\":lambda x: np.max(extract_runs(x))*cgFrameRate if np.sum(x) > 0 else 0,\n",
        "         \"GammaDist_Params\": lambda x: calc_GammaParams(x,**cgKwds), \n",
        "        \"Gamma_RMSE\":lambda x: calc_GammaRMSE(x,**cgKwds),\n",
        "        \"Exp_Mean\": lambda x: calc_ExpParams(x,**cgKwds), \n",
        "        \"Exp_RMSE\": lambda x: calc_ExpRMSE(x,**cgKwds),\n",
        "        },\n",
        "     })\n",
        "\n",
        "cgFitFrame.columns=cgFitFrame.columns.map(lambda x: '.'.join(x))\n",
        "for entryType in ['Wait','Occupancy']:\n",
        "  cgFitFrame[entryType+'.Gamma_Mean']=cgFitFrame[entryType+'.GammaDist_Params'].map(np.product)\n",
        "  cgFitFrame[entryType+'.Gamma_k']=cgFitFrame[entryType+'.GammaDist_Params'].map(lambda x: x[1])\n",
        "  cgFitFrame=cgFitFrame.drop(columns=entryType+'.GammaDist_Params')\n",
        "  \n",
        "cgFitFrame['SimType']='CG'\n",
        "cgFitFrame=cgFitFrame.reset_index()\n",
        "cgFitFrame=cgFitFrame[[\"SimType\",\"Domain\",\"Occupancy.Total\", \n",
        "                       \"Occupancy.N\",\"Occupancy.Max\",\"Occupancy.Exp_Mean\",\"Occupancy.Exp_RMSE\",\n",
        "                       \"Occupancy.Gamma_Mean\",\"Occupancy.Gamma_k\",\"Occupancy.Gamma_RMSE\",\n",
        "                       \"Wait.N\",\"Wait.Max\",\"Wait.Exp_Mean\",\"Wait.Exp_RMSE\",\n",
        "                       \"Wait.Gamma_Mean\",\"Wait.Gamma_k\",\"Wait.Gamma_RMSE\"]]  \n",
        "#cgFitFrame.head()\n",
        "cgFitFrame.to_csv(baseDir+\"PIP2_cg_domain_fit.csv\",index=False)"
      ],
      "execution_count": 43,
      "outputs": [
        {
          "output_type": "stream",
          "text": [
            "/usr/local/lib/python2.7/dist-packages/ipykernel_launcher.py:37: RuntimeWarning: invalid value encountered in double_scalars\n",
            "/usr/local/lib/python2.7/dist-packages/ipykernel_launcher.py:37: RuntimeWarning: overflow encountered in power\n",
            "/usr/local/lib/python2.7/dist-packages/ipykernel_launcher.py:45: RuntimeWarning: divide by zero encountered in double_scalars\n",
            "/usr/local/lib/python2.7/dist-packages/ipykernel_launcher.py:49: RuntimeWarning: invalid value encountered in double_scalars\n",
            "/usr/local/lib/python2.7/dist-packages/ipykernel_launcher.py:37: RuntimeWarning: divide by zero encountered in divide\n",
            "/usr/local/lib/python2.7/dist-packages/ipykernel_launcher.py:48: RuntimeWarning: invalid value encountered in double_scalars\n",
            "/usr/local/lib/python2.7/dist-packages/ipykernel_launcher.py:37: RuntimeWarning: overflow encountered in double_scalars\n",
            "/usr/local/lib/python2.7/dist-packages/ipykernel_launcher.py:37: RuntimeWarning: overflow encountered in exp\n",
            "/usr/local/lib/python2.7/dist-packages/ipykernel_launcher.py:37: RuntimeWarning: invalid value encountered in multiply\n",
            "/usr/local/lib/python2.7/dist-packages/ipykernel_launcher.py:37: RuntimeWarning: divide by zero encountered in double_scalars\n"
          ],
          "name": "stderr"
        }
      ]
    }
  ]
}