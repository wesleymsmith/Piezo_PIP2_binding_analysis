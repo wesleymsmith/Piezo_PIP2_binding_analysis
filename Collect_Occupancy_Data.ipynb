{
  "nbformat": 4,
  "nbformat_minor": 0,
  "metadata": {
    "kernelspec": {
      "display_name": "Python 2",
      "language": "python",
      "name": "python2"
    },
    "language_info": {
      "codemirror_mode": {
        "name": "ipython",
        "version": 2
      },
      "file_extension": ".py",
      "mimetype": "text/x-python",
      "name": "python",
      "nbconvert_exporter": "python",
      "pygments_lexer": "ipython2",
      "version": "2.7.15"
    },
    "colab": {
      "name": "Collect_Occupancy_Data.ipynb",
      "provenance": []
    },
    "widgets": {
      "application/vnd.jupyter.widget-state+json": {
        "5089ed5059bd4aa0a29133e5dce1b1dd": {
          "model_module": "@jupyter-widgets/controls",
          "model_name": "VBoxModel",
          "state": {
            "_view_name": "VBoxView",
            "_dom_classes": [
              "widget-interact"
            ],
            "_model_name": "VBoxModel",
            "_view_module": "@jupyter-widgets/controls",
            "_model_module_version": "1.5.0",
            "_view_count": null,
            "_view_module_version": "1.5.0",
            "box_style": "",
            "layout": "IPY_MODEL_22059fbd181c4162a52a71a9c8183bc0",
            "_model_module": "@jupyter-widgets/controls",
            "children": [
              "IPY_MODEL_a6165b05016c45c080deb05196c7cbf3",
              "IPY_MODEL_3d48377a23c0454888402a3b8fb8a238"
            ]
          }
        },
        "22059fbd181c4162a52a71a9c8183bc0": {
          "model_module": "@jupyter-widgets/base",
          "model_name": "LayoutModel",
          "state": {
            "_view_name": "LayoutView",
            "grid_template_rows": null,
            "right": null,
            "justify_content": null,
            "_view_module": "@jupyter-widgets/base",
            "_model_module_version": "1.2.0",
            "_view_count": null,
            "flex_flow": null,
            "min_width": null,
            "border": null,
            "align_items": null,
            "bottom": null,
            "_model_module": "@jupyter-widgets/base",
            "top": null,
            "grid_column": null,
            "width": null,
            "overflow_x": null,
            "grid_auto_flow": null,
            "grid_area": null,
            "grid_template_columns": null,
            "flex": null,
            "_model_name": "LayoutModel",
            "justify_items": null,
            "grid_row": null,
            "max_height": null,
            "align_content": null,
            "visibility": null,
            "overflow": null,
            "height": null,
            "min_height": null,
            "padding": null,
            "grid_auto_rows": null,
            "grid_gap": null,
            "overflow_y": null,
            "max_width": null,
            "order": null,
            "_view_module_version": "1.2.0",
            "align_self": null,
            "grid_template_areas": null,
            "object_position": null,
            "object_fit": null,
            "grid_auto_columns": null,
            "margin": null,
            "display": null,
            "left": null
          }
        },
        "a6165b05016c45c080deb05196c7cbf3": {
          "model_module": "@jupyter-widgets/controls",
          "model_name": "DropdownModel",
          "state": {
            "_view_name": "DropdownView",
            "index": 0,
            "style": "IPY_MODEL_5c08faee5b704c5c9c1cb9a13cd8ff93",
            "layout": "IPY_MODEL_c97939aa2ed8450c9cb41c42e623516e",
            "description": "sheet_name",
            "_options_labels": [
              "cg",
              "Sheet1",
              "aa",
              "tension_30ns",
              "resinfo_table"
            ],
            "_model_name": "DropdownModel",
            "_view_module": "@jupyter-widgets/controls",
            "_model_module_version": "1.5.0",
            "_view_count": null,
            "disabled": false,
            "_view_module_version": "1.5.0",
            "description_tooltip": null,
            "_dom_classes": [],
            "_model_module": "@jupyter-widgets/controls"
          }
        },
        "3d48377a23c0454888402a3b8fb8a238": {
          "model_module": "@jupyter-widgets/output",
          "model_name": "OutputModel",
          "state": {
            "_view_name": "OutputView",
            "_view_module": "@jupyter-widgets/output",
            "_dom_classes": [],
            "_model_name": "OutputModel",
            "outputs": [
              {
                "output_type": "display_data",
                "metadata": {
                  "tags": []
                },
                "text/plain": "     12us=12000  Prot ID  ...           Unnamed: 15             Unnamed: 16\n0           NaN      242  ...                   NaN                     NaN\n1           NaN     1660  ...                   NaN                     NaN\n2           NaN     2105  ...                   NaN                     NaN\n3           NaN     3080  ...                   NaN                     NaN\n4           NaN     3893  ...                   NaN                     NaN\n5           NaN     3078  ...                   NaN                     NaN\n6           NaN     2475  ...         parm7: 1-4254                     NaN\n7           NaN      744  ...        63; 1481; 2899                     NaN\n8           NaN     1057  ...        65; 1483; 2901                     NaN\n9           NaN     3004  ...       420; 1838; 3256                     NaN\n10          NaN     3820  ...       423; 1841; 3259                     NaN\n11          NaN      168  ...                   NaN                     NaN\n12          NaN     1054  ...                   NaN                     NaN\n13          NaN      243  ...                   NaN                     NaN\n14          NaN     3821  ...                   NaN                     NaN\n15          NaN     2162  ...                   NaN                     NaN\n16          NaN     3079  ...                   NaN                     NaN\n17          NaN     1056  ...  version 3@Oct 1,2019                     NaN\n18          NaN     2474  ...            Residue ID  Total occupay Time(us)\n19          NaN     3086  ...                 R1023                  11.288\n20          NaN     2899  ...                 R1024                   8.961\n21          NaN     2161  ...                 R1025                   8.206\n22          NaN     3892  ...                 R1031                   8.184\n23          NaN     2331  ...                 R1671                  10.567\n24          NaN     1662  ...                 K1727                   8.484\n25          NaN       63  ...                 R1728                   9.533\n26          NaN      250  ...                 K2041                   8.222\n27          NaN     1586  ...                 K2112                   9.135\n28          NaN     1661  ...                 K2113                    8.91\n29          NaN      743  ...                 K2182                   9.111\n..          ...      ...  ...                   ...                     ...\n399         NaN      574  ...                   NaN                     NaN\n400         NaN      577  ...                   NaN                     NaN\n401         NaN      579  ...                   NaN                     NaN\n402         NaN      610  ...                   NaN                     NaN\n403         NaN      613  ...                   NaN                     NaN\n404         NaN      617  ...                   NaN                     NaN\n405         NaN      620  ...                   NaN                     NaN\n406         NaN      630  ...                   NaN                     NaN\n407         NaN      644  ...                   NaN                     NaN\n408         NaN      645  ...                   NaN                     NaN\n409         NaN      667  ...                   NaN                     NaN\n410         NaN      680  ...                   NaN                     NaN\n411         NaN      693  ...                   NaN                     NaN\n412         NaN      760  ...                   NaN                     NaN\n413         NaN      777  ...                   NaN                     NaN\n414         NaN      778  ...                   NaN                     NaN\n415         NaN      782  ...                   NaN                     NaN\n416         NaN      788  ...                   NaN                     NaN\n417         NaN      794  ...                   NaN                     NaN\n418         NaN      800  ...                   NaN                     NaN\n419         NaN       83  ...                   NaN                     NaN\n420         NaN      872  ...                   NaN                     NaN\n421         NaN       89  ...                   NaN                     NaN\n422         NaN      907  ...                   NaN                     NaN\n423         NaN      918  ...                   NaN                     NaN\n424         NaN      943  ...                   NaN                     NaN\n425         NaN      958  ...                   NaN                     NaN\n426         NaN      970  ...                   NaN                     NaN\n427         NaN      976  ...                   NaN                     NaN\n428         NaN      998  ...                   NaN                     NaN\n\n[429 rows x 17 columns]",
                "text/html": "<div>\n<style scoped>\n    .dataframe tbody tr th:only-of-type {\n        vertical-align: middle;\n    }\n\n    .dataframe tbody tr th {\n        vertical-align: top;\n    }\n\n    .dataframe thead th {\n        text-align: right;\n    }\n</style>\n<table border=\"1\" class=\"dataframe\">\n  <thead>\n    <tr style=\"text-align: right;\">\n      <th></th>\n      <th>12us=12000</th>\n      <th>Prot ID</th>\n      <th>mean</th>\n      <th>total</th>\n      <th>max</th>\n      <th>6R3R.pdb</th>\n      <th>Prot ID.1</th>\n      <th>mean(ns)</th>\n      <th>total(us)</th>\n      <th>max(ns)</th>\n      <th>Unnamed: 10</th>\n      <th>Prot ID.2</th>\n      <th>6R3R.pdb.1</th>\n      <th>total residues=429 : LYS and ARG</th>\n      <th>Unnamed: 14</th>\n      <th>Unnamed: 15</th>\n      <th>Unnamed: 16</th>\n    </tr>\n  </thead>\n  <tbody>\n    <tr>\n      <th>0</th>\n      <td>NaN</td>\n      <td>242</td>\n      <td>67.190476</td>\n      <td>11288</td>\n      <td>664</td>\n      <td>1023.0</td>\n      <td>242</td>\n      <td>67.190476</td>\n      <td>11.288</td>\n      <td>664</td>\n      <td>NaN</td>\n      <td>242</td>\n      <td>ARG 1023</td>\n      <td>If cut-off total time=6us</td>\n      <td>NaN</td>\n      <td>NaN</td>\n      <td>NaN</td>\n    </tr>\n    <tr>\n      <th>1</th>\n      <td>NaN</td>\n      <td>1660</td>\n      <td>23.065708</td>\n      <td>11233</td>\n      <td>299</td>\n      <td>1023.0</td>\n      <td>1660</td>\n      <td>23.065708</td>\n      <td>11.233</td>\n      <td>299</td>\n      <td>NaN</td>\n      <td>1660</td>\n      <td>ARG 1023</td>\n      <td>NaN</td>\n      <td>NaN</td>\n      <td>NaN</td>\n      <td>NaN</td>\n    </tr>\n    <tr>\n      <th>2</th>\n      <td>NaN</td>\n      <td>2105</td>\n      <td>36.188356</td>\n      <td>10567</td>\n      <td>385</td>\n      <td>1671.0</td>\n      <td>2105</td>\n      <td>36.188356</td>\n      <td>10.567</td>\n      <td>385</td>\n      <td>NaN</td>\n      <td>2105</td>\n      <td>1671</td>\n      <td>NaN</td>\n      <td>NaN</td>\n      <td>NaN</td>\n      <td>NaN</td>\n    </tr>\n    <tr>\n      <th>3</th>\n      <td>NaN</td>\n      <td>3080</td>\n      <td>11.861798</td>\n      <td>10557</td>\n      <td>522</td>\n      <td>1023.0</td>\n      <td>3080</td>\n      <td>11.861798</td>\n      <td>10.557</td>\n      <td>522</td>\n      <td>NaN</td>\n      <td>3080</td>\n      <td>ARG 1023</td>\n      <td>NaN</td>\n      <td>NaN</td>\n      <td>NaN</td>\n      <td>NaN</td>\n    </tr>\n    <tr>\n      <th>4</th>\n      <td>NaN</td>\n      <td>3893</td>\n      <td>10.967708</td>\n      <td>10529</td>\n      <td>168</td>\n      <td>2185.0</td>\n      <td>3893</td>\n      <td>10.967708</td>\n      <td>10.529</td>\n      <td>168</td>\n      <td>NaN</td>\n      <td>3893</td>\n      <td>LYS 2185</td>\n      <td>NaN</td>\n      <td>NaN</td>\n      <td>NaN</td>\n      <td>NaN</td>\n    </tr>\n    <tr>\n      <th>5</th>\n      <td>NaN</td>\n      <td>3078</td>\n      <td>8.554615</td>\n      <td>10103</td>\n      <td>297</td>\n      <td>1023.0</td>\n      <td>3078</td>\n      <td>8.554615</td>\n      <td>10.103</td>\n      <td>297</td>\n      <td>NaN</td>\n      <td>3078</td>\n      <td>ARG 1023</td>\n      <td>NaN</td>\n      <td>NaN</td>\n      <td>NaN</td>\n      <td>NaN</td>\n    </tr>\n    <tr>\n      <th>6</th>\n      <td>NaN</td>\n      <td>2475</td>\n      <td>16.284053</td>\n      <td>9803</td>\n      <td>202</td>\n      <td>2185.0</td>\n      <td>2475</td>\n      <td>16.284053</td>\n      <td>9.803</td>\n      <td>202</td>\n      <td>NaN</td>\n      <td>2475</td>\n      <td>2185</td>\n      <td>NaN</td>\n      <td>PDB 6B3R</td>\n      <td>parm7: 1-4254</td>\n      <td>NaN</td>\n    </tr>\n    <tr>\n      <th>7</th>\n      <td>NaN</td>\n      <td>744</td>\n      <td>12.593131</td>\n      <td>9533</td>\n      <td>153</td>\n      <td>1728.0</td>\n      <td>744</td>\n      <td>12.593131</td>\n      <td>9.533</td>\n      <td>153</td>\n      <td>NaN</td>\n      <td>744</td>\n      <td>1728</td>\n      <td>UK residues:</td>\n      <td>R844</td>\n      <td>63; 1481; 2899</td>\n      <td>NaN</td>\n    </tr>\n    <tr>\n      <th>8</th>\n      <td>NaN</td>\n      <td>1057</td>\n      <td>11.188014</td>\n      <td>9521</td>\n      <td>200</td>\n      <td>2185.0</td>\n      <td>1057</td>\n      <td>11.188014</td>\n      <td>9.521</td>\n      <td>200</td>\n      <td>NaN</td>\n      <td>1057</td>\n      <td>2185</td>\n      <td>NaN</td>\n      <td>R846</td>\n      <td>65; 1483; 2901</td>\n      <td>NaN</td>\n    </tr>\n    <tr>\n      <th>9</th>\n      <td>NaN</td>\n      <td>3004</td>\n      <td>6.303333</td>\n      <td>9455</td>\n      <td>121</td>\n      <td>949.0</td>\n      <td>3004</td>\n      <td>6.303333</td>\n      <td>9.455</td>\n      <td>121</td>\n      <td>NaN</td>\n      <td>3004</td>\n      <td>949</td>\n      <td>NaN</td>\n      <td>K1201</td>\n      <td>420; 1838; 3256</td>\n      <td>NaN</td>\n    </tr>\n    <tr>\n      <th>10</th>\n      <td>NaN</td>\n      <td>3820</td>\n      <td>8.609802</td>\n      <td>9135</td>\n      <td>90</td>\n      <td>2112.0</td>\n      <td>3820</td>\n      <td>8.609802</td>\n      <td>9.135</td>\n      <td>90</td>\n      <td>NaN</td>\n      <td>3820</td>\n      <td>2112</td>\n      <td>NaN</td>\n      <td>R1204</td>\n      <td>423; 1841; 3259</td>\n      <td>NaN</td>\n    </tr>\n    <tr>\n      <th>11</th>\n      <td>NaN</td>\n      <td>168</td>\n      <td>5.474190</td>\n      <td>9120</td>\n      <td>85</td>\n      <td>949.0</td>\n      <td>168</td>\n      <td>5.474190</td>\n      <td>9.120</td>\n      <td>85</td>\n      <td>NaN</td>\n      <td>168</td>\n      <td>949</td>\n      <td>NaN</td>\n      <td>NaN</td>\n      <td>NaN</td>\n      <td>NaN</td>\n    </tr>\n    <tr>\n      <th>12</th>\n      <td>NaN</td>\n      <td>1054</td>\n      <td>15.134551</td>\n      <td>9111</td>\n      <td>252</td>\n      <td>2182.0</td>\n      <td>1054</td>\n      <td>15.134551</td>\n      <td>9.111</td>\n      <td>252</td>\n      <td>NaN</td>\n      <td>1054</td>\n      <td>2182</td>\n      <td>10 residues</td>\n      <td>R1023</td>\n      <td>NaN</td>\n      <td>NaN</td>\n    </tr>\n    <tr>\n      <th>13</th>\n      <td>NaN</td>\n      <td>243</td>\n      <td>4.779200</td>\n      <td>8961</td>\n      <td>48</td>\n      <td>1024.0</td>\n      <td>243</td>\n      <td>4.779200</td>\n      <td>8.961</td>\n      <td>48</td>\n      <td>NaN</td>\n      <td>243</td>\n      <td>1024</td>\n      <td>NaN</td>\n      <td>R1024</td>\n      <td>NaN</td>\n      <td>NaN</td>\n    </tr>\n    <tr>\n      <th>14</th>\n      <td>NaN</td>\n      <td>3821</td>\n      <td>6.859122</td>\n      <td>8910</td>\n      <td>54</td>\n      <td>2113.0</td>\n      <td>3821</td>\n      <td>6.859122</td>\n      <td>8.910</td>\n      <td>54</td>\n      <td>NaN</td>\n      <td>3821</td>\n      <td>2113</td>\n      <td>NaN</td>\n      <td>R1025</td>\n      <td>NaN</td>\n      <td>NaN</td>\n    </tr>\n    <tr>\n      <th>15</th>\n      <td>NaN</td>\n      <td>2162</td>\n      <td>16.233333</td>\n      <td>8766</td>\n      <td>927</td>\n      <td>1728.0</td>\n      <td>2162</td>\n      <td>16.233333</td>\n      <td>8.766</td>\n      <td>927</td>\n      <td>NaN</td>\n      <td>2162</td>\n      <td>1728</td>\n      <td>NaN</td>\n      <td>NaN</td>\n      <td>NaN</td>\n      <td>NaN</td>\n    </tr>\n    <tr>\n      <th>16</th>\n      <td>NaN</td>\n      <td>3079</td>\n      <td>6.440590</td>\n      <td>8727</td>\n      <td>340</td>\n      <td>1024.0</td>\n      <td>3079</td>\n      <td>6.440590</td>\n      <td>8.727</td>\n      <td>340</td>\n      <td>NaN</td>\n      <td>3079</td>\n      <td>ARG 1024</td>\n      <td>NaN</td>\n      <td>R629; K630;R633</td>\n      <td>NaN</td>\n      <td>NaN</td>\n    </tr>\n    <tr>\n      <th>17</th>\n      <td>NaN</td>\n      <td>1056</td>\n      <td>7.093878</td>\n      <td>8690</td>\n      <td>70</td>\n      <td>2184.0</td>\n      <td>1056</td>\n      <td>7.093878</td>\n      <td>8.690</td>\n      <td>70</td>\n      <td>NaN</td>\n      <td>1056</td>\n      <td>2184</td>\n      <td>NaN</td>\n      <td>version2</td>\n      <td>version 3@Oct 1,2019</td>\n      <td>NaN</td>\n    </tr>\n    <tr>\n      <th>18</th>\n      <td>NaN</td>\n      <td>2474</td>\n      <td>7.821072</td>\n      <td>8611</td>\n      <td>124</td>\n      <td>2184.0</td>\n      <td>2474</td>\n      <td>7.821072</td>\n      <td>8.611</td>\n      <td>124</td>\n      <td>NaN</td>\n      <td>2474</td>\n      <td>2184</td>\n      <td>NaN</td>\n      <td>Residue ID</td>\n      <td>Residue ID</td>\n      <td>Total occupay Time(us)</td>\n    </tr>\n    <tr>\n      <th>19</th>\n      <td>NaN</td>\n      <td>3086</td>\n      <td>9.996479</td>\n      <td>8517</td>\n      <td>938</td>\n      <td>1031.0</td>\n      <td>3086</td>\n      <td>9.996479</td>\n      <td>8.517</td>\n      <td>938</td>\n      <td>NaN</td>\n      <td>3086</td>\n      <td>1031</td>\n      <td>NaN</td>\n      <td>ARG 1023</td>\n      <td>R1023</td>\n      <td>11.288</td>\n    </tr>\n    <tr>\n      <th>20</th>\n      <td>NaN</td>\n      <td>2899</td>\n      <td>16.494186</td>\n      <td>8511</td>\n      <td>339</td>\n      <td>844.0</td>\n      <td>2899</td>\n      <td>16.494186</td>\n      <td>8.511</td>\n      <td>339</td>\n      <td>NaN</td>\n      <td>2899</td>\n      <td>R844</td>\n      <td>NaN</td>\n      <td>ARG 1024</td>\n      <td>R1024</td>\n      <td>8.961</td>\n    </tr>\n    <tr>\n      <th>21</th>\n      <td>NaN</td>\n      <td>2161</td>\n      <td>12.476471</td>\n      <td>8484</td>\n      <td>286</td>\n      <td>1727.0</td>\n      <td>2161</td>\n      <td>12.476471</td>\n      <td>8.484</td>\n      <td>286</td>\n      <td>NaN</td>\n      <td>2161</td>\n      <td>1727</td>\n      <td>NaN</td>\n      <td>ARG 1025</td>\n      <td>R1025</td>\n      <td>8.206</td>\n    </tr>\n    <tr>\n      <th>22</th>\n      <td>NaN</td>\n      <td>3892</td>\n      <td>5.637392</td>\n      <td>8473</td>\n      <td>111</td>\n      <td>2184.0</td>\n      <td>3892</td>\n      <td>5.637392</td>\n      <td>8.473</td>\n      <td>111</td>\n      <td>NaN</td>\n      <td>3892</td>\n      <td>2184</td>\n      <td>NaN</td>\n      <td>LYS 2182</td>\n      <td>R1031</td>\n      <td>8.184</td>\n    </tr>\n    <tr>\n      <th>23</th>\n      <td>NaN</td>\n      <td>2331</td>\n      <td>6.926706</td>\n      <td>8222</td>\n      <td>250</td>\n      <td>2041.0</td>\n      <td>2331</td>\n      <td>6.926706</td>\n      <td>8.222</td>\n      <td>250</td>\n      <td>NaN</td>\n      <td>2331</td>\n      <td>2041</td>\n      <td>NaN</td>\n      <td>LYS 2183</td>\n      <td>R1671</td>\n      <td>10.567</td>\n    </tr>\n    <tr>\n      <th>24</th>\n      <td>NaN</td>\n      <td>1662</td>\n      <td>3.709765</td>\n      <td>8206</td>\n      <td>34</td>\n      <td>1025.0</td>\n      <td>1662</td>\n      <td>3.709765</td>\n      <td>8.206</td>\n      <td>34</td>\n      <td>NaN</td>\n      <td>1662</td>\n      <td>1025</td>\n      <td>NaN</td>\n      <td>LYS 2184</td>\n      <td>K1727</td>\n      <td>8.484</td>\n    </tr>\n    <tr>\n      <th>25</th>\n      <td>NaN</td>\n      <td>63</td>\n      <td>7.475799</td>\n      <td>8186</td>\n      <td>320</td>\n      <td>844.0</td>\n      <td>63</td>\n      <td>7.475799</td>\n      <td>8.186</td>\n      <td>320</td>\n      <td>NaN</td>\n      <td>63</td>\n      <td>R844</td>\n      <td>NaN</td>\n      <td>LYS 2185</td>\n      <td>R1728</td>\n      <td>9.533</td>\n    </tr>\n    <tr>\n      <th>26</th>\n      <td>NaN</td>\n      <td>250</td>\n      <td>16.110236</td>\n      <td>8184</td>\n      <td>258</td>\n      <td>1031.0</td>\n      <td>250</td>\n      <td>16.110236</td>\n      <td>8.184</td>\n      <td>258</td>\n      <td>NaN</td>\n      <td>250</td>\n      <td>1031</td>\n      <td>NaN</td>\n      <td>ARG 2040</td>\n      <td>K2041</td>\n      <td>8.222</td>\n    </tr>\n    <tr>\n      <th>27</th>\n      <td>NaN</td>\n      <td>1586</td>\n      <td>4.193295</td>\n      <td>8005</td>\n      <td>51</td>\n      <td>949.0</td>\n      <td>1586</td>\n      <td>4.193295</td>\n      <td>8.005</td>\n      <td>51</td>\n      <td>NaN</td>\n      <td>1586</td>\n      <td>949</td>\n      <td>NaN</td>\n      <td>LYS 2041</td>\n      <td>K2112</td>\n      <td>9.135</td>\n    </tr>\n    <tr>\n      <th>28</th>\n      <td>NaN</td>\n      <td>1661</td>\n      <td>3.869439</td>\n      <td>8002</td>\n      <td>97</td>\n      <td>1024.0</td>\n      <td>1661</td>\n      <td>3.869439</td>\n      <td>8.002</td>\n      <td>97</td>\n      <td>NaN</td>\n      <td>1661</td>\n      <td>1024</td>\n      <td>NaN</td>\n      <td>ARG 1031</td>\n      <td>K2113</td>\n      <td>8.91</td>\n    </tr>\n    <tr>\n      <th>29</th>\n      <td>NaN</td>\n      <td>743</td>\n      <td>4.385610</td>\n      <td>7802</td>\n      <td>79</td>\n      <td>1727.0</td>\n      <td>743</td>\n      <td>4.385610</td>\n      <td>7.802</td>\n      <td>79</td>\n      <td>NaN</td>\n      <td>743</td>\n      <td>1727</td>\n      <td>NaN</td>\n      <td>NaN</td>\n      <td>K2182</td>\n      <td>9.111</td>\n    </tr>\n    <tr>\n      <th>...</th>\n      <td>...</td>\n      <td>...</td>\n      <td>...</td>\n      <td>...</td>\n      <td>...</td>\n      <td>...</td>\n      <td>...</td>\n      <td>...</td>\n      <td>...</td>\n      <td>...</td>\n      <td>...</td>\n      <td>...</td>\n      <td>...</td>\n      <td>...</td>\n      <td>...</td>\n      <td>...</td>\n      <td>...</td>\n    </tr>\n    <tr>\n      <th>399</th>\n      <td>NaN</td>\n      <td>574</td>\n      <td>0.000000</td>\n      <td>0</td>\n      <td>0</td>\n      <td>NaN</td>\n      <td>574</td>\n      <td>0.000000</td>\n      <td>0.000</td>\n      <td>0</td>\n      <td>NaN</td>\n      <td>574</td>\n      <td>NaN</td>\n      <td>NaN</td>\n      <td>NaN</td>\n      <td>NaN</td>\n      <td>NaN</td>\n    </tr>\n    <tr>\n      <th>400</th>\n      <td>NaN</td>\n      <td>577</td>\n      <td>0.000000</td>\n      <td>0</td>\n      <td>0</td>\n      <td>NaN</td>\n      <td>577</td>\n      <td>0.000000</td>\n      <td>0.000</td>\n      <td>0</td>\n      <td>NaN</td>\n      <td>577</td>\n      <td>NaN</td>\n      <td>NaN</td>\n      <td>NaN</td>\n      <td>NaN</td>\n      <td>NaN</td>\n    </tr>\n    <tr>\n      <th>401</th>\n      <td>NaN</td>\n      <td>579</td>\n      <td>0.000000</td>\n      <td>0</td>\n      <td>0</td>\n      <td>NaN</td>\n      <td>579</td>\n      <td>0.000000</td>\n      <td>0.000</td>\n      <td>0</td>\n      <td>NaN</td>\n      <td>579</td>\n      <td>NaN</td>\n      <td>NaN</td>\n      <td>NaN</td>\n      <td>NaN</td>\n      <td>NaN</td>\n    </tr>\n    <tr>\n      <th>402</th>\n      <td>NaN</td>\n      <td>610</td>\n      <td>0.000000</td>\n      <td>0</td>\n      <td>0</td>\n      <td>NaN</td>\n      <td>610</td>\n      <td>0.000000</td>\n      <td>0.000</td>\n      <td>0</td>\n      <td>NaN</td>\n      <td>610</td>\n      <td>NaN</td>\n      <td>NaN</td>\n      <td>NaN</td>\n      <td>NaN</td>\n      <td>NaN</td>\n    </tr>\n    <tr>\n      <th>403</th>\n      <td>NaN</td>\n      <td>613</td>\n      <td>0.000000</td>\n      <td>0</td>\n      <td>0</td>\n      <td>NaN</td>\n      <td>613</td>\n      <td>0.000000</td>\n      <td>0.000</td>\n      <td>0</td>\n      <td>NaN</td>\n      <td>613</td>\n      <td>NaN</td>\n      <td>NaN</td>\n      <td>NaN</td>\n      <td>NaN</td>\n      <td>NaN</td>\n    </tr>\n    <tr>\n      <th>404</th>\n      <td>NaN</td>\n      <td>617</td>\n      <td>0.000000</td>\n      <td>0</td>\n      <td>0</td>\n      <td>NaN</td>\n      <td>617</td>\n      <td>0.000000</td>\n      <td>0.000</td>\n      <td>0</td>\n      <td>NaN</td>\n      <td>617</td>\n      <td>NaN</td>\n      <td>NaN</td>\n      <td>NaN</td>\n      <td>NaN</td>\n      <td>NaN</td>\n    </tr>\n    <tr>\n      <th>405</th>\n      <td>NaN</td>\n      <td>620</td>\n      <td>0.000000</td>\n      <td>0</td>\n      <td>0</td>\n      <td>NaN</td>\n      <td>620</td>\n      <td>0.000000</td>\n      <td>0.000</td>\n      <td>0</td>\n      <td>NaN</td>\n      <td>620</td>\n      <td>NaN</td>\n      <td>NaN</td>\n      <td>NaN</td>\n      <td>NaN</td>\n      <td>NaN</td>\n    </tr>\n    <tr>\n      <th>406</th>\n      <td>NaN</td>\n      <td>630</td>\n      <td>0.000000</td>\n      <td>0</td>\n      <td>0</td>\n      <td>NaN</td>\n      <td>630</td>\n      <td>0.000000</td>\n      <td>0.000</td>\n      <td>0</td>\n      <td>NaN</td>\n      <td>630</td>\n      <td>NaN</td>\n      <td>NaN</td>\n      <td>NaN</td>\n      <td>NaN</td>\n      <td>NaN</td>\n    </tr>\n    <tr>\n      <th>407</th>\n      <td>NaN</td>\n      <td>644</td>\n      <td>0.000000</td>\n      <td>0</td>\n      <td>0</td>\n      <td>NaN</td>\n      <td>644</td>\n      <td>0.000000</td>\n      <td>0.000</td>\n      <td>0</td>\n      <td>NaN</td>\n      <td>644</td>\n      <td>NaN</td>\n      <td>NaN</td>\n      <td>NaN</td>\n      <td>NaN</td>\n      <td>NaN</td>\n    </tr>\n    <tr>\n      <th>408</th>\n      <td>NaN</td>\n      <td>645</td>\n      <td>0.000000</td>\n      <td>0</td>\n      <td>0</td>\n      <td>NaN</td>\n      <td>645</td>\n      <td>0.000000</td>\n      <td>0.000</td>\n      <td>0</td>\n      <td>NaN</td>\n      <td>645</td>\n      <td>NaN</td>\n      <td>NaN</td>\n      <td>NaN</td>\n      <td>NaN</td>\n      <td>NaN</td>\n    </tr>\n    <tr>\n      <th>409</th>\n      <td>NaN</td>\n      <td>667</td>\n      <td>0.000000</td>\n      <td>0</td>\n      <td>0</td>\n      <td>NaN</td>\n      <td>667</td>\n      <td>0.000000</td>\n      <td>0.000</td>\n      <td>0</td>\n      <td>NaN</td>\n      <td>667</td>\n      <td>NaN</td>\n      <td>NaN</td>\n      <td>NaN</td>\n      <td>NaN</td>\n      <td>NaN</td>\n    </tr>\n    <tr>\n      <th>410</th>\n      <td>NaN</td>\n      <td>680</td>\n      <td>0.000000</td>\n      <td>0</td>\n      <td>0</td>\n      <td>NaN</td>\n      <td>680</td>\n      <td>0.000000</td>\n      <td>0.000</td>\n      <td>0</td>\n      <td>NaN</td>\n      <td>680</td>\n      <td>NaN</td>\n      <td>NaN</td>\n      <td>NaN</td>\n      <td>NaN</td>\n      <td>NaN</td>\n    </tr>\n    <tr>\n      <th>411</th>\n      <td>NaN</td>\n      <td>693</td>\n      <td>0.000000</td>\n      <td>0</td>\n      <td>0</td>\n      <td>NaN</td>\n      <td>693</td>\n      <td>0.000000</td>\n      <td>0.000</td>\n      <td>0</td>\n      <td>NaN</td>\n      <td>693</td>\n      <td>NaN</td>\n      <td>NaN</td>\n      <td>NaN</td>\n      <td>NaN</td>\n      <td>NaN</td>\n    </tr>\n    <tr>\n      <th>412</th>\n      <td>NaN</td>\n      <td>760</td>\n      <td>0.000000</td>\n      <td>0</td>\n      <td>0</td>\n      <td>NaN</td>\n      <td>760</td>\n      <td>0.000000</td>\n      <td>0.000</td>\n      <td>0</td>\n      <td>NaN</td>\n      <td>760</td>\n      <td>NaN</td>\n      <td>NaN</td>\n      <td>NaN</td>\n      <td>NaN</td>\n      <td>NaN</td>\n    </tr>\n    <tr>\n      <th>413</th>\n      <td>NaN</td>\n      <td>777</td>\n      <td>0.000000</td>\n      <td>0</td>\n      <td>0</td>\n      <td>NaN</td>\n      <td>777</td>\n      <td>0.000000</td>\n      <td>0.000</td>\n      <td>0</td>\n      <td>NaN</td>\n      <td>777</td>\n      <td>NaN</td>\n      <td>NaN</td>\n      <td>NaN</td>\n      <td>NaN</td>\n      <td>NaN</td>\n    </tr>\n    <tr>\n      <th>414</th>\n      <td>NaN</td>\n      <td>778</td>\n      <td>0.000000</td>\n      <td>0</td>\n      <td>0</td>\n      <td>NaN</td>\n      <td>778</td>\n      <td>0.000000</td>\n      <td>0.000</td>\n      <td>0</td>\n      <td>NaN</td>\n      <td>778</td>\n      <td>NaN</td>\n      <td>NaN</td>\n      <td>NaN</td>\n      <td>NaN</td>\n      <td>NaN</td>\n    </tr>\n    <tr>\n      <th>415</th>\n      <td>NaN</td>\n      <td>782</td>\n      <td>0.000000</td>\n      <td>0</td>\n      <td>0</td>\n      <td>NaN</td>\n      <td>782</td>\n      <td>0.000000</td>\n      <td>0.000</td>\n      <td>0</td>\n      <td>NaN</td>\n      <td>782</td>\n      <td>NaN</td>\n      <td>NaN</td>\n      <td>NaN</td>\n      <td>NaN</td>\n      <td>NaN</td>\n    </tr>\n    <tr>\n      <th>416</th>\n      <td>NaN</td>\n      <td>788</td>\n      <td>0.000000</td>\n      <td>0</td>\n      <td>0</td>\n      <td>NaN</td>\n      <td>788</td>\n      <td>0.000000</td>\n      <td>0.000</td>\n      <td>0</td>\n      <td>NaN</td>\n      <td>788</td>\n      <td>NaN</td>\n      <td>NaN</td>\n      <td>NaN</td>\n      <td>NaN</td>\n      <td>NaN</td>\n    </tr>\n    <tr>\n      <th>417</th>\n      <td>NaN</td>\n      <td>794</td>\n      <td>0.000000</td>\n      <td>0</td>\n      <td>0</td>\n      <td>NaN</td>\n      <td>794</td>\n      <td>0.000000</td>\n      <td>0.000</td>\n      <td>0</td>\n      <td>NaN</td>\n      <td>794</td>\n      <td>NaN</td>\n      <td>NaN</td>\n      <td>NaN</td>\n      <td>NaN</td>\n      <td>NaN</td>\n    </tr>\n    <tr>\n      <th>418</th>\n      <td>NaN</td>\n      <td>800</td>\n      <td>0.000000</td>\n      <td>0</td>\n      <td>0</td>\n      <td>NaN</td>\n      <td>800</td>\n      <td>0.000000</td>\n      <td>0.000</td>\n      <td>0</td>\n      <td>NaN</td>\n      <td>800</td>\n      <td>NaN</td>\n      <td>NaN</td>\n      <td>NaN</td>\n      <td>NaN</td>\n      <td>NaN</td>\n    </tr>\n    <tr>\n      <th>419</th>\n      <td>NaN</td>\n      <td>83</td>\n      <td>0.000000</td>\n      <td>0</td>\n      <td>0</td>\n      <td>NaN</td>\n      <td>83</td>\n      <td>0.000000</td>\n      <td>0.000</td>\n      <td>0</td>\n      <td>NaN</td>\n      <td>83</td>\n      <td>NaN</td>\n      <td>NaN</td>\n      <td>NaN</td>\n      <td>NaN</td>\n      <td>NaN</td>\n    </tr>\n    <tr>\n      <th>420</th>\n      <td>NaN</td>\n      <td>872</td>\n      <td>0.000000</td>\n      <td>0</td>\n      <td>0</td>\n      <td>NaN</td>\n      <td>872</td>\n      <td>0.000000</td>\n      <td>0.000</td>\n      <td>0</td>\n      <td>NaN</td>\n      <td>872</td>\n      <td>NaN</td>\n      <td>NaN</td>\n      <td>NaN</td>\n      <td>NaN</td>\n      <td>NaN</td>\n    </tr>\n    <tr>\n      <th>421</th>\n      <td>NaN</td>\n      <td>89</td>\n      <td>0.000000</td>\n      <td>0</td>\n      <td>0</td>\n      <td>NaN</td>\n      <td>89</td>\n      <td>0.000000</td>\n      <td>0.000</td>\n      <td>0</td>\n      <td>NaN</td>\n      <td>89</td>\n      <td>NaN</td>\n      <td>NaN</td>\n      <td>NaN</td>\n      <td>NaN</td>\n      <td>NaN</td>\n    </tr>\n    <tr>\n      <th>422</th>\n      <td>NaN</td>\n      <td>907</td>\n      <td>0.000000</td>\n      <td>0</td>\n      <td>0</td>\n      <td>NaN</td>\n      <td>907</td>\n      <td>0.000000</td>\n      <td>0.000</td>\n      <td>0</td>\n      <td>NaN</td>\n      <td>907</td>\n      <td>NaN</td>\n      <td>NaN</td>\n      <td>NaN</td>\n      <td>NaN</td>\n      <td>NaN</td>\n    </tr>\n    <tr>\n      <th>423</th>\n      <td>NaN</td>\n      <td>918</td>\n      <td>0.000000</td>\n      <td>0</td>\n      <td>0</td>\n      <td>NaN</td>\n      <td>918</td>\n      <td>0.000000</td>\n      <td>0.000</td>\n      <td>0</td>\n      <td>NaN</td>\n      <td>918</td>\n      <td>NaN</td>\n      <td>NaN</td>\n      <td>NaN</td>\n      <td>NaN</td>\n      <td>NaN</td>\n    </tr>\n    <tr>\n      <th>424</th>\n      <td>NaN</td>\n      <td>943</td>\n      <td>0.000000</td>\n      <td>0</td>\n      <td>0</td>\n      <td>NaN</td>\n      <td>943</td>\n      <td>0.000000</td>\n      <td>0.000</td>\n      <td>0</td>\n      <td>NaN</td>\n      <td>943</td>\n      <td>NaN</td>\n      <td>NaN</td>\n      <td>NaN</td>\n      <td>NaN</td>\n      <td>NaN</td>\n    </tr>\n    <tr>\n      <th>425</th>\n      <td>NaN</td>\n      <td>958</td>\n      <td>0.000000</td>\n      <td>0</td>\n      <td>0</td>\n      <td>NaN</td>\n      <td>958</td>\n      <td>0.000000</td>\n      <td>0.000</td>\n      <td>0</td>\n      <td>NaN</td>\n      <td>958</td>\n      <td>NaN</td>\n      <td>NaN</td>\n      <td>NaN</td>\n      <td>NaN</td>\n      <td>NaN</td>\n    </tr>\n    <tr>\n      <th>426</th>\n      <td>NaN</td>\n      <td>970</td>\n      <td>0.000000</td>\n      <td>0</td>\n      <td>0</td>\n      <td>NaN</td>\n      <td>970</td>\n      <td>0.000000</td>\n      <td>0.000</td>\n      <td>0</td>\n      <td>NaN</td>\n      <td>970</td>\n      <td>NaN</td>\n      <td>NaN</td>\n      <td>NaN</td>\n      <td>NaN</td>\n      <td>NaN</td>\n    </tr>\n    <tr>\n      <th>427</th>\n      <td>NaN</td>\n      <td>976</td>\n      <td>0.000000</td>\n      <td>0</td>\n      <td>0</td>\n      <td>NaN</td>\n      <td>976</td>\n      <td>0.000000</td>\n      <td>0.000</td>\n      <td>0</td>\n      <td>NaN</td>\n      <td>976</td>\n      <td>NaN</td>\n      <td>NaN</td>\n      <td>NaN</td>\n      <td>NaN</td>\n      <td>NaN</td>\n    </tr>\n    <tr>\n      <th>428</th>\n      <td>NaN</td>\n      <td>998</td>\n      <td>0.000000</td>\n      <td>0</td>\n      <td>0</td>\n      <td>NaN</td>\n      <td>998</td>\n      <td>0.000000</td>\n      <td>0.000</td>\n      <td>0</td>\n      <td>NaN</td>\n      <td>998</td>\n      <td>NaN</td>\n      <td>NaN</td>\n      <td>NaN</td>\n      <td>NaN</td>\n      <td>NaN</td>\n    </tr>\n  </tbody>\n</table>\n<p>429 rows × 17 columns</p>\n</div>"
              }
            ],
            "msg_id": "",
            "_model_module_version": "1.0.0",
            "_view_count": null,
            "_view_module_version": "1.0.0",
            "layout": "IPY_MODEL_d9e4cd90fbfb472d84965fb6f50b635a",
            "_model_module": "@jupyter-widgets/output"
          }
        },
        "5c08faee5b704c5c9c1cb9a13cd8ff93": {
          "model_module": "@jupyter-widgets/controls",
          "model_name": "DescriptionStyleModel",
          "state": {
            "_view_name": "StyleView",
            "_model_name": "DescriptionStyleModel",
            "description_width": "",
            "_view_module": "@jupyter-widgets/base",
            "_model_module_version": "1.5.0",
            "_view_count": null,
            "_view_module_version": "1.2.0",
            "_model_module": "@jupyter-widgets/controls"
          }
        },
        "c97939aa2ed8450c9cb41c42e623516e": {
          "model_module": "@jupyter-widgets/base",
          "model_name": "LayoutModel",
          "state": {
            "_view_name": "LayoutView",
            "grid_template_rows": null,
            "right": null,
            "justify_content": null,
            "_view_module": "@jupyter-widgets/base",
            "_model_module_version": "1.2.0",
            "_view_count": null,
            "flex_flow": null,
            "min_width": null,
            "border": null,
            "align_items": null,
            "bottom": null,
            "_model_module": "@jupyter-widgets/base",
            "top": null,
            "grid_column": null,
            "width": null,
            "overflow_x": null,
            "grid_auto_flow": null,
            "grid_area": null,
            "grid_template_columns": null,
            "flex": null,
            "_model_name": "LayoutModel",
            "justify_items": null,
            "grid_row": null,
            "max_height": null,
            "align_content": null,
            "visibility": null,
            "overflow": null,
            "height": null,
            "min_height": null,
            "padding": null,
            "grid_auto_rows": null,
            "grid_gap": null,
            "overflow_y": null,
            "max_width": null,
            "order": null,
            "_view_module_version": "1.2.0",
            "align_self": null,
            "grid_template_areas": null,
            "object_position": null,
            "object_fit": null,
            "grid_auto_columns": null,
            "margin": null,
            "display": null,
            "left": null
          }
        },
        "8d7e54cb419746a18af867dbb278c217": {
          "model_module": "@jupyter-widgets/controls",
          "model_name": "HBoxModel",
          "state": {
            "_view_name": "HBoxView",
            "_dom_classes": [],
            "_model_name": "HBoxModel",
            "_view_module": "@jupyter-widgets/controls",
            "_model_module_version": "1.5.0",
            "_view_count": null,
            "_view_module_version": "1.5.0",
            "box_style": "",
            "layout": "IPY_MODEL_d9fd821ce7a94c7fa4db6f9bed0e06ba",
            "_model_module": "@jupyter-widgets/controls",
            "children": [
              "IPY_MODEL_9cbd2cd400534ec3817268ada430f822",
              "IPY_MODEL_b4f6aea039ca40ac821869ab32bd5f54"
            ]
          }
        },
        "d9fd821ce7a94c7fa4db6f9bed0e06ba": {
          "model_module": "@jupyter-widgets/base",
          "model_name": "LayoutModel",
          "state": {
            "_view_name": "LayoutView",
            "grid_template_rows": null,
            "right": null,
            "justify_content": null,
            "_view_module": "@jupyter-widgets/base",
            "_model_module_version": "1.2.0",
            "_view_count": null,
            "flex_flow": null,
            "min_width": null,
            "border": null,
            "align_items": null,
            "bottom": null,
            "_model_module": "@jupyter-widgets/base",
            "top": null,
            "grid_column": null,
            "width": null,
            "overflow_x": null,
            "grid_auto_flow": null,
            "grid_area": null,
            "grid_template_columns": null,
            "flex": null,
            "_model_name": "LayoutModel",
            "justify_items": null,
            "grid_row": null,
            "max_height": null,
            "align_content": null,
            "visibility": null,
            "overflow": null,
            "height": null,
            "min_height": null,
            "padding": null,
            "grid_auto_rows": null,
            "grid_gap": null,
            "overflow_y": null,
            "max_width": null,
            "order": null,
            "_view_module_version": "1.2.0",
            "align_self": null,
            "grid_template_areas": null,
            "object_position": null,
            "object_fit": null,
            "grid_auto_columns": null,
            "margin": null,
            "display": null,
            "left": null
          }
        },
        "9cbd2cd400534ec3817268ada430f822": {
          "model_module": "@jupyter-widgets/controls",
          "model_name": "IntProgressModel",
          "state": {
            "_view_name": "ProgressView",
            "style": "IPY_MODEL_fdd1818f92fc42799e7070e1ef7a00da",
            "_view_module": "@jupyter-widgets/controls",
            "_dom_classes": [],
            "orientation": "horizontal",
            "min": 0,
            "bar_style": "success",
            "max": 429,
            "_model_name": "IntProgressModel",
            "_model_module_version": "1.5.0",
            "value": 429,
            "_view_count": null,
            "_view_module_version": "1.5.0",
            "description_tooltip": null,
            "_model_module": "@jupyter-widgets/controls",
            "layout": "IPY_MODEL_fa3524d6282749d685edca52b35bf517",
            "description": ""
          }
        },
        "b4f6aea039ca40ac821869ab32bd5f54": {
          "model_module": "@jupyter-widgets/controls",
          "model_name": "HTMLModel",
          "state": {
            "_view_name": "HTMLView",
            "style": "IPY_MODEL_568d63307f584edebe95d21e4068aa3e",
            "_dom_classes": [],
            "description": "",
            "_model_name": "HTMLModel",
            "placeholder": "​",
            "_view_module": "@jupyter-widgets/controls",
            "_model_module_version": "1.5.0",
            "value": "100% 429/429 [00:03&lt;00:00, 107.67it/s]",
            "_view_count": null,
            "_view_module_version": "1.5.0",
            "description_tooltip": null,
            "_model_module": "@jupyter-widgets/controls",
            "layout": "IPY_MODEL_3539c5728be542c581b7501a93501f53"
          }
        },
        "fdd1818f92fc42799e7070e1ef7a00da": {
          "model_module": "@jupyter-widgets/controls",
          "model_name": "ProgressStyleModel",
          "state": {
            "_view_name": "StyleView",
            "_model_name": "ProgressStyleModel",
            "description_width": "",
            "_view_module": "@jupyter-widgets/base",
            "_model_module_version": "1.5.0",
            "_view_count": null,
            "_view_module_version": "1.2.0",
            "bar_color": null,
            "_model_module": "@jupyter-widgets/controls"
          }
        },
        "fa3524d6282749d685edca52b35bf517": {
          "model_module": "@jupyter-widgets/base",
          "model_name": "LayoutModel",
          "state": {
            "_view_name": "LayoutView",
            "grid_template_rows": null,
            "right": null,
            "justify_content": null,
            "_view_module": "@jupyter-widgets/base",
            "_model_module_version": "1.2.0",
            "_view_count": null,
            "flex_flow": null,
            "min_width": null,
            "border": null,
            "align_items": null,
            "bottom": null,
            "_model_module": "@jupyter-widgets/base",
            "top": null,
            "grid_column": null,
            "width": null,
            "overflow_x": null,
            "grid_auto_flow": null,
            "grid_area": null,
            "grid_template_columns": null,
            "flex": null,
            "_model_name": "LayoutModel",
            "justify_items": null,
            "grid_row": null,
            "max_height": null,
            "align_content": null,
            "visibility": null,
            "overflow": null,
            "height": null,
            "min_height": null,
            "padding": null,
            "grid_auto_rows": null,
            "grid_gap": null,
            "overflow_y": null,
            "max_width": null,
            "order": null,
            "_view_module_version": "1.2.0",
            "align_self": null,
            "grid_template_areas": null,
            "object_position": null,
            "object_fit": null,
            "grid_auto_columns": null,
            "margin": null,
            "display": null,
            "left": null
          }
        },
        "568d63307f584edebe95d21e4068aa3e": {
          "model_module": "@jupyter-widgets/controls",
          "model_name": "DescriptionStyleModel",
          "state": {
            "_view_name": "StyleView",
            "_model_name": "DescriptionStyleModel",
            "description_width": "",
            "_view_module": "@jupyter-widgets/base",
            "_model_module_version": "1.5.0",
            "_view_count": null,
            "_view_module_version": "1.2.0",
            "_model_module": "@jupyter-widgets/controls"
          }
        },
        "3539c5728be542c581b7501a93501f53": {
          "model_module": "@jupyter-widgets/base",
          "model_name": "LayoutModel",
          "state": {
            "_view_name": "LayoutView",
            "grid_template_rows": null,
            "right": null,
            "justify_content": null,
            "_view_module": "@jupyter-widgets/base",
            "_model_module_version": "1.2.0",
            "_view_count": null,
            "flex_flow": null,
            "min_width": null,
            "border": null,
            "align_items": null,
            "bottom": null,
            "_model_module": "@jupyter-widgets/base",
            "top": null,
            "grid_column": null,
            "width": null,
            "overflow_x": null,
            "grid_auto_flow": null,
            "grid_area": null,
            "grid_template_columns": null,
            "flex": null,
            "_model_name": "LayoutModel",
            "justify_items": null,
            "grid_row": null,
            "max_height": null,
            "align_content": null,
            "visibility": null,
            "overflow": null,
            "height": null,
            "min_height": null,
            "padding": null,
            "grid_auto_rows": null,
            "grid_gap": null,
            "overflow_y": null,
            "max_width": null,
            "order": null,
            "_view_module_version": "1.2.0",
            "align_self": null,
            "grid_template_areas": null,
            "object_position": null,
            "object_fit": null,
            "grid_auto_columns": null,
            "margin": null,
            "display": null,
            "left": null
          }
        },
        "9e143f1cb7b0487fb76e4809d5c5a615": {
          "model_module": "@jupyter-widgets/controls",
          "model_name": "HBoxModel",
          "state": {
            "_view_name": "HBoxView",
            "_dom_classes": [],
            "_model_name": "HBoxModel",
            "_view_module": "@jupyter-widgets/controls",
            "_model_module_version": "1.5.0",
            "_view_count": null,
            "_view_module_version": "1.5.0",
            "box_style": "",
            "layout": "IPY_MODEL_cf00baf4c5d54ecf9b0b709cafd56236",
            "_model_module": "@jupyter-widgets/controls",
            "children": [
              "IPY_MODEL_99148622c9454e86b42e00c0b9ec8c5d",
              "IPY_MODEL_2ef25605384045578dad853294ce5993"
            ]
          }
        },
        "cf00baf4c5d54ecf9b0b709cafd56236": {
          "model_module": "@jupyter-widgets/base",
          "model_name": "LayoutModel",
          "state": {
            "_view_name": "LayoutView",
            "grid_template_rows": null,
            "right": null,
            "justify_content": null,
            "_view_module": "@jupyter-widgets/base",
            "_model_module_version": "1.2.0",
            "_view_count": null,
            "flex_flow": null,
            "min_width": null,
            "border": null,
            "align_items": null,
            "bottom": null,
            "_model_module": "@jupyter-widgets/base",
            "top": null,
            "grid_column": null,
            "width": null,
            "overflow_x": null,
            "grid_auto_flow": null,
            "grid_area": null,
            "grid_template_columns": null,
            "flex": null,
            "_model_name": "LayoutModel",
            "justify_items": null,
            "grid_row": null,
            "max_height": null,
            "align_content": null,
            "visibility": null,
            "overflow": null,
            "height": null,
            "min_height": null,
            "padding": null,
            "grid_auto_rows": null,
            "grid_gap": null,
            "overflow_y": null,
            "max_width": null,
            "order": null,
            "_view_module_version": "1.2.0",
            "align_self": null,
            "grid_template_areas": null,
            "object_position": null,
            "object_fit": null,
            "grid_auto_columns": null,
            "margin": null,
            "display": null,
            "left": null
          }
        },
        "99148622c9454e86b42e00c0b9ec8c5d": {
          "model_module": "@jupyter-widgets/controls",
          "model_name": "IntProgressModel",
          "state": {
            "_view_name": "ProgressView",
            "style": "IPY_MODEL_a8e6e26e2f7549cc9cb1458772846862",
            "_view_module": "@jupyter-widgets/controls",
            "_dom_classes": [],
            "orientation": "horizontal",
            "min": 0,
            "bar_style": "success",
            "max": 429,
            "_model_name": "IntProgressModel",
            "_model_module_version": "1.5.0",
            "value": 429,
            "_view_count": null,
            "_view_module_version": "1.5.0",
            "description_tooltip": null,
            "_model_module": "@jupyter-widgets/controls",
            "layout": "IPY_MODEL_d373a8d2e67e40edb73d06c214fe5476",
            "description": ""
          }
        },
        "2ef25605384045578dad853294ce5993": {
          "model_module": "@jupyter-widgets/controls",
          "model_name": "HTMLModel",
          "state": {
            "_view_name": "HTMLView",
            "style": "IPY_MODEL_3f2d6b4af8f249a587ff58ae83c18c5d",
            "_dom_classes": [],
            "description": "",
            "_model_name": "HTMLModel",
            "placeholder": "​",
            "_view_module": "@jupyter-widgets/controls",
            "_model_module_version": "1.5.0",
            "value": "100% 429/429 [00:02&lt;00:00, 186.57it/s]",
            "_view_count": null,
            "_view_module_version": "1.5.0",
            "description_tooltip": null,
            "_model_module": "@jupyter-widgets/controls",
            "layout": "IPY_MODEL_d2af050652cf45f4936f1f9afcee9097"
          }
        },
        "a8e6e26e2f7549cc9cb1458772846862": {
          "model_module": "@jupyter-widgets/controls",
          "model_name": "ProgressStyleModel",
          "state": {
            "_view_name": "StyleView",
            "_model_name": "ProgressStyleModel",
            "description_width": "",
            "_view_module": "@jupyter-widgets/base",
            "_model_module_version": "1.5.0",
            "_view_count": null,
            "_view_module_version": "1.2.0",
            "bar_color": null,
            "_model_module": "@jupyter-widgets/controls"
          }
        },
        "d373a8d2e67e40edb73d06c214fe5476": {
          "model_module": "@jupyter-widgets/base",
          "model_name": "LayoutModel",
          "state": {
            "_view_name": "LayoutView",
            "grid_template_rows": null,
            "right": null,
            "justify_content": null,
            "_view_module": "@jupyter-widgets/base",
            "_model_module_version": "1.2.0",
            "_view_count": null,
            "flex_flow": null,
            "min_width": null,
            "border": null,
            "align_items": null,
            "bottom": null,
            "_model_module": "@jupyter-widgets/base",
            "top": null,
            "grid_column": null,
            "width": null,
            "overflow_x": null,
            "grid_auto_flow": null,
            "grid_area": null,
            "grid_template_columns": null,
            "flex": null,
            "_model_name": "LayoutModel",
            "justify_items": null,
            "grid_row": null,
            "max_height": null,
            "align_content": null,
            "visibility": null,
            "overflow": null,
            "height": null,
            "min_height": null,
            "padding": null,
            "grid_auto_rows": null,
            "grid_gap": null,
            "overflow_y": null,
            "max_width": null,
            "order": null,
            "_view_module_version": "1.2.0",
            "align_self": null,
            "grid_template_areas": null,
            "object_position": null,
            "object_fit": null,
            "grid_auto_columns": null,
            "margin": null,
            "display": null,
            "left": null
          }
        },
        "3f2d6b4af8f249a587ff58ae83c18c5d": {
          "model_module": "@jupyter-widgets/controls",
          "model_name": "DescriptionStyleModel",
          "state": {
            "_view_name": "StyleView",
            "_model_name": "DescriptionStyleModel",
            "description_width": "",
            "_view_module": "@jupyter-widgets/base",
            "_model_module_version": "1.5.0",
            "_view_count": null,
            "_view_module_version": "1.2.0",
            "_model_module": "@jupyter-widgets/controls"
          }
        },
        "d2af050652cf45f4936f1f9afcee9097": {
          "model_module": "@jupyter-widgets/base",
          "model_name": "LayoutModel",
          "state": {
            "_view_name": "LayoutView",
            "grid_template_rows": null,
            "right": null,
            "justify_content": null,
            "_view_module": "@jupyter-widgets/base",
            "_model_module_version": "1.2.0",
            "_view_count": null,
            "flex_flow": null,
            "min_width": null,
            "border": null,
            "align_items": null,
            "bottom": null,
            "_model_module": "@jupyter-widgets/base",
            "top": null,
            "grid_column": null,
            "width": null,
            "overflow_x": null,
            "grid_auto_flow": null,
            "grid_area": null,
            "grid_template_columns": null,
            "flex": null,
            "_model_name": "LayoutModel",
            "justify_items": null,
            "grid_row": null,
            "max_height": null,
            "align_content": null,
            "visibility": null,
            "overflow": null,
            "height": null,
            "min_height": null,
            "padding": null,
            "grid_auto_rows": null,
            "grid_gap": null,
            "overflow_y": null,
            "max_width": null,
            "order": null,
            "_view_module_version": "1.2.0",
            "align_self": null,
            "grid_template_areas": null,
            "object_position": null,
            "object_fit": null,
            "grid_auto_columns": null,
            "margin": null,
            "display": null,
            "left": null
          }
        },
        "58372c3bc596493fa883f70542bce594": {
          "model_module": "@jupyter-widgets/controls",
          "model_name": "HBoxModel",
          "state": {
            "_view_name": "HBoxView",
            "_dom_classes": [],
            "_model_name": "HBoxModel",
            "_view_module": "@jupyter-widgets/controls",
            "_model_module_version": "1.5.0",
            "_view_count": null,
            "_view_module_version": "1.5.0",
            "box_style": "",
            "layout": "IPY_MODEL_16aee3989da64b359683abb381ef4c9e",
            "_model_module": "@jupyter-widgets/controls",
            "children": [
              "IPY_MODEL_5d017ed56c814860a6bc41bf259f32c3",
              "IPY_MODEL_53b87478642741669a7d626638022e86"
            ]
          }
        },
        "16aee3989da64b359683abb381ef4c9e": {
          "model_module": "@jupyter-widgets/base",
          "model_name": "LayoutModel",
          "state": {
            "_view_name": "LayoutView",
            "grid_template_rows": null,
            "right": null,
            "justify_content": null,
            "_view_module": "@jupyter-widgets/base",
            "_model_module_version": "1.2.0",
            "_view_count": null,
            "flex_flow": null,
            "min_width": null,
            "border": null,
            "align_items": null,
            "bottom": null,
            "_model_module": "@jupyter-widgets/base",
            "top": null,
            "grid_column": null,
            "width": null,
            "overflow_x": null,
            "grid_auto_flow": null,
            "grid_area": null,
            "grid_template_columns": null,
            "flex": null,
            "_model_name": "LayoutModel",
            "justify_items": null,
            "grid_row": null,
            "max_height": null,
            "align_content": null,
            "visibility": null,
            "overflow": null,
            "height": null,
            "min_height": null,
            "padding": null,
            "grid_auto_rows": null,
            "grid_gap": null,
            "overflow_y": null,
            "max_width": null,
            "order": null,
            "_view_module_version": "1.2.0",
            "align_self": null,
            "grid_template_areas": null,
            "object_position": null,
            "object_fit": null,
            "grid_auto_columns": null,
            "margin": null,
            "display": null,
            "left": null
          }
        },
        "5d017ed56c814860a6bc41bf259f32c3": {
          "model_module": "@jupyter-widgets/controls",
          "model_name": "IntProgressModel",
          "state": {
            "_view_name": "ProgressView",
            "style": "IPY_MODEL_445ea50e01b94254b878cd122d21e85b",
            "_view_module": "@jupyter-widgets/controls",
            "_dom_classes": [],
            "orientation": "horizontal",
            "min": 0,
            "bar_style": "success",
            "max": 429,
            "_model_name": "IntProgressModel",
            "_model_module_version": "1.5.0",
            "value": 429,
            "_view_count": null,
            "_view_module_version": "1.5.0",
            "description_tooltip": null,
            "_model_module": "@jupyter-widgets/controls",
            "layout": "IPY_MODEL_a984bfe89795497781dcf712c2b14c26",
            "description": ""
          }
        },
        "53b87478642741669a7d626638022e86": {
          "model_module": "@jupyter-widgets/controls",
          "model_name": "HTMLModel",
          "state": {
            "_view_name": "HTMLView",
            "style": "IPY_MODEL_ba69eb984ebf437cb41f5d2895f8c5de",
            "_dom_classes": [],
            "description": "",
            "_model_name": "HTMLModel",
            "placeholder": "​",
            "_view_module": "@jupyter-widgets/controls",
            "_model_module_version": "1.5.0",
            "value": "100% 429/429 [00:02&lt;00:00, 184.65it/s]",
            "_view_count": null,
            "_view_module_version": "1.5.0",
            "description_tooltip": null,
            "_model_module": "@jupyter-widgets/controls",
            "layout": "IPY_MODEL_95ae64bca773499182f0ee09e0c55931"
          }
        },
        "445ea50e01b94254b878cd122d21e85b": {
          "model_module": "@jupyter-widgets/controls",
          "model_name": "ProgressStyleModel",
          "state": {
            "_view_name": "StyleView",
            "_model_name": "ProgressStyleModel",
            "description_width": "",
            "_view_module": "@jupyter-widgets/base",
            "_model_module_version": "1.5.0",
            "_view_count": null,
            "_view_module_version": "1.2.0",
            "bar_color": null,
            "_model_module": "@jupyter-widgets/controls"
          }
        },
        "a984bfe89795497781dcf712c2b14c26": {
          "model_module": "@jupyter-widgets/base",
          "model_name": "LayoutModel",
          "state": {
            "_view_name": "LayoutView",
            "grid_template_rows": null,
            "right": null,
            "justify_content": null,
            "_view_module": "@jupyter-widgets/base",
            "_model_module_version": "1.2.0",
            "_view_count": null,
            "flex_flow": null,
            "min_width": null,
            "border": null,
            "align_items": null,
            "bottom": null,
            "_model_module": "@jupyter-widgets/base",
            "top": null,
            "grid_column": null,
            "width": null,
            "overflow_x": null,
            "grid_auto_flow": null,
            "grid_area": null,
            "grid_template_columns": null,
            "flex": null,
            "_model_name": "LayoutModel",
            "justify_items": null,
            "grid_row": null,
            "max_height": null,
            "align_content": null,
            "visibility": null,
            "overflow": null,
            "height": null,
            "min_height": null,
            "padding": null,
            "grid_auto_rows": null,
            "grid_gap": null,
            "overflow_y": null,
            "max_width": null,
            "order": null,
            "_view_module_version": "1.2.0",
            "align_self": null,
            "grid_template_areas": null,
            "object_position": null,
            "object_fit": null,
            "grid_auto_columns": null,
            "margin": null,
            "display": null,
            "left": null
          }
        },
        "ba69eb984ebf437cb41f5d2895f8c5de": {
          "model_module": "@jupyter-widgets/controls",
          "model_name": "DescriptionStyleModel",
          "state": {
            "_view_name": "StyleView",
            "_model_name": "DescriptionStyleModel",
            "description_width": "",
            "_view_module": "@jupyter-widgets/base",
            "_model_module_version": "1.5.0",
            "_view_count": null,
            "_view_module_version": "1.2.0",
            "_model_module": "@jupyter-widgets/controls"
          }
        },
        "95ae64bca773499182f0ee09e0c55931": {
          "model_module": "@jupyter-widgets/base",
          "model_name": "LayoutModel",
          "state": {
            "_view_name": "LayoutView",
            "grid_template_rows": null,
            "right": null,
            "justify_content": null,
            "_view_module": "@jupyter-widgets/base",
            "_model_module_version": "1.2.0",
            "_view_count": null,
            "flex_flow": null,
            "min_width": null,
            "border": null,
            "align_items": null,
            "bottom": null,
            "_model_module": "@jupyter-widgets/base",
            "top": null,
            "grid_column": null,
            "width": null,
            "overflow_x": null,
            "grid_auto_flow": null,
            "grid_area": null,
            "grid_template_columns": null,
            "flex": null,
            "_model_name": "LayoutModel",
            "justify_items": null,
            "grid_row": null,
            "max_height": null,
            "align_content": null,
            "visibility": null,
            "overflow": null,
            "height": null,
            "min_height": null,
            "padding": null,
            "grid_auto_rows": null,
            "grid_gap": null,
            "overflow_y": null,
            "max_width": null,
            "order": null,
            "_view_module_version": "1.2.0",
            "align_self": null,
            "grid_template_areas": null,
            "object_position": null,
            "object_fit": null,
            "grid_auto_columns": null,
            "margin": null,
            "display": null,
            "left": null
          }
        },
        "a0abc690cd0d4702ac58e510bb21258a": {
          "model_module": "@jupyter-widgets/controls",
          "model_name": "HBoxModel",
          "state": {
            "_view_name": "HBoxView",
            "_dom_classes": [],
            "_model_name": "HBoxModel",
            "_view_module": "@jupyter-widgets/controls",
            "_model_module_version": "1.5.0",
            "_view_count": null,
            "_view_module_version": "1.5.0",
            "box_style": "",
            "layout": "IPY_MODEL_1a0c834bc074405694dae4d1b986a290",
            "_model_module": "@jupyter-widgets/controls",
            "children": [
              "IPY_MODEL_1114b81eea8c46d0ae1f56afc13dac01",
              "IPY_MODEL_ec6b0f3862564bb78444dfd5e8083cab"
            ]
          }
        },
        "1a0c834bc074405694dae4d1b986a290": {
          "model_module": "@jupyter-widgets/base",
          "model_name": "LayoutModel",
          "state": {
            "_view_name": "LayoutView",
            "grid_template_rows": null,
            "right": null,
            "justify_content": null,
            "_view_module": "@jupyter-widgets/base",
            "_model_module_version": "1.2.0",
            "_view_count": null,
            "flex_flow": null,
            "min_width": null,
            "border": null,
            "align_items": null,
            "bottom": null,
            "_model_module": "@jupyter-widgets/base",
            "top": null,
            "grid_column": null,
            "width": null,
            "overflow_x": null,
            "grid_auto_flow": null,
            "grid_area": null,
            "grid_template_columns": null,
            "flex": null,
            "_model_name": "LayoutModel",
            "justify_items": null,
            "grid_row": null,
            "max_height": null,
            "align_content": null,
            "visibility": null,
            "overflow": null,
            "height": null,
            "min_height": null,
            "padding": null,
            "grid_auto_rows": null,
            "grid_gap": null,
            "overflow_y": null,
            "max_width": null,
            "order": null,
            "_view_module_version": "1.2.0",
            "align_self": null,
            "grid_template_areas": null,
            "object_position": null,
            "object_fit": null,
            "grid_auto_columns": null,
            "margin": null,
            "display": null,
            "left": null
          }
        },
        "1114b81eea8c46d0ae1f56afc13dac01": {
          "model_module": "@jupyter-widgets/controls",
          "model_name": "IntProgressModel",
          "state": {
            "_view_name": "ProgressView",
            "style": "IPY_MODEL_8973de3beecd46ed990f7f270ecfb01b",
            "_view_module": "@jupyter-widgets/controls",
            "_dom_classes": [],
            "orientation": "horizontal",
            "min": 0,
            "bar_style": "success",
            "max": 429,
            "_model_name": "IntProgressModel",
            "_model_module_version": "1.5.0",
            "value": 429,
            "_view_count": null,
            "_view_module_version": "1.5.0",
            "description_tooltip": null,
            "_model_module": "@jupyter-widgets/controls",
            "layout": "IPY_MODEL_fadd47fb8a7848b488514e68177c8eeb",
            "description": ""
          }
        },
        "ec6b0f3862564bb78444dfd5e8083cab": {
          "model_module": "@jupyter-widgets/controls",
          "model_name": "HTMLModel",
          "state": {
            "_view_name": "HTMLView",
            "style": "IPY_MODEL_60cf02639fdf45389404a6da92d44a79",
            "_dom_classes": [],
            "description": "",
            "_model_name": "HTMLModel",
            "placeholder": "​",
            "_view_module": "@jupyter-widgets/controls",
            "_model_module_version": "1.5.0",
            "value": "100% 429/429 [00:02&lt;00:00, 163.70it/s]",
            "_view_count": null,
            "_view_module_version": "1.5.0",
            "description_tooltip": null,
            "_model_module": "@jupyter-widgets/controls",
            "layout": "IPY_MODEL_407e938abf3b4910a509b2f8ef85b8b4"
          }
        },
        "8973de3beecd46ed990f7f270ecfb01b": {
          "model_module": "@jupyter-widgets/controls",
          "model_name": "ProgressStyleModel",
          "state": {
            "_view_name": "StyleView",
            "_model_name": "ProgressStyleModel",
            "description_width": "",
            "_view_module": "@jupyter-widgets/base",
            "_model_module_version": "1.5.0",
            "_view_count": null,
            "_view_module_version": "1.2.0",
            "bar_color": null,
            "_model_module": "@jupyter-widgets/controls"
          }
        },
        "fadd47fb8a7848b488514e68177c8eeb": {
          "model_module": "@jupyter-widgets/base",
          "model_name": "LayoutModel",
          "state": {
            "_view_name": "LayoutView",
            "grid_template_rows": null,
            "right": null,
            "justify_content": null,
            "_view_module": "@jupyter-widgets/base",
            "_model_module_version": "1.2.0",
            "_view_count": null,
            "flex_flow": null,
            "min_width": null,
            "border": null,
            "align_items": null,
            "bottom": null,
            "_model_module": "@jupyter-widgets/base",
            "top": null,
            "grid_column": null,
            "width": null,
            "overflow_x": null,
            "grid_auto_flow": null,
            "grid_area": null,
            "grid_template_columns": null,
            "flex": null,
            "_model_name": "LayoutModel",
            "justify_items": null,
            "grid_row": null,
            "max_height": null,
            "align_content": null,
            "visibility": null,
            "overflow": null,
            "height": null,
            "min_height": null,
            "padding": null,
            "grid_auto_rows": null,
            "grid_gap": null,
            "overflow_y": null,
            "max_width": null,
            "order": null,
            "_view_module_version": "1.2.0",
            "align_self": null,
            "grid_template_areas": null,
            "object_position": null,
            "object_fit": null,
            "grid_auto_columns": null,
            "margin": null,
            "display": null,
            "left": null
          }
        },
        "60cf02639fdf45389404a6da92d44a79": {
          "model_module": "@jupyter-widgets/controls",
          "model_name": "DescriptionStyleModel",
          "state": {
            "_view_name": "StyleView",
            "_model_name": "DescriptionStyleModel",
            "description_width": "",
            "_view_module": "@jupyter-widgets/base",
            "_model_module_version": "1.5.0",
            "_view_count": null,
            "_view_module_version": "1.2.0",
            "_model_module": "@jupyter-widgets/controls"
          }
        },
        "407e938abf3b4910a509b2f8ef85b8b4": {
          "model_module": "@jupyter-widgets/base",
          "model_name": "LayoutModel",
          "state": {
            "_view_name": "LayoutView",
            "grid_template_rows": null,
            "right": null,
            "justify_content": null,
            "_view_module": "@jupyter-widgets/base",
            "_model_module_version": "1.2.0",
            "_view_count": null,
            "flex_flow": null,
            "min_width": null,
            "border": null,
            "align_items": null,
            "bottom": null,
            "_model_module": "@jupyter-widgets/base",
            "top": null,
            "grid_column": null,
            "width": null,
            "overflow_x": null,
            "grid_auto_flow": null,
            "grid_area": null,
            "grid_template_columns": null,
            "flex": null,
            "_model_name": "LayoutModel",
            "justify_items": null,
            "grid_row": null,
            "max_height": null,
            "align_content": null,
            "visibility": null,
            "overflow": null,
            "height": null,
            "min_height": null,
            "padding": null,
            "grid_auto_rows": null,
            "grid_gap": null,
            "overflow_y": null,
            "max_width": null,
            "order": null,
            "_view_module_version": "1.2.0",
            "align_self": null,
            "grid_template_areas": null,
            "object_position": null,
            "object_fit": null,
            "grid_auto_columns": null,
            "margin": null,
            "display": null,
            "left": null
          }
        }
      }
    }
  },
  "cells": [
    {
      "cell_type": "code",
      "metadata": {
        "id": "Yl-KtpetYC5i",
        "colab_type": "code",
        "colab": {}
      },
      "source": [
        "import numpy as np\n",
        "import pandas as pd\n",
        "import matplotlib\n",
        "from matplotlib import pyplot as plt\n",
        "import scipy as sp\n",
        "\n",
        "import ipywidgets as widgets\n",
        "from ipywidgets import interact, interact_manual\n",
        "\n",
        "import os\n",
        "import sys\n",
        "import gc\n",
        "import copy\n",
        "\n",
        "import tqdm\n",
        "import itertools\n",
        "\n",
        "import subprocess"
      ],
      "execution_count": 0,
      "outputs": []
    },
    {
      "cell_type": "code",
      "metadata": {
        "id": "AmpG6fCkYC5l",
        "colab_type": "code",
        "colab": {}
      },
      "source": [
        "#baseDir='./'\n",
        "!rm -r sample_data"
      ],
      "execution_count": 0,
      "outputs": []
    },
    {
      "cell_type": "markdown",
      "metadata": {
        "id": "Cv1AmmerYC5n",
        "colab_type": "text"
      },
      "source": [
        "If you are viewing this in google colab, you will need to clone the repository first.\n",
        "To do so uncomment the two code cells below"
      ]
    },
    {
      "cell_type": "code",
      "metadata": {
        "id": "OF8QysxWYC5n",
        "colab_type": "code",
        "colab": {
          "base_uri": "https://localhost:8080/",
          "height": 153
        },
        "outputId": "09c70fed-aad2-42ce-94e6-8cdeb7b6f47e"
      },
      "source": [
        "!git clone https://github.com/wesleymsmith/Piezo_PIP2_binding_analysis.git"
      ],
      "execution_count": 3,
      "outputs": [
        {
          "output_type": "stream",
          "text": [
            "Cloning into 'Piezo_PIP2_binding_analysis'...\n",
            "remote: Enumerating objects: 1528, done.\u001b[K\n",
            "remote: Counting objects: 100% (1528/1528), done.\u001b[K\n",
            "remote: Compressing objects: 100% (254/254), done.\u001b[K\n",
            "remote: Total 5087 (delta 1249), reused 1520 (delta 1241), pack-reused 3559\u001b[K\n",
            "Receiving objects: 100% (5087/5087), 172.88 MiB | 21.76 MiB/s, done.\n",
            "Resolving deltas: 100% (3981/3981), done.\n",
            "Checking out files: 100% (6644/6644), done.\n"
          ],
          "name": "stdout"
        }
      ]
    },
    {
      "cell_type": "code",
      "metadata": {
        "id": "Zd4TmYV2YC5p",
        "colab_type": "code",
        "colab": {}
      },
      "source": [
        "baseDir='Piezo_PIP2_binding_analysis/'"
      ],
      "execution_count": 0,
      "outputs": []
    },
    {
      "cell_type": "code",
      "metadata": {
        "id": "evE70Yv3YC5r",
        "colab_type": "code",
        "colab": {}
      },
      "source": [
        "xcelData=pd.read_excel(baseDir+'Residue_ID_total_occupancy_10_1_2019.xlsx',\n",
        "              sheet_name=None)"
      ],
      "execution_count": 0,
      "outputs": []
    },
    {
      "cell_type": "code",
      "metadata": {
        "id": "hH8Ih0jTYC5s",
        "colab_type": "code",
        "colab": {
          "base_uri": "https://localhost:8080/",
          "height": 1000,
          "referenced_widgets": [
            "5089ed5059bd4aa0a29133e5dce1b1dd",
            "22059fbd181c4162a52a71a9c8183bc0",
            "a6165b05016c45c080deb05196c7cbf3",
            "3d48377a23c0454888402a3b8fb8a238",
            "5c08faee5b704c5c9c1cb9a13cd8ff93",
            "c97939aa2ed8450c9cb41c42e623516e"
          ]
        },
        "outputId": "11b5018e-e59d-49bb-bcfd-3fada232d352"
      },
      "source": [
        "@interact\n",
        "def show_data(sheet_name=xcelData.keys()):\n",
        "    return xcelData[sheet_name]"
      ],
      "execution_count": 6,
      "outputs": [
        {
          "output_type": "display_data",
          "data": {
            "application/vnd.jupyter.widget-view+json": {
              "model_id": "5089ed5059bd4aa0a29133e5dce1b1dd",
              "version_minor": 0,
              "version_major": 2
            },
            "text/plain": [
              "interactive(children=(Dropdown(description=u'sheet_name', options=(u'cg', u'Sheet1', u'aa', u'tension_30ns', u…"
            ]
          },
          "metadata": {
            "tags": []
          }
        }
      ]
    },
    {
      "cell_type": "code",
      "metadata": {
        "id": "a9sYt4KhYC5v",
        "colab_type": "code",
        "colab": {
          "base_uri": "https://localhost:8080/",
          "height": 204
        },
        "outputId": "d45fca4f-1075-4f70-c26a-05cbf0b71301"
      },
      "source": [
        "#the above tables are\n",
        "#aa - result summary for all atom simulation\n",
        "#cg - result summary for coarse grain simulation\n",
        "#tension_30ns - results of all atom simulation with membrane tension\n",
        "#sheet 1 is apparently blank...\n",
        "#resinfo_table - mapping between cryo-em structure sequence and all atom residue ids\n",
        "resinfoDataSheet=xcelData['resinfo_table']\n",
        "resinfoTable=resinfoDataSheet[\n",
        "    resinfoDataSheet.columns[[0,3,5,7]]][2:]\n",
        "resinfoTable.columns=['PDB_ID','Arm1_Resid','Arm2_Resid','Arm3_Resid']\n",
        "resinfoTable.head()"
      ],
      "execution_count": 7,
      "outputs": [
        {
          "output_type": "execute_result",
          "data": {
            "text/html": [
              "<div>\n",
              "<style scoped>\n",
              "    .dataframe tbody tr th:only-of-type {\n",
              "        vertical-align: middle;\n",
              "    }\n",
              "\n",
              "    .dataframe tbody tr th {\n",
              "        vertical-align: top;\n",
              "    }\n",
              "\n",
              "    .dataframe thead th {\n",
              "        text-align: right;\n",
              "    }\n",
              "</style>\n",
              "<table border=\"1\" class=\"dataframe\">\n",
              "  <thead>\n",
              "    <tr style=\"text-align: right;\">\n",
              "      <th></th>\n",
              "      <th>PDB_ID</th>\n",
              "      <th>Arm1_Resid</th>\n",
              "      <th>Arm2_Resid</th>\n",
              "      <th>Arm3_Resid</th>\n",
              "    </tr>\n",
              "  </thead>\n",
              "  <tbody>\n",
              "    <tr>\n",
              "      <th>2</th>\n",
              "      <td>782</td>\n",
              "      <td>1</td>\n",
              "      <td>1419</td>\n",
              "      <td>2837</td>\n",
              "    </tr>\n",
              "    <tr>\n",
              "      <th>3</th>\n",
              "      <td>783</td>\n",
              "      <td>2</td>\n",
              "      <td>1420</td>\n",
              "      <td>2838</td>\n",
              "    </tr>\n",
              "    <tr>\n",
              "      <th>4</th>\n",
              "      <td>784</td>\n",
              "      <td>3</td>\n",
              "      <td>1421</td>\n",
              "      <td>2839</td>\n",
              "    </tr>\n",
              "    <tr>\n",
              "      <th>5</th>\n",
              "      <td>785</td>\n",
              "      <td>4</td>\n",
              "      <td>1422</td>\n",
              "      <td>2840</td>\n",
              "    </tr>\n",
              "    <tr>\n",
              "      <th>6</th>\n",
              "      <td>786</td>\n",
              "      <td>5</td>\n",
              "      <td>1423</td>\n",
              "      <td>2841</td>\n",
              "    </tr>\n",
              "  </tbody>\n",
              "</table>\n",
              "</div>"
            ],
            "text/plain": [
              "  PDB_ID Arm1_Resid Arm2_Resid Arm3_Resid\n",
              "2    782          1       1419       2837\n",
              "3    783          2       1420       2838\n",
              "4    784          3       1421       2839\n",
              "5    785          4       1422       2840\n",
              "6    786          5       1423       2841"
            ]
          },
          "metadata": {
            "tags": []
          },
          "execution_count": 7
        }
      ]
    },
    {
      "cell_type": "markdown",
      "metadata": {
        "id": "mqmEUjq7YC5w",
        "colab_type": "text"
      },
      "source": [
        "Before continuing, lets check to see if we have any missing values."
      ]
    },
    {
      "cell_type": "code",
      "metadata": {
        "id": "rrTK7kR-YC5x",
        "colab_type": "code",
        "colab": {},
        "outputId": "d95d1320-03d0-43dd-e46b-c752421a70a0"
      },
      "source": [
        "for colName in resinfoTable.columns:\n",
        "    print '%s:'%colName,\n",
        "    print resinfoTable[colName].isna().sum()"
      ],
      "execution_count": 0,
      "outputs": [
        {
          "output_type": "stream",
          "text": [
            "PDB_ID: 53\n",
            "Arm1_Resid: 0\n",
            "Arm2_Resid: 0\n",
            "Arm3_Resid: 0\n"
          ],
          "name": "stdout"
        }
      ]
    },
    {
      "cell_type": "code",
      "metadata": {
        "id": "T9nNMldDYC5y",
        "colab_type": "code",
        "colab": {},
        "outputId": "b93acf2e-c53d-4b05-9618-f36deaf5952f"
      },
      "source": [
        "resinfoTable[resinfoTable['Arm1_Resid']==1329]"
      ],
      "execution_count": 0,
      "outputs": [
        {
          "output_type": "execute_result",
          "data": {
            "text/html": [
              "<div>\n",
              "<style scoped>\n",
              "    .dataframe tbody tr th:only-of-type {\n",
              "        vertical-align: middle;\n",
              "    }\n",
              "\n",
              "    .dataframe tbody tr th {\n",
              "        vertical-align: top;\n",
              "    }\n",
              "\n",
              "    .dataframe thead th {\n",
              "        text-align: right;\n",
              "    }\n",
              "</style>\n",
              "<table border=\"1\" class=\"dataframe\">\n",
              "  <thead>\n",
              "    <tr style=\"text-align: right;\">\n",
              "      <th></th>\n",
              "      <th>PDB_ID</th>\n",
              "      <th>Arm1_Resid</th>\n",
              "      <th>Arm2_Resid</th>\n",
              "      <th>Arm3_Resid</th>\n",
              "    </tr>\n",
              "  </thead>\n",
              "  <tbody>\n",
              "    <tr>\n",
              "      <th>1330</th>\n",
              "      <td>NaN</td>\n",
              "      <td>1329</td>\n",
              "      <td>2747</td>\n",
              "      <td>4165</td>\n",
              "    </tr>\n",
              "  </tbody>\n",
              "</table>\n",
              "</div>"
            ],
            "text/plain": [
              "     PDB_ID Arm1_Resid Arm2_Resid Arm3_Resid\n",
              "1330    NaN       1329       2747       4165"
            ]
          },
          "metadata": {
            "tags": []
          },
          "execution_count": 9
        }
      ]
    },
    {
      "cell_type": "code",
      "metadata": {
        "id": "8x80hFSbYC50",
        "colab_type": "code",
        "colab": {},
        "outputId": "d82445ff-5dd2-4276-9766-c406de11e85a"
      },
      "source": [
        "np.isnan(resinfoTableFilled.PDB_ID[97])"
      ],
      "execution_count": 0,
      "outputs": [
        {
          "output_type": "error",
          "ename": "NameError",
          "evalue": "name 'resinfoTableFilled' is not defined",
          "traceback": [
            "\u001b[0;31m---------------------------------------------------------------------------\u001b[0m",
            "\u001b[0;31mNameError\u001b[0m                                 Traceback (most recent call last)",
            "\u001b[0;32m<ipython-input-10-d8085fd0bbd8>\u001b[0m in \u001b[0;36m<module>\u001b[0;34m()\u001b[0m\n\u001b[0;32m----> 1\u001b[0;31m \u001b[0mnp\u001b[0m\u001b[0;34m.\u001b[0m\u001b[0misnan\u001b[0m\u001b[0;34m(\u001b[0m\u001b[0mresinfoTableFilled\u001b[0m\u001b[0;34m.\u001b[0m\u001b[0mPDB_ID\u001b[0m\u001b[0;34m[\u001b[0m\u001b[0;36m97\u001b[0m\u001b[0;34m]\u001b[0m\u001b[0;34m)\u001b[0m\u001b[0;34m\u001b[0m\u001b[0m\n\u001b[0m",
            "\u001b[0;31mNameError\u001b[0m: name 'resinfoTableFilled' is not defined"
          ]
        }
      ]
    },
    {
      "cell_type": "markdown",
      "metadata": {
        "id": "-8BSmlVtYC52",
        "colab_type": "text"
      },
      "source": [
        "After our inspection above, we see there is a problem with trying to directly use the resinfo table above.\n",
        "Specifically, the 'PDB_ID' column we want to use has missing values!\n",
        "\n",
        "Fortunately, we know that these missing values are gaps in the pdb sequence for structures that could not be resolved in the cryo-em. The corresponding sequence should, therefore, increase linearly across these gaps.\n",
        "\n",
        "This makes our imputation strategy relatively straight forward. We will iterate over the PDB_ID column. And keep track of the last value we see. When we find valid (integer) values, we just update the last value variable. If we see a missing value we simply increment that last value variable then set the missing entry to be equal to that value."
      ]
    },
    {
      "cell_type": "code",
      "metadata": {
        "id": "osEAXC2GYC52",
        "colab_type": "code",
        "colab": {
          "base_uri": "https://localhost:8080/",
          "height": 51
        },
        "outputId": "af9beed6-b1a4-495a-92a5-03c4525bbae2"
      },
      "source": [
        "resinfoTableFilled=copy.deepcopy(resinfoTable)\n",
        "print resinfoTableFilled.PDB_ID.isna().sum()\n",
        "for iEntry in resinfoTableFilled.PDB_ID.index:\n",
        "    entry=resinfoTableFilled.PDB_ID[iEntry]\n",
        "    if np.isnan(entry):\n",
        "        lastVal=lastVal+1\n",
        "        resinfoTableFilled.PDB_ID[iEntry]=lastVal\n",
        "    else:\n",
        "        lastVal=entry\n",
        "resinfoTableFilled.PDB_ID.isna().sum()"
      ],
      "execution_count": 8,
      "outputs": [
        {
          "output_type": "stream",
          "text": [
            "53\n"
          ],
          "name": "stdout"
        },
        {
          "output_type": "execute_result",
          "data": {
            "text/plain": [
              "0"
            ]
          },
          "metadata": {
            "tags": []
          },
          "execution_count": 8
        }
      ]
    },
    {
      "cell_type": "code",
      "metadata": {
        "id": "nvfmYg7JYC54",
        "colab_type": "code",
        "colab": {
          "base_uri": "https://localhost:8080/",
          "height": 54
        },
        "outputId": "51679636-5fe5-4160-b655-c375e439e617"
      },
      "source": [
        "#the pdb residue id's are sequential, but have gaps corresponding\n",
        "#to unresolved amino acids in the Cryo-EM structure.\n",
        "#The easy solution is just to fill in linearly.\n",
        "#The three arms in our simulation structure are identical, so\n",
        "#we can generate our back-map by just repeating the pdb sequence 3 times\n",
        "simResid_to_pdbResid=list(np.array(resinfoTableFilled.PDB_ID))*3\n",
        "print ', '.join(map(str,simResid_to_pdbResid))"
      ],
      "execution_count": 9,
      "outputs": [
        {
          "output_type": "stream",
          "text": [
            "782, 783, 784, 785, 786, 787, 788, 789, 790, 791, 792, 793, 794, 795, 796, 797, 798, 799, 800, 801, 802, 803, 804, 805, 806, 807, 808, 809, 810, 811, 812, 813, 814, 815, 816, 817, 818, 819, 820, 821, 822, 823, 824, 825, 826, 827, 828, 829, 830, 831, 832, 833, 834, 835, 836, 837, 838, 839, 840, 841, 842, 843, 844, 845, 846, 847, 848, 849, 850, 851, 852, 853, 854, 855, 856, 857, 858, 859, 860, 861, 862, 863, 864, 865, 866, 867, 868, 869, 870, 871, 872, 873, 874, 875, 876, 877, 878, 879, 880, 881, 882, 883, 884, 885, 886, 887, 888, 889, 890, 891, 892, 893, 894, 895, 896, 897, 898, 899, 900, 901, 902, 903, 904, 905, 906, 907, 908, 909, 910, 911, 912, 913, 914, 915, 916, 917, 918, 919, 920, 921, 922, 923, 924, 925, 926, 927, 928, 929, 930, 931, 932, 933, 934, 935, 936, 937, 938, 939, 940, 941, 942, 943, 944, 945, 946, 947, 948, 949, 950, 951, 952, 953, 954, 955, 956, 957, 958, 959, 960, 961, 962, 963, 964, 965, 966, 967, 968, 969, 970, 971, 972, 973, 974, 975, 976, 977, 978, 979, 980, 981, 982, 983, 984, 985, 986, 987, 988, 989, 990, 991, 992, 993, 994, 995, 996, 997, 998, 999, 1000, 1001, 1002, 1003, 1004, 1005, 1006, 1007, 1008, 1009, 1010, 1011, 1012, 1013, 1014, 1015, 1016, 1017, 1018, 1019, 1020, 1021, 1022, 1023, 1024, 1025, 1026, 1027, 1028, 1029, 1030, 1031, 1032, 1033, 1034, 1035, 1036, 1037, 1038, 1039, 1040, 1041, 1042, 1043, 1044, 1045, 1046, 1047, 1048, 1049, 1050, 1051, 1052, 1053, 1054, 1055, 1056, 1057, 1058, 1059, 1060, 1061, 1062, 1063, 1064, 1065, 1066, 1067, 1068, 1069, 1070, 1071, 1072, 1073, 1074, 1075, 1076, 1077, 1078, 1079, 1080, 1081, 1082, 1083, 1084, 1085, 1086, 1087, 1088, 1089, 1090, 1091, 1092, 1093, 1094, 1095, 1096, 1097, 1098, 1099, 1100, 1101, 1102, 1103, 1104, 1105, 1106, 1107, 1108, 1109, 1110, 1111, 1112, 1113, 1114, 1115, 1116, 1117, 1118, 1119, 1120, 1121, 1122, 1123, 1124, 1125, 1126, 1127, 1128, 1129, 1130, 1131, 1132, 1133, 1134, 1135, 1136, 1137, 1138, 1139, 1140, 1141, 1142, 1143, 1144, 1145, 1146, 1147, 1148, 1149, 1150, 1151, 1152, 1153, 1154, 1155, 1156, 1157, 1158, 1159, 1160, 1161, 1162, 1163, 1164, 1165, 1166, 1167, 1168, 1169, 1170, 1171, 1172, 1173, 1174, 1175, 1176, 1177, 1178, 1179, 1180, 1181, 1182, 1183, 1184, 1185, 1186, 1187, 1188, 1189, 1190, 1191, 1192, 1193, 1194, 1195, 1196, 1197, 1198, 1199, 1200, 1201, 1202, 1203, 1204, 1205, 1206, 1207, 1208, 1209, 1210, 1211, 1212, 1213, 1214, 1215, 1216, 1217, 1218, 1219, 1220, 1221, 1222, 1223, 1224, 1225, 1226, 1227, 1228, 1229, 1230, 1231, 1232, 1233, 1234, 1235, 1236, 1237, 1238, 1239, 1240, 1241, 1242, 1243, 1244, 1245, 1246, 1247, 1248, 1249, 1250, 1251, 1252, 1253, 1254, 1255, 1256, 1257, 1258, 1259, 1260, 1261, 1262, 1263, 1264, 1265, 1266, 1267, 1268, 1269, 1270, 1271, 1272, 1273, 1274, 1275, 1276, 1277, 1278, 1279, 1280, 1281, 1282, 1283, 1284, 1285, 1286, 1287, 1288, 1289, 1290, 1291, 1292, 1293, 1294, 1295, 1296, 1297, 1298, 1299, 1300, 1301, 1302, 1303, 1304, 1305, 1306, 1307, 1308, 1309, 1310, 1311, 1312, 1313, 1314, 1315, 1316, 1317, 1318, 1319, 1320, 1321, 1322, 1323, 1324, 1325, 1326, 1327, 1328, 1329, 1330, 1331, 1332, 1333, 1334, 1335, 1336, 1337, 1338, 1339, 1340, 1341, 1342, 1343, 1344, 1345, 1346, 1347, 1348, 1349, 1350, 1351, 1352, 1353, 1354, 1355, 1356, 1357, 1358, 1359, 1360, 1361, 1362, 1363, 1364, 1365, 1493, 1494, 1495, 1496, 1497, 1498, 1499, 1500, 1501, 1502, 1503, 1504, 1505, 1506, 1507, 1508, 1509, 1510, 1511, 1512, 1513, 1514, 1515, 1516, 1517, 1518, 1519, 1520, 1521, 1522, 1523, 1524, 1525, 1526, 1527, 1528, 1529, 1530, 1531, 1532, 1533, 1534, 1535, 1536, 1537, 1538, 1539, 1540, 1541, 1542, 1543, 1544, 1545, 1546, 1547, 1548, 1549, 1550, 1551, 1552, 1553, 1554, 1555, 1556, 1557, 1558, 1559, 1560, 1561, 1562, 1563, 1564, 1565, 1566, 1567, 1568, 1569, 1570, 1571, 1572, 1573, 1574, 1575, 1576, 1577, 1578, 1655, 1656, 1657, 1658, 1659, 1660, 1661, 1662, 1663, 1664, 1665, 1666, 1667, 1668, 1669, 1670, 1671, 1672, 1673, 1674, 1675, 1676, 1677, 1678, 1679, 1680, 1681, 1682, 1683, 1684, 1685, 1686, 1687, 1688, 1689, 1690, 1691, 1692, 1693, 1694, 1695, 1696, 1697, 1698, 1699, 1700, 1701, 1702, 1703, 1704, 1705, 1706, 1707, 1708, 1709, 1710, 1711, 1712, 1713, 1714, 1715, 1716, 1717, 1718, 1719, 1720, 1721, 1722, 1723, 1724, 1725, 1726, 1727, 1728, 1729, 1730, 1731, 1732, 1733, 1734, 1735, 1736, 1737, 1738, 1739, 1740, 1741, 1742, 1743, 1744, 1745, 1746, 1747, 1748, 1749, 1750, 1751, 1752, 1753, 1754, 1755, 1756, 1757, 1758, 1759, 1760, 1761, 1762, 1763, 1764, 1765, 1766, 1767, 1768, 1769, 1770, 1771, 1772, 1773, 1774, 1775, 1776, 1777, 1778, 1779, 1780, 1781, 1782, 1783, 1784, 1785, 1786, 1787, 1788, 1789, 1790, 1791, 1792, 1793, 1794, 1795, 1796, 1797, 1798, 1799, 1800, 1801, 1802, 1803, 1804, 1805, 1806, 1807, 1952, 1953, 1954, 1955, 1956, 1957, 1958, 1959, 1960, 1961, 1962, 1963, 1964, 1965, 1966, 1967, 1968, 1969, 1970, 1971, 1972, 1973, 1974, 1975, 1976, 1977, 1978, 1979, 1980, 1981, 1982, 1983, 1984, 1985, 1986, 1987, 1988, 1989, 1990, 1991, 1992, 1993, 1994, 1995, 1996, 1997, 1998, 1999, 2000, 2001, 2002, 2003, 2004, 2005, 2006, 2007, 2008, 2009, 2010, 2011, 2012, 2013, 2014, 2015, 2016, 2017, 2018, 2019, 2020, 2021, 2022, 2023, 2024, 2025, 2026, 2027, 2028, 2029, 2030, 2031, 2032, 2033, 2034, 2035, 2036, 2037, 2038, 2039, 2040, 2041, 2042, 2043, 2044, 2045, 2046, 2047, 2048, 2049, 2050, 2051, 2052, 2053, 2054, 2055, 2056, 2057, 2058, 2059, 2060, 2061, 2062, 2063, 2064, 2065, 2066, 2067, 2068, 2069, 2070, 2071, 2072, 2073, 2074, 2075, 2076, 2077, 2078, 2079, 2080, 2081, 2082, 2083, 2084, 2085, 2086, 2087, 2088, 2089, 2090, 2091, 2092, 2093, 2094, 2095, 2096, 2097, 2098, 2099, 2100, 2101, 2102, 2103, 2104, 2105, 2106, 2107, 2108, 2109, 2110, 2111, 2112, 2113, 2114, 2115, 2116, 2117, 2118, 2119, 2120, 2121, 2122, 2123, 2124, 2125, 2126, 2127, 2128, 2129, 2130, 2131, 2132, 2133, 2134, 2135, 2136, 2137, 2138, 2139, 2140, 2141, 2142, 2143, 2144, 2145, 2146, 2147, 2148, 2149, 2150, 2151, 2152, 2153, 2154, 2155, 2156, 2157, 2158, 2159, 2160, 2161, 2162, 2163, 2164, 2165, 2166, 2167, 2168, 2169, 2170, 2171, 2172, 2173, 2174, 2175, 2176, 2177, 2178, 2179, 2180, 2181, 2182, 2183, 2184, 2185, 2186, 2187, 2188, 2189, 2190, 2191, 2192, 2193, 2194, 2195, 2196, 2197, 2198, 2199, 2200, 2201, 2202, 2203, 2204, 2205, 2206, 2207, 2208, 2209, 2210, 2211, 2212, 2213, 2214, 2215, 2216, 2217, 2218, 2219, 2220, 2221, 2222, 2223, 2224, 2225, 2226, 2227, 2228, 2229, 2230, 2231, 2232, 2233, 2234, 2235, 2236, 2237, 2238, 2239, 2240, 2241, 2242, 2243, 2244, 2245, 2246, 2247, 2248, 2249, 2250, 2251, 2252, 2253, 2254, 2255, 2256, 2257, 2258, 2259, 2260, 2261, 2262, 2263, 2264, 2265, 2266, 2267, 2268, 2269, 2270, 2271, 2272, 2273, 2274, 2275, 2276, 2277, 2278, 2279, 2280, 2281, 2282, 2283, 2284, 2285, 2286, 2287, 2288, 2289, 2290, 2291, 2292, 2293, 2294, 2295, 2296, 2297, 2298, 2299, 2300, 2301, 2302, 2303, 2304, 2305, 2306, 2307, 2308, 2309, 2310, 2311, 2312, 2313, 2314, 2315, 2316, 2317, 2318, 2319, 2320, 2321, 2322, 2323, 2324, 2325, 2326, 2327, 2328, 2329, 2330, 2331, 2332, 2333, 2334, 2335, 2336, 2337, 2338, 2339, 2340, 2341, 2342, 2343, 2344, 2345, 2346, 2347, 2348, 2349, 2350, 2351, 2352, 2353, 2354, 2355, 2356, 2357, 2358, 2359, 2360, 2361, 2362, 2363, 2364, 2365, 2366, 2367, 2368, 2369, 2370, 2371, 2372, 2373, 2374, 2375, 2376, 2377, 2378, 2379, 2380, 2381, 2382, 2383, 2384, 2385, 2386, 2387, 2388, 2389, 2390, 2391, 2392, 2393, 2394, 2395, 2396, 2397, 2398, 2399, 2400, 2401, 2402, 2403, 2404, 2405, 2406, 2407, 2408, 2409, 2410, 2411, 2412, 2413, 2414, 2415, 2416, 2417, 2418, 2419, 2420, 2421, 2422, 2423, 2424, 2425, 2426, 2427, 2428, 2429, 2430, 2431, 2432, 2433, 2434, 2435, 2436, 2437, 2438, 2439, 2440, 2441, 2442, 2443, 2444, 2445, 2446, 2447, 2448, 2449, 2450, 2451, 2452, 2453, 2454, 2455, 2456, 2457, 2458, 2459, 2460, 2461, 2462, 2463, 2464, 2465, 2466, 2467, 2468, 2469, 2470, 2471, 2472, 2473, 2474, 2475, 2476, 2477, 2478, 2479, 2480, 2481, 2482, 2483, 2484, 2485, 2486, 2487, 2488, 2489, 2490, 2491, 2492, 2493, 2494, 2495, 2496, 2497, 2498, 2499, 2500, 2501, 2502, 2503, 2504, 2505, 2506, 2507, 2508, 2509, 2510, 2511, 2512, 2513, 2514, 2515, 2516, 2517, 2518, 2519, 2520, 2521, 2522, 2523, 2524, 2525, 2526, 2527, 2528, 2529, 2530, 2531, 2532, 2533, 2534, 2535, 2536, 2537, 2538, 2539, 2540, 2541, 2542, 2543, 2544, 2545, 2546, 782, 783, 784, 785, 786, 787, 788, 789, 790, 791, 792, 793, 794, 795, 796, 797, 798, 799, 800, 801, 802, 803, 804, 805, 806, 807, 808, 809, 810, 811, 812, 813, 814, 815, 816, 817, 818, 819, 820, 821, 822, 823, 824, 825, 826, 827, 828, 829, 830, 831, 832, 833, 834, 835, 836, 837, 838, 839, 840, 841, 842, 843, 844, 845, 846, 847, 848, 849, 850, 851, 852, 853, 854, 855, 856, 857, 858, 859, 860, 861, 862, 863, 864, 865, 866, 867, 868, 869, 870, 871, 872, 873, 874, 875, 876, 877, 878, 879, 880, 881, 882, 883, 884, 885, 886, 887, 888, 889, 890, 891, 892, 893, 894, 895, 896, 897, 898, 899, 900, 901, 902, 903, 904, 905, 906, 907, 908, 909, 910, 911, 912, 913, 914, 915, 916, 917, 918, 919, 920, 921, 922, 923, 924, 925, 926, 927, 928, 929, 930, 931, 932, 933, 934, 935, 936, 937, 938, 939, 940, 941, 942, 943, 944, 945, 946, 947, 948, 949, 950, 951, 952, 953, 954, 955, 956, 957, 958, 959, 960, 961, 962, 963, 964, 965, 966, 967, 968, 969, 970, 971, 972, 973, 974, 975, 976, 977, 978, 979, 980, 981, 982, 983, 984, 985, 986, 987, 988, 989, 990, 991, 992, 993, 994, 995, 996, 997, 998, 999, 1000, 1001, 1002, 1003, 1004, 1005, 1006, 1007, 1008, 1009, 1010, 1011, 1012, 1013, 1014, 1015, 1016, 1017, 1018, 1019, 1020, 1021, 1022, 1023, 1024, 1025, 1026, 1027, 1028, 1029, 1030, 1031, 1032, 1033, 1034, 1035, 1036, 1037, 1038, 1039, 1040, 1041, 1042, 1043, 1044, 1045, 1046, 1047, 1048, 1049, 1050, 1051, 1052, 1053, 1054, 1055, 1056, 1057, 1058, 1059, 1060, 1061, 1062, 1063, 1064, 1065, 1066, 1067, 1068, 1069, 1070, 1071, 1072, 1073, 1074, 1075, 1076, 1077, 1078, 1079, 1080, 1081, 1082, 1083, 1084, 1085, 1086, 1087, 1088, 1089, 1090, 1091, 1092, 1093, 1094, 1095, 1096, 1097, 1098, 1099, 1100, 1101, 1102, 1103, 1104, 1105, 1106, 1107, 1108, 1109, 1110, 1111, 1112, 1113, 1114, 1115, 1116, 1117, 1118, 1119, 1120, 1121, 1122, 1123, 1124, 1125, 1126, 1127, 1128, 1129, 1130, 1131, 1132, 1133, 1134, 1135, 1136, 1137, 1138, 1139, 1140, 1141, 1142, 1143, 1144, 1145, 1146, 1147, 1148, 1149, 1150, 1151, 1152, 1153, 1154, 1155, 1156, 1157, 1158, 1159, 1160, 1161, 1162, 1163, 1164, 1165, 1166, 1167, 1168, 1169, 1170, 1171, 1172, 1173, 1174, 1175, 1176, 1177, 1178, 1179, 1180, 1181, 1182, 1183, 1184, 1185, 1186, 1187, 1188, 1189, 1190, 1191, 1192, 1193, 1194, 1195, 1196, 1197, 1198, 1199, 1200, 1201, 1202, 1203, 1204, 1205, 1206, 1207, 1208, 1209, 1210, 1211, 1212, 1213, 1214, 1215, 1216, 1217, 1218, 1219, 1220, 1221, 1222, 1223, 1224, 1225, 1226, 1227, 1228, 1229, 1230, 1231, 1232, 1233, 1234, 1235, 1236, 1237, 1238, 1239, 1240, 1241, 1242, 1243, 1244, 1245, 1246, 1247, 1248, 1249, 1250, 1251, 1252, 1253, 1254, 1255, 1256, 1257, 1258, 1259, 1260, 1261, 1262, 1263, 1264, 1265, 1266, 1267, 1268, 1269, 1270, 1271, 1272, 1273, 1274, 1275, 1276, 1277, 1278, 1279, 1280, 1281, 1282, 1283, 1284, 1285, 1286, 1287, 1288, 1289, 1290, 1291, 1292, 1293, 1294, 1295, 1296, 1297, 1298, 1299, 1300, 1301, 1302, 1303, 1304, 1305, 1306, 1307, 1308, 1309, 1310, 1311, 1312, 1313, 1314, 1315, 1316, 1317, 1318, 1319, 1320, 1321, 1322, 1323, 1324, 1325, 1326, 1327, 1328, 1329, 1330, 1331, 1332, 1333, 1334, 1335, 1336, 1337, 1338, 1339, 1340, 1341, 1342, 1343, 1344, 1345, 1346, 1347, 1348, 1349, 1350, 1351, 1352, 1353, 1354, 1355, 1356, 1357, 1358, 1359, 1360, 1361, 1362, 1363, 1364, 1365, 1493, 1494, 1495, 1496, 1497, 1498, 1499, 1500, 1501, 1502, 1503, 1504, 1505, 1506, 1507, 1508, 1509, 1510, 1511, 1512, 1513, 1514, 1515, 1516, 1517, 1518, 1519, 1520, 1521, 1522, 1523, 1524, 1525, 1526, 1527, 1528, 1529, 1530, 1531, 1532, 1533, 1534, 1535, 1536, 1537, 1538, 1539, 1540, 1541, 1542, 1543, 1544, 1545, 1546, 1547, 1548, 1549, 1550, 1551, 1552, 1553, 1554, 1555, 1556, 1557, 1558, 1559, 1560, 1561, 1562, 1563, 1564, 1565, 1566, 1567, 1568, 1569, 1570, 1571, 1572, 1573, 1574, 1575, 1576, 1577, 1578, 1655, 1656, 1657, 1658, 1659, 1660, 1661, 1662, 1663, 1664, 1665, 1666, 1667, 1668, 1669, 1670, 1671, 1672, 1673, 1674, 1675, 1676, 1677, 1678, 1679, 1680, 1681, 1682, 1683, 1684, 1685, 1686, 1687, 1688, 1689, 1690, 1691, 1692, 1693, 1694, 1695, 1696, 1697, 1698, 1699, 1700, 1701, 1702, 1703, 1704, 1705, 1706, 1707, 1708, 1709, 1710, 1711, 1712, 1713, 1714, 1715, 1716, 1717, 1718, 1719, 1720, 1721, 1722, 1723, 1724, 1725, 1726, 1727, 1728, 1729, 1730, 1731, 1732, 1733, 1734, 1735, 1736, 1737, 1738, 1739, 1740, 1741, 1742, 1743, 1744, 1745, 1746, 1747, 1748, 1749, 1750, 1751, 1752, 1753, 1754, 1755, 1756, 1757, 1758, 1759, 1760, 1761, 1762, 1763, 1764, 1765, 1766, 1767, 1768, 1769, 1770, 1771, 1772, 1773, 1774, 1775, 1776, 1777, 1778, 1779, 1780, 1781, 1782, 1783, 1784, 1785, 1786, 1787, 1788, 1789, 1790, 1791, 1792, 1793, 1794, 1795, 1796, 1797, 1798, 1799, 1800, 1801, 1802, 1803, 1804, 1805, 1806, 1807, 1952, 1953, 1954, 1955, 1956, 1957, 1958, 1959, 1960, 1961, 1962, 1963, 1964, 1965, 1966, 1967, 1968, 1969, 1970, 1971, 1972, 1973, 1974, 1975, 1976, 1977, 1978, 1979, 1980, 1981, 1982, 1983, 1984, 1985, 1986, 1987, 1988, 1989, 1990, 1991, 1992, 1993, 1994, 1995, 1996, 1997, 1998, 1999, 2000, 2001, 2002, 2003, 2004, 2005, 2006, 2007, 2008, 2009, 2010, 2011, 2012, 2013, 2014, 2015, 2016, 2017, 2018, 2019, 2020, 2021, 2022, 2023, 2024, 2025, 2026, 2027, 2028, 2029, 2030, 2031, 2032, 2033, 2034, 2035, 2036, 2037, 2038, 2039, 2040, 2041, 2042, 2043, 2044, 2045, 2046, 2047, 2048, 2049, 2050, 2051, 2052, 2053, 2054, 2055, 2056, 2057, 2058, 2059, 2060, 2061, 2062, 2063, 2064, 2065, 2066, 2067, 2068, 2069, 2070, 2071, 2072, 2073, 2074, 2075, 2076, 2077, 2078, 2079, 2080, 2081, 2082, 2083, 2084, 2085, 2086, 2087, 2088, 2089, 2090, 2091, 2092, 2093, 2094, 2095, 2096, 2097, 2098, 2099, 2100, 2101, 2102, 2103, 2104, 2105, 2106, 2107, 2108, 2109, 2110, 2111, 2112, 2113, 2114, 2115, 2116, 2117, 2118, 2119, 2120, 2121, 2122, 2123, 2124, 2125, 2126, 2127, 2128, 2129, 2130, 2131, 2132, 2133, 2134, 2135, 2136, 2137, 2138, 2139, 2140, 2141, 2142, 2143, 2144, 2145, 2146, 2147, 2148, 2149, 2150, 2151, 2152, 2153, 2154, 2155, 2156, 2157, 2158, 2159, 2160, 2161, 2162, 2163, 2164, 2165, 2166, 2167, 2168, 2169, 2170, 2171, 2172, 2173, 2174, 2175, 2176, 2177, 2178, 2179, 2180, 2181, 2182, 2183, 2184, 2185, 2186, 2187, 2188, 2189, 2190, 2191, 2192, 2193, 2194, 2195, 2196, 2197, 2198, 2199, 2200, 2201, 2202, 2203, 2204, 2205, 2206, 2207, 2208, 2209, 2210, 2211, 2212, 2213, 2214, 2215, 2216, 2217, 2218, 2219, 2220, 2221, 2222, 2223, 2224, 2225, 2226, 2227, 2228, 2229, 2230, 2231, 2232, 2233, 2234, 2235, 2236, 2237, 2238, 2239, 2240, 2241, 2242, 2243, 2244, 2245, 2246, 2247, 2248, 2249, 2250, 2251, 2252, 2253, 2254, 2255, 2256, 2257, 2258, 2259, 2260, 2261, 2262, 2263, 2264, 2265, 2266, 2267, 2268, 2269, 2270, 2271, 2272, 2273, 2274, 2275, 2276, 2277, 2278, 2279, 2280, 2281, 2282, 2283, 2284, 2285, 2286, 2287, 2288, 2289, 2290, 2291, 2292, 2293, 2294, 2295, 2296, 2297, 2298, 2299, 2300, 2301, 2302, 2303, 2304, 2305, 2306, 2307, 2308, 2309, 2310, 2311, 2312, 2313, 2314, 2315, 2316, 2317, 2318, 2319, 2320, 2321, 2322, 2323, 2324, 2325, 2326, 2327, 2328, 2329, 2330, 2331, 2332, 2333, 2334, 2335, 2336, 2337, 2338, 2339, 2340, 2341, 2342, 2343, 2344, 2345, 2346, 2347, 2348, 2349, 2350, 2351, 2352, 2353, 2354, 2355, 2356, 2357, 2358, 2359, 2360, 2361, 2362, 2363, 2364, 2365, 2366, 2367, 2368, 2369, 2370, 2371, 2372, 2373, 2374, 2375, 2376, 2377, 2378, 2379, 2380, 2381, 2382, 2383, 2384, 2385, 2386, 2387, 2388, 2389, 2390, 2391, 2392, 2393, 2394, 2395, 2396, 2397, 2398, 2399, 2400, 2401, 2402, 2403, 2404, 2405, 2406, 2407, 2408, 2409, 2410, 2411, 2412, 2413, 2414, 2415, 2416, 2417, 2418, 2419, 2420, 2421, 2422, 2423, 2424, 2425, 2426, 2427, 2428, 2429, 2430, 2431, 2432, 2433, 2434, 2435, 2436, 2437, 2438, 2439, 2440, 2441, 2442, 2443, 2444, 2445, 2446, 2447, 2448, 2449, 2450, 2451, 2452, 2453, 2454, 2455, 2456, 2457, 2458, 2459, 2460, 2461, 2462, 2463, 2464, 2465, 2466, 2467, 2468, 2469, 2470, 2471, 2472, 2473, 2474, 2475, 2476, 2477, 2478, 2479, 2480, 2481, 2482, 2483, 2484, 2485, 2486, 2487, 2488, 2489, 2490, 2491, 2492, 2493, 2494, 2495, 2496, 2497, 2498, 2499, 2500, 2501, 2502, 2503, 2504, 2505, 2506, 2507, 2508, 2509, 2510, 2511, 2512, 2513, 2514, 2515, 2516, 2517, 2518, 2519, 2520, 2521, 2522, 2523, 2524, 2525, 2526, 2527, 2528, 2529, 2530, 2531, 2532, 2533, 2534, 2535, 2536, 2537, 2538, 2539, 2540, 2541, 2542, 2543, 2544, 2545, 2546, 782, 783, 784, 785, 786, 787, 788, 789, 790, 791, 792, 793, 794, 795, 796, 797, 798, 799, 800, 801, 802, 803, 804, 805, 806, 807, 808, 809, 810, 811, 812, 813, 814, 815, 816, 817, 818, 819, 820, 821, 822, 823, 824, 825, 826, 827, 828, 829, 830, 831, 832, 833, 834, 835, 836, 837, 838, 839, 840, 841, 842, 843, 844, 845, 846, 847, 848, 849, 850, 851, 852, 853, 854, 855, 856, 857, 858, 859, 860, 861, 862, 863, 864, 865, 866, 867, 868, 869, 870, 871, 872, 873, 874, 875, 876, 877, 878, 879, 880, 881, 882, 883, 884, 885, 886, 887, 888, 889, 890, 891, 892, 893, 894, 895, 896, 897, 898, 899, 900, 901, 902, 903, 904, 905, 906, 907, 908, 909, 910, 911, 912, 913, 914, 915, 916, 917, 918, 919, 920, 921, 922, 923, 924, 925, 926, 927, 928, 929, 930, 931, 932, 933, 934, 935, 936, 937, 938, 939, 940, 941, 942, 943, 944, 945, 946, 947, 948, 949, 950, 951, 952, 953, 954, 955, 956, 957, 958, 959, 960, 961, 962, 963, 964, 965, 966, 967, 968, 969, 970, 971, 972, 973, 974, 975, 976, 977, 978, 979, 980, 981, 982, 983, 984, 985, 986, 987, 988, 989, 990, 991, 992, 993, 994, 995, 996, 997, 998, 999, 1000, 1001, 1002, 1003, 1004, 1005, 1006, 1007, 1008, 1009, 1010, 1011, 1012, 1013, 1014, 1015, 1016, 1017, 1018, 1019, 1020, 1021, 1022, 1023, 1024, 1025, 1026, 1027, 1028, 1029, 1030, 1031, 1032, 1033, 1034, 1035, 1036, 1037, 1038, 1039, 1040, 1041, 1042, 1043, 1044, 1045, 1046, 1047, 1048, 1049, 1050, 1051, 1052, 1053, 1054, 1055, 1056, 1057, 1058, 1059, 1060, 1061, 1062, 1063, 1064, 1065, 1066, 1067, 1068, 1069, 1070, 1071, 1072, 1073, 1074, 1075, 1076, 1077, 1078, 1079, 1080, 1081, 1082, 1083, 1084, 1085, 1086, 1087, 1088, 1089, 1090, 1091, 1092, 1093, 1094, 1095, 1096, 1097, 1098, 1099, 1100, 1101, 1102, 1103, 1104, 1105, 1106, 1107, 1108, 1109, 1110, 1111, 1112, 1113, 1114, 1115, 1116, 1117, 1118, 1119, 1120, 1121, 1122, 1123, 1124, 1125, 1126, 1127, 1128, 1129, 1130, 1131, 1132, 1133, 1134, 1135, 1136, 1137, 1138, 1139, 1140, 1141, 1142, 1143, 1144, 1145, 1146, 1147, 1148, 1149, 1150, 1151, 1152, 1153, 1154, 1155, 1156, 1157, 1158, 1159, 1160, 1161, 1162, 1163, 1164, 1165, 1166, 1167, 1168, 1169, 1170, 1171, 1172, 1173, 1174, 1175, 1176, 1177, 1178, 1179, 1180, 1181, 1182, 1183, 1184, 1185, 1186, 1187, 1188, 1189, 1190, 1191, 1192, 1193, 1194, 1195, 1196, 1197, 1198, 1199, 1200, 1201, 1202, 1203, 1204, 1205, 1206, 1207, 1208, 1209, 1210, 1211, 1212, 1213, 1214, 1215, 1216, 1217, 1218, 1219, 1220, 1221, 1222, 1223, 1224, 1225, 1226, 1227, 1228, 1229, 1230, 1231, 1232, 1233, 1234, 1235, 1236, 1237, 1238, 1239, 1240, 1241, 1242, 1243, 1244, 1245, 1246, 1247, 1248, 1249, 1250, 1251, 1252, 1253, 1254, 1255, 1256, 1257, 1258, 1259, 1260, 1261, 1262, 1263, 1264, 1265, 1266, 1267, 1268, 1269, 1270, 1271, 1272, 1273, 1274, 1275, 1276, 1277, 1278, 1279, 1280, 1281, 1282, 1283, 1284, 1285, 1286, 1287, 1288, 1289, 1290, 1291, 1292, 1293, 1294, 1295, 1296, 1297, 1298, 1299, 1300, 1301, 1302, 1303, 1304, 1305, 1306, 1307, 1308, 1309, 1310, 1311, 1312, 1313, 1314, 1315, 1316, 1317, 1318, 1319, 1320, 1321, 1322, 1323, 1324, 1325, 1326, 1327, 1328, 1329, 1330, 1331, 1332, 1333, 1334, 1335, 1336, 1337, 1338, 1339, 1340, 1341, 1342, 1343, 1344, 1345, 1346, 1347, 1348, 1349, 1350, 1351, 1352, 1353, 1354, 1355, 1356, 1357, 1358, 1359, 1360, 1361, 1362, 1363, 1364, 1365, 1493, 1494, 1495, 1496, 1497, 1498, 1499, 1500, 1501, 1502, 1503, 1504, 1505, 1506, 1507, 1508, 1509, 1510, 1511, 1512, 1513, 1514, 1515, 1516, 1517, 1518, 1519, 1520, 1521, 1522, 1523, 1524, 1525, 1526, 1527, 1528, 1529, 1530, 1531, 1532, 1533, 1534, 1535, 1536, 1537, 1538, 1539, 1540, 1541, 1542, 1543, 1544, 1545, 1546, 1547, 1548, 1549, 1550, 1551, 1552, 1553, 1554, 1555, 1556, 1557, 1558, 1559, 1560, 1561, 1562, 1563, 1564, 1565, 1566, 1567, 1568, 1569, 1570, 1571, 1572, 1573, 1574, 1575, 1576, 1577, 1578, 1655, 1656, 1657, 1658, 1659, 1660, 1661, 1662, 1663, 1664, 1665, 1666, 1667, 1668, 1669, 1670, 1671, 1672, 1673, 1674, 1675, 1676, 1677, 1678, 1679, 1680, 1681, 1682, 1683, 1684, 1685, 1686, 1687, 1688, 1689, 1690, 1691, 1692, 1693, 1694, 1695, 1696, 1697, 1698, 1699, 1700, 1701, 1702, 1703, 1704, 1705, 1706, 1707, 1708, 1709, 1710, 1711, 1712, 1713, 1714, 1715, 1716, 1717, 1718, 1719, 1720, 1721, 1722, 1723, 1724, 1725, 1726, 1727, 1728, 1729, 1730, 1731, 1732, 1733, 1734, 1735, 1736, 1737, 1738, 1739, 1740, 1741, 1742, 1743, 1744, 1745, 1746, 1747, 1748, 1749, 1750, 1751, 1752, 1753, 1754, 1755, 1756, 1757, 1758, 1759, 1760, 1761, 1762, 1763, 1764, 1765, 1766, 1767, 1768, 1769, 1770, 1771, 1772, 1773, 1774, 1775, 1776, 1777, 1778, 1779, 1780, 1781, 1782, 1783, 1784, 1785, 1786, 1787, 1788, 1789, 1790, 1791, 1792, 1793, 1794, 1795, 1796, 1797, 1798, 1799, 1800, 1801, 1802, 1803, 1804, 1805, 1806, 1807, 1952, 1953, 1954, 1955, 1956, 1957, 1958, 1959, 1960, 1961, 1962, 1963, 1964, 1965, 1966, 1967, 1968, 1969, 1970, 1971, 1972, 1973, 1974, 1975, 1976, 1977, 1978, 1979, 1980, 1981, 1982, 1983, 1984, 1985, 1986, 1987, 1988, 1989, 1990, 1991, 1992, 1993, 1994, 1995, 1996, 1997, 1998, 1999, 2000, 2001, 2002, 2003, 2004, 2005, 2006, 2007, 2008, 2009, 2010, 2011, 2012, 2013, 2014, 2015, 2016, 2017, 2018, 2019, 2020, 2021, 2022, 2023, 2024, 2025, 2026, 2027, 2028, 2029, 2030, 2031, 2032, 2033, 2034, 2035, 2036, 2037, 2038, 2039, 2040, 2041, 2042, 2043, 2044, 2045, 2046, 2047, 2048, 2049, 2050, 2051, 2052, 2053, 2054, 2055, 2056, 2057, 2058, 2059, 2060, 2061, 2062, 2063, 2064, 2065, 2066, 2067, 2068, 2069, 2070, 2071, 2072, 2073, 2074, 2075, 2076, 2077, 2078, 2079, 2080, 2081, 2082, 2083, 2084, 2085, 2086, 2087, 2088, 2089, 2090, 2091, 2092, 2093, 2094, 2095, 2096, 2097, 2098, 2099, 2100, 2101, 2102, 2103, 2104, 2105, 2106, 2107, 2108, 2109, 2110, 2111, 2112, 2113, 2114, 2115, 2116, 2117, 2118, 2119, 2120, 2121, 2122, 2123, 2124, 2125, 2126, 2127, 2128, 2129, 2130, 2131, 2132, 2133, 2134, 2135, 2136, 2137, 2138, 2139, 2140, 2141, 2142, 2143, 2144, 2145, 2146, 2147, 2148, 2149, 2150, 2151, 2152, 2153, 2154, 2155, 2156, 2157, 2158, 2159, 2160, 2161, 2162, 2163, 2164, 2165, 2166, 2167, 2168, 2169, 2170, 2171, 2172, 2173, 2174, 2175, 2176, 2177, 2178, 2179, 2180, 2181, 2182, 2183, 2184, 2185, 2186, 2187, 2188, 2189, 2190, 2191, 2192, 2193, 2194, 2195, 2196, 2197, 2198, 2199, 2200, 2201, 2202, 2203, 2204, 2205, 2206, 2207, 2208, 2209, 2210, 2211, 2212, 2213, 2214, 2215, 2216, 2217, 2218, 2219, 2220, 2221, 2222, 2223, 2224, 2225, 2226, 2227, 2228, 2229, 2230, 2231, 2232, 2233, 2234, 2235, 2236, 2237, 2238, 2239, 2240, 2241, 2242, 2243, 2244, 2245, 2246, 2247, 2248, 2249, 2250, 2251, 2252, 2253, 2254, 2255, 2256, 2257, 2258, 2259, 2260, 2261, 2262, 2263, 2264, 2265, 2266, 2267, 2268, 2269, 2270, 2271, 2272, 2273, 2274, 2275, 2276, 2277, 2278, 2279, 2280, 2281, 2282, 2283, 2284, 2285, 2286, 2287, 2288, 2289, 2290, 2291, 2292, 2293, 2294, 2295, 2296, 2297, 2298, 2299, 2300, 2301, 2302, 2303, 2304, 2305, 2306, 2307, 2308, 2309, 2310, 2311, 2312, 2313, 2314, 2315, 2316, 2317, 2318, 2319, 2320, 2321, 2322, 2323, 2324, 2325, 2326, 2327, 2328, 2329, 2330, 2331, 2332, 2333, 2334, 2335, 2336, 2337, 2338, 2339, 2340, 2341, 2342, 2343, 2344, 2345, 2346, 2347, 2348, 2349, 2350, 2351, 2352, 2353, 2354, 2355, 2356, 2357, 2358, 2359, 2360, 2361, 2362, 2363, 2364, 2365, 2366, 2367, 2368, 2369, 2370, 2371, 2372, 2373, 2374, 2375, 2376, 2377, 2378, 2379, 2380, 2381, 2382, 2383, 2384, 2385, 2386, 2387, 2388, 2389, 2390, 2391, 2392, 2393, 2394, 2395, 2396, 2397, 2398, 2399, 2400, 2401, 2402, 2403, 2404, 2405, 2406, 2407, 2408, 2409, 2410, 2411, 2412, 2413, 2414, 2415, 2416, 2417, 2418, 2419, 2420, 2421, 2422, 2423, 2424, 2425, 2426, 2427, 2428, 2429, 2430, 2431, 2432, 2433, 2434, 2435, 2436, 2437, 2438, 2439, 2440, 2441, 2442, 2443, 2444, 2445, 2446, 2447, 2448, 2449, 2450, 2451, 2452, 2453, 2454, 2455, 2456, 2457, 2458, 2459, 2460, 2461, 2462, 2463, 2464, 2465, 2466, 2467, 2468, 2469, 2470, 2471, 2472, 2473, 2474, 2475, 2476, 2477, 2478, 2479, 2480, 2481, 2482, 2483, 2484, 2485, 2486, 2487, 2488, 2489, 2490, 2491, 2492, 2493, 2494, 2495, 2496, 2497, 2498, 2499, 2500, 2501, 2502, 2503, 2504, 2505, 2506, 2507, 2508, 2509, 2510, 2511, 2512, 2513, 2514, 2515, 2516, 2517, 2518, 2519, 2520, 2521, 2522, 2523, 2524, 2525, 2526, 2527, 2528, 2529, 2530, 2531, 2532, 2533, 2534, 2535, 2536, 2537, 2538, 2539, 2540, 2541, 2542, 2543, 2544, 2545, 2546\n"
          ],
          "name": "stdout"
        }
      ]
    },
    {
      "cell_type": "markdown",
      "metadata": {
        "id": "nAIDnWwkYC56",
        "colab_type": "text"
      },
      "source": [
        "While the above excel sheet provides a useful summary at a glance, we would like to have direct access to the distribution of residence times rather than just the mean max and cummulative sum over all lipids. \n",
        "\n",
        "Using the set of all individually measured residence times, we can fit a model distribution. More specifically, the reciporical of residence time would correspond to a frequency. Specifically, the reciporical of residence time gives us the corresponding unbinding frequency. \n",
        "\n",
        "This can then be used to fit an appropriate distribution (geometric distribution would be one choice) and provide a characteristic unbinding frequency (or characteristic residence time as its reciporical). More over, it can give us a bound / confidence interval of this distribution as well.\n",
        "\n",
        "We can then repeat this process for the all atom model. While CG is expected to have shorter residence times due to the notably lower membrane viscocity, we should still be able to see if the ranking and / or relative characteristic residence time / unbinding frequencies match (for each protein amino acid). If CG can rank amino acids in the correct order, based upon PIP2 residence times, then we can be confident that it is functioning well as a model for correctly predicting lipid binding sites.\n",
        "\n",
        "Below, this residence time distribution data can be exctracted from the coarse grain simulation data files which list individual PIP2 residence time observations for each protein residue (amino acid)\n",
        "\n",
        "in the Raw_PIP2_CG_residence_time_data directory, the .xvg files contain\n",
        "the 'occupancy' of each amino acid at each output time step.\n",
        "The occupancy is zero if there were no PIP2 lipids in contact\n",
        "and non-zero if there was at least one PIP2 lipid in contact.\n",
        "The first step is to extract these individual timeseries\n",
        "into a joint table."
      ]
    },
    {
      "cell_type": "code",
      "metadata": {
        "id": "2VRP2XDTYC56",
        "colab_type": "code",
        "colab": {
          "base_uri": "https://localhost:8080/",
          "height": 1000
        },
        "outputId": "a4a477e6-0b6a-4246-dc6f-6a2951a696b9"
      },
      "source": [
        "#os.listdir can be used to generate a list of all xvg files present\n",
        "!cg_RawData_dir=baseDir+'Raw_PIP2_CG_residence_time_data/'\n",
        "cg_RawData_dir=baseDir+'Raw_POPS_data/calc_CG_all_lysArg/'\n",
        "cg_dataFile_list=[dataFileName for dataFileName in os.listdir(cg_RawData_dir) \\\n",
        "             if 'xvg' in dataFileName]\n",
        "cg_dataFile_list"
      ],
      "execution_count": 10,
      "outputs": [
        {
          "output_type": "execute_result",
          "data": {
            "text/plain": [
              "['id_3677_mask.xvg',\n",
              " 'id_1190_mask.xvg',\n",
              " 'id_2857_mask.xvg',\n",
              " 'id_3481_mask.xvg',\n",
              " 'id_3526_mask.xvg',\n",
              " 'id_443_mask.xvg',\n",
              " 'id_3373_mask.xvg',\n",
              " 'id_2619_mask.xvg',\n",
              " 'id_2178_mask.xvg',\n",
              " 'id_3821_mask.xvg',\n",
              " 'id_3123_mask.xvg',\n",
              " 'id_3529_mask.xvg',\n",
              " 'id_2062_mask.xvg',\n",
              " 'id_2195_mask.xvg',\n",
              " 'id_1553_mask.xvg',\n",
              " 'id_913_mask.xvg',\n",
              " 'id_1995_mask.xvg',\n",
              " 'id_3679_mask.xvg',\n",
              " 'id_3022_mask.xvg',\n",
              " 'id_1625_mask.xvg',\n",
              " 'id_985_mask.xvg',\n",
              " 'id_2925_mask.xvg',\n",
              " 'id_3170_mask.xvg',\n",
              " 'id_577_mask.xvg',\n",
              " 'id_15_mask.xvg',\n",
              " 'id_2394_mask.xvg',\n",
              " 'id_1103_mask.xvg',\n",
              " 'id_3349_mask.xvg',\n",
              " 'id_3881_mask.xvg',\n",
              " 'id_420_mask.xvg',\n",
              " 'id_1984_mask.xvg',\n",
              " 'id_4222_mask.xvg',\n",
              " 'id_3322_mask.xvg',\n",
              " 'id_667_mask.xvg',\n",
              " 'id_2475_mask.xvg',\n",
              " 'id_743_mask.xvg',\n",
              " 'id_1668_mask.xvg',\n",
              " 'id_3614_mask.xvg',\n",
              " 'id_976_mask.xvg',\n",
              " 'id_3754_mask.xvg',\n",
              " 'id_2837_mask.xvg',\n",
              " 'id_1501_mask.xvg',\n",
              " 'id_1056_mask.xvg',\n",
              " 'id_3256_mask.xvg',\n",
              " 'id_2742_mask.xvg',\n",
              " 'id_1906_mask.xvg',\n",
              " 'id_559_mask.xvg',\n",
              " 'id_373_mask.xvg',\n",
              " 'id_1540_mask.xvg',\n",
              " 'id_168_mask.xvg',\n",
              " 'id_1051_mask.xvg',\n",
              " 'id_2261_mask.xvg',\n",
              " 'id_1060_mask.xvg',\n",
              " 'id_1224_mask.xvg',\n",
              " 'id_1433_mask.xvg',\n",
              " 'id_912_mask.xvg',\n",
              " 'id_3080_mask.xvg',\n",
              " 'id_2085_mask.xvg',\n",
              " 'id_2919_mask.xvg',\n",
              " 'id_188_mask.xvg',\n",
              " 'id_2521_mask.xvg',\n",
              " 'id_3024_mask.xvg',\n",
              " 'id_565_mask.xvg',\n",
              " 'id_3043_mask.xvg',\n",
              " 'id_2629_mask.xvg',\n",
              " 'id_645_mask.xvg',\n",
              " 'id_22_mask.xvg',\n",
              " 'id_3410_mask.xvg',\n",
              " 'id_813_mask.xvg',\n",
              " 'id_2196_mask.xvg',\n",
              " 'id_30_mask.xvg',\n",
              " 'id_2795_mask.xvg',\n",
              " 'id_1987_mask.xvg',\n",
              " 'id_2035_mask.xvg',\n",
              " 'id_1796_mask.xvg',\n",
              " 'id_1046_mask.xvg',\n",
              " 'id_2878_mask.xvg',\n",
              " 'id_3209_mask.xvg',\n",
              " 'id_1606_mask.xvg',\n",
              " 'id_2585_mask.xvg',\n",
              " 'id_1642_mask.xvg',\n",
              " 'id_3413_mask.xvg',\n",
              " 'id_3939_mask.xvg',\n",
              " 'id_2331_mask.xvg',\n",
              " 'id_1419_mask.xvg',\n",
              " 'id_2464_mask.xvg',\n",
              " 'id_3390_mask.xvg',\n",
              " 'id_569_mask.xvg',\n",
              " 'id_3189_mask.xvg',\n",
              " 'id_3214_mask.xvg',\n",
              " 'id_3922_mask.xvg',\n",
              " 'id_3259_mask.xvg',\n",
              " 'id_2200_mask.xvg',\n",
              " 'id_3579_mask.xvg',\n",
              " 'id_1616_mask.xvg',\n",
              " 'id_644_mask.xvg',\n",
              " 'id_1983_mask.xvg',\n",
              " 'id_1416_mask.xvg',\n",
              " 'id_4033_mask.xvg',\n",
              " 'id_3887_mask.xvg',\n",
              " 'id_4082_mask.xvg',\n",
              " 'id_4009_mask.xvg',\n",
              " 'id_284_mask.xvg',\n",
              " 'id_2472_mask.xvg',\n",
              " 'id_1400_mask.xvg',\n",
              " 'id_1791_mask.xvg',\n",
              " 'id_1841_mask.xvg',\n",
              " 'id_1586_mask.xvg',\n",
              " 'id_2858_mask.xvg',\n",
              " 'id_1173_mask.xvg',\n",
              " 'id_2595_mask.xvg',\n",
              " 'id_610_mask.xvg',\n",
              " 'id_2692_mask.xvg',\n",
              " 'id_693_mask.xvg',\n",
              " 'id_2038_mask.xvg',\n",
              " 'id_3004_mask.xvg',\n",
              " 'id_1324_mask.xvg',\n",
              " 'id_162_mask.xvg',\n",
              " 'id_423_mask.xvg',\n",
              " 'id_2836_mask.xvg',\n",
              " 'id_1086_mask.xvg',\n",
              " 'id_3516_mask.xvg',\n",
              " 'id_1377_mask.xvg',\n",
              " 'id_2330_mask.xvg',\n",
              " 'id_1758_mask.xvg',\n",
              " 'id_984_mask.xvg',\n",
              " 'id_1552_mask.xvg',\n",
              " 'id_3081_mask.xvg',\n",
              " 'id_3475_mask.xvg',\n",
              " 'id_481_mask.xvg',\n",
              " 'id_2388_mask.xvg',\n",
              " 'id_2504_mask.xvg',\n",
              " 'id_2158_mask.xvg',\n",
              " 'id_2336_mask.xvg',\n",
              " 'id_2728_mask.xvg',\n",
              " 'id_1579_mask.xvg',\n",
              " 'id_1660_mask.xvg',\n",
              " 'id_1661_mask.xvg',\n",
              " 'id_3523_mask.xvg',\n",
              " 'id_2591_mask.xvg',\n",
              " 'id_620_mask.xvg',\n",
              " 'id_1507_mask.xvg',\n",
              " 'id_998_mask.xvg',\n",
              " 'id_687_mask.xvg',\n",
              " 'id_800_mask.xvg',\n",
              " 'id_943_mask.xvg',\n",
              " 'id_3324_mask.xvg',\n",
              " 'id_340_mask.xvg',\n",
              " 'id_3576_mask.xvg',\n",
              " 'id_2998_mask.xvg',\n",
              " 'id_2651_mask.xvg',\n",
              " 'id_1585_mask.xvg',\n",
              " 'id_3365_mask.xvg',\n",
              " 'id_3202_mask.xvg',\n",
              " 'id_1439_mask.xvg',\n",
              " 'id_1481_mask.xvg',\n",
              " 'id_2463_mask.xvg',\n",
              " 'id_243_mask.xvg',\n",
              " 'id_782_mask.xvg',\n",
              " 'id_1784_mask.xvg',\n",
              " 'id_3395_mask.xvg',\n",
              " 'id_2108_mask.xvg',\n",
              " 'id_1992_mask.xvg',\n",
              " 'id_1724_mask.xvg',\n",
              " 'id_1997_mask.xvg',\n",
              " 'id_2667_mask.xvg',\n",
              " 'id_122_mask.xvg',\n",
              " 'id_1440_mask.xvg',\n",
              " 'id_2416_mask.xvg',\n",
              " 'id_2769_mask.xvg',\n",
              " 'id_1604_mask.xvg',\n",
              " 'id_4160_mask.xvg',\n",
              " 'id_1861_mask.xvg',\n",
              " 'id_3624_mask.xvg',\n",
              " 'id_1418_mask.xvg',\n",
              " 'id_1899_mask.xvg',\n",
              " 'id_65_mask.xvg',\n",
              " 'id_1977_mask.xvg',\n",
              " 'id_3503_mask.xvg',\n",
              " 'id_2899_mask.xvg',\n",
              " 'id_777_mask.xvg',\n",
              " 'id_2259_mask.xvg',\n",
              " 'id_4013_mask.xvg',\n",
              " 'id_2615_mask.xvg',\n",
              " 'id_1374_mask.xvg',\n",
              " 'id_2105_mask.xvg',\n",
              " 'id_3743_mask.xvg',\n",
              " 'id_2772_mask.xvg',\n",
              " 'id_3133_mask.xvg',\n",
              " 'id_2456_mask.xvg',\n",
              " 'id_548_mask.xvg',\n",
              " 'id_2678_mask.xvg',\n",
              " 'id_2425_mask.xvg',\n",
              " 'id_1278_mask.xvg',\n",
              " 'id_740_mask.xvg',\n",
              " 'id_1233_mask.xvg',\n",
              " 'id_514_mask.xvg',\n",
              " 'id_486_mask.xvg',\n",
              " 'id_3078_mask.xvg',\n",
              " 'id_589_mask.xvg',\n",
              " 'id_1197_mask.xvg',\n",
              " 'id_1406_mask.xvg',\n",
              " 'id_1354_mask.xvg',\n",
              " 'id_3311_mask.xvg',\n",
              " 'id_3630_mask.xvg',\n",
              " 'id_3120_mask.xvg',\n",
              " 'id_1177_mask.xvg',\n",
              " 'id_3453_mask.xvg',\n",
              " 'id_1294_mask.xvg',\n",
              " 'id_3636_mask.xvg',\n",
              " 'id_1057_mask.xvg',\n",
              " 'id_3401_mask.xvg',\n",
              " 'id_2866_mask.xvg',\n",
              " 'id_306_mask.xvg',\n",
              " 'id_2473_mask.xvg',\n",
              " 'id_2403_mask.xvg',\n",
              " 'id_3480_mask.xvg',\n",
              " 'id_2459_mask.xvg',\n",
              " 'id_3446_mask.xvg',\n",
              " 'id_2028_mask.xvg',\n",
              " 'id_1038_mask.xvg',\n",
              " 'id_4037_mask.xvg',\n",
              " 'id_1246_mask.xvg',\n",
              " 'id_2007_mask.xvg',\n",
              " 'id_4187_mask.xvg',\n",
              " 'id_2098_mask.xvg',\n",
              " 'id_2048_mask.xvg',\n",
              " 'id_297_mask.xvg',\n",
              " 'id_907_mask.xvg',\n",
              " 'id_4210_mask.xvg',\n",
              " 'id_2696_mask.xvg',\n",
              " 'id_3749_mask.xvg',\n",
              " 'id_2804_mask.xvg',\n",
              " 'id_3893_mask.xvg',\n",
              " 'id_4110_mask.xvg',\n",
              " 'id_366_mask.xvg',\n",
              " 'id_3896_mask.xvg',\n",
              " 'id_554_mask.xvg',\n",
              " 'id_2290_mask.xvg',\n",
              " 'id_2792_mask.xvg',\n",
              " 'id_3402_mask.xvg',\n",
              " 'id_1715_mask.xvg',\n",
              " 'id_2474_mask.xvg',\n",
              " 'id_1972_mask.xvg',\n",
              " 'id_353_mask.xvg',\n",
              " 'id_1279_mask.xvg',\n",
              " 'id_4096_mask.xvg',\n",
              " 'id_958_mask.xvg',\n",
              " 'id_4249_mask.xvg',\n",
              " 'id_3406_mask.xvg',\n",
              " 'id_760_mask.xvg',\n",
              " 'id_2958_mask.xvg',\n",
              " 'id_570_mask.xvg',\n",
              " 'id_3613_mask.xvg',\n",
              " 'id_2325_mask.xvg',\n",
              " 'id_2111_mask.xvg',\n",
              " 'id_161_mask.xvg',\n",
              " 'id_3350_mask.xvg',\n",
              " 'id_2206_mask.xvg',\n",
              " 'id_3580_mask.xvg',\n",
              " 'id_207_mask.xvg',\n",
              " 'id_1_mask.xvg',\n",
              " 'id_2608_mask.xvg',\n",
              " 'id_1662_mask.xvg',\n",
              " 'id_242_mask.xvg',\n",
              " 'id_2402_mask.xvg',\n",
              " 'id_1007_mask.xvg',\n",
              " 'id_3843_mask.xvg',\n",
              " 'id_89_mask.xvg',\n",
              " 'id_3834_mask.xvg',\n",
              " 'id_3748_mask.xvg',\n",
              " 'id_488_mask.xvg',\n",
              " 'id_134_mask.xvg',\n",
              " 'id_1955_mask.xvg',\n",
              " 'id_4236_mask.xvg',\n",
              " 'id_3317_mask.xvg',\n",
              " 'id_2641_mask.xvg',\n",
              " 'id_4252_mask.xvg',\n",
              " 'id_1041_mask.xvg',\n",
              " 'id_617_mask.xvg',\n",
              " 'id_334_mask.xvg',\n",
              " 'id_395_mask.xvg',\n",
              " 'id_1167_mask.xvg',\n",
              " 'id_4085_mask.xvg',\n",
              " 'id_1055_mask.xvg',\n",
              " 'id_3466_mask.xvg',\n",
              " 'id_378_mask.xvg',\n",
              " 'id_2361_mask.xvg',\n",
              " 'id_529_mask.xvg',\n",
              " 'id_1249_mask.xvg',\n",
              " 'id_2697_mask.xvg',\n",
              " 'id_83_mask.xvg',\n",
              " 'id_2231_mask.xvg',\n",
              " 'id_2057_mask.xvg',\n",
              " 'id_244_mask.xvg',\n",
              " 'id_1702_mask.xvg',\n",
              " 'id_579_mask.xvg',\n",
              " 'id_3142_mask.xvg',\n",
              " 'id_4069_mask.xvg',\n",
              " 'id_1045_mask.xvg',\n",
              " 'id_1580_mask.xvg',\n",
              " 'id_3079_mask.xvg',\n",
              " 'id_1389_mask.xvg',\n",
              " 'id_841_mask.xvg',\n",
              " 'id_4115_mask.xvg',\n",
              " 'id_613_mask.xvg',\n",
              " 'id_832_mask.xvg',\n",
              " 'id_843_mask.xvg',\n",
              " 'id_3882_mask.xvg',\n",
              " 'id_3779_mask.xvg',\n",
              " 'id_537_mask.xvg',\n",
              " 'id_1705_mask.xvg',\n",
              " 'id_1211_mask.xvg',\n",
              " 'id_3618_mask.xvg',\n",
              " 'id_1988_mask.xvg',\n",
              " 'id_186_mask.xvg',\n",
              " 'id_2469_mask.xvg',\n",
              " 'id_42_mask.xvg',\n",
              " 'id_475_mask.xvg',\n",
              " 'id_744_mask.xvg',\n",
              " 'id_572_mask.xvg',\n",
              " 'id_3176_mask.xvg',\n",
              " 'id_778_mask.xvg',\n",
              " 'id_2212_mask.xvg',\n",
              " 'id_1223_mask.xvg',\n",
              " 'id_250_mask.xvg',\n",
              " 'id_4130_mask.xvg',\n",
              " 'id_3425_mask.xvg',\n",
              " 'id_2218_mask.xvg',\n",
              " 'id_2901_mask.xvg',\n",
              " 'id_2031_mask.xvg',\n",
              " 'id_1483_mask.xvg',\n",
              " 'id_3034_mask.xvg',\n",
              " 'id_690_mask.xvg',\n",
              " 'id_4003_mask.xvg',\n",
              " 'id_3060_mask.xvg',\n",
              " 'id_574_mask.xvg',\n",
              " 'id_1904_mask.xvg',\n",
              " 'id_3820_mask.xvg',\n",
              " 'id_630_mask.xvg',\n",
              " 'id_3812_mask.xvg',\n",
              " 'id_2161_mask.xvg',\n",
              " 'id_2997_mask.xvg',\n",
              " 'id_2250_mask.xvg',\n",
              " 'id_3086_mask.xvg',\n",
              " 'id_2831_mask.xvg',\n",
              " 'id_1813_mask.xvg',\n",
              " 'id_4242_mask.xvg',\n",
              " 'id_3408_mask.xvg',\n",
              " 'id_3231_mask.xvg',\n",
              " 'id_4047_mask.xvg',\n",
              " 'id_2818_mask.xvg',\n",
              " 'id_970_mask.xvg',\n",
              " 'id_794_mask.xvg',\n",
              " 'id_4213_mask.xvg',\n",
              " 'id_1413_mask.xvg',\n",
              " 'id_1771_mask.xvg',\n",
              " 'id_198_mask.xvg',\n",
              " 'id_2063_mask.xvg',\n",
              " 'id_63_mask.xvg',\n",
              " 'id_1386_mask.xvg',\n",
              " 'id_21_mask.xvg',\n",
              " 'id_3794_mask.xvg',\n",
              " 'id_3668_mask.xvg',\n",
              " 'id_3596_mask.xvg',\n",
              " 'id_3890_mask.xvg',\n",
              " 'id_1448_mask.xvg',\n",
              " 'id_1931_mask.xvg',\n",
              " 'id_3003_mask.xvg',\n",
              " 'id_135_mask.xvg',\n",
              " 'id_513_mask.xvg',\n",
              " 'id_1274_mask.xvg',\n",
              " 'id_3806_mask.xvg',\n",
              " 'id_3456_mask.xvg',\n",
              " 'id_4114_mask.xvg',\n",
              " 'id_2642_mask.xvg',\n",
              " 'id_245_mask.xvg',\n",
              " 'id_2664_mask.xvg',\n",
              " 'id_4225_mask.xvg',\n",
              " 'id_2807_mask.xvg',\n",
              " 'id_2971_mask.xvg',\n",
              " 'id_3708_mask.xvg',\n",
              " 'id_788_mask.xvg',\n",
              " 'id_167_mask.xvg',\n",
              " 'id_224_mask.xvg',\n",
              " 'id_3877_mask.xvg',\n",
              " 'id_4059_mask.xvg',\n",
              " 'id_3649_mask.xvg',\n",
              " 'id_4026_mask.xvg',\n",
              " 'id_872_mask.xvg',\n",
              " 'id_1947_mask.xvg',\n",
              " 'id_2970_mask.xvg',\n",
              " 'id_680_mask.xvg',\n",
              " 'id_2478_mask.xvg',\n",
              " 'id_2851_mask.xvg',\n",
              " 'id_1663_mask.xvg',\n",
              " 'id_566_mask.xvg',\n",
              " 'id_1260_mask.xvg',\n",
              " 'id_287_mask.xvg',\n",
              " 'id_1351_mask.xvg',\n",
              " 'id_1460_mask.xvg',\n",
              " 'id_2376_mask.xvg',\n",
              " 'id_2162_mask.xvg',\n",
              " 'id_2712_mask.xvg',\n",
              " 'id_1966_mask.xvg',\n",
              " 'id_1752_mask.xvg',\n",
              " 'id_3449_mask.xvg',\n",
              " 'id_918_mask.xvg',\n",
              " 'id_1932_mask.xvg',\n",
              " 'id_1054_mask.xvg',\n",
              " 'id_3892_mask.xvg',\n",
              " 'id_4146_mask.xvg',\n",
              " 'id_3279_mask.xvg',\n",
              " 'id_4254_mask.xvg',\n",
              " 'id_3415_mask.xvg',\n",
              " 'id_3891_mask.xvg',\n",
              " 'id_1201_mask.xvg',\n",
              " 'id_3384_mask.xvg',\n",
              " 'id_639_mask.xvg',\n",
              " 'id_1310_mask.xvg',\n",
              " 'id_4190_mask.xvg',\n",
              " 'id_1893_mask.xvg',\n",
              " 'id_2824_mask.xvg',\n",
              " 'id_1990_mask.xvg',\n",
              " 'id_3874_mask.xvg',\n",
              " 'id_4060_mask.xvg',\n",
              " 'id_2834_mask.xvg',\n",
              " 'id_3405_mask.xvg',\n",
              " 'id_1838_mask.xvg']"
            ]
          },
          "metadata": {
            "tags": []
          },
          "execution_count": 10
        }
      ]
    },
    {
      "cell_type": "code",
      "metadata": {
        "id": "8bNhBT--YC58",
        "colab_type": "code",
        "colab": {
          "base_uri": "https://localhost:8080/",
          "height": 270,
          "referenced_widgets": [
            "8d7e54cb419746a18af867dbb278c217",
            "d9fd821ce7a94c7fa4db6f9bed0e06ba",
            "9cbd2cd400534ec3817268ada430f822",
            "b4f6aea039ca40ac821869ab32bd5f54",
            "fdd1818f92fc42799e7070e1ef7a00da",
            "fa3524d6282749d685edca52b35bf517",
            "568d63307f584edebe95d21e4068aa3e",
            "3539c5728be542c581b7501a93501f53"
          ]
        },
        "outputId": "986c0159-e899-4483-dc7e-fd832f9e639d"
      },
      "source": [
        "#Each of the above files contains an 18 line header, followed by 2 column occupancy series\n",
        "#the data can be easily extracted using pd.read_table\n",
        "cgDataTables=[]\n",
        "for dataFileName in tqdm.tqdm_notebook(cg_dataFile_list):\n",
        "    resID=int(dataFileName.split('_')[1])\n",
        "    seqID=simResid_to_pdbResid[resID-1]\n",
        "    tempTable=pd.read_csv(\n",
        "        cg_RawData_dir+dataFileName,\n",
        "        skiprows=17,names=['Time','Occupancy'],\n",
        "        delim_whitespace=True)\n",
        "    tempTable['ResID']=resID\n",
        "    tempTable['SeqID']=seqID\n",
        "    tempTable['Frame']=np.arange(len(tempTable))\n",
        "    tempTable=tempTable[['ResID','SeqID','Frame','Time','Occupancy']]\n",
        "    cgDataTables.append(copy.deepcopy(tempTable))\n",
        "    \n",
        "cg_occupancy_data=pd.concat(cgDataTables)\n",
        "cg_occupancy_data.to_csv(baseDir+\"Coarse_Grain_POPS_Occupancy_Data.csv\",index=False)\n",
        "print cg_occupancy_data.head()\n",
        "print cg_occupancy_data.tail()"
      ],
      "execution_count": 30,
      "outputs": [
        {
          "output_type": "display_data",
          "data": {
            "application/vnd.jupyter.widget-view+json": {
              "model_id": "8d7e54cb419746a18af867dbb278c217",
              "version_minor": 0,
              "version_major": 2
            },
            "text/plain": [
              "HBox(children=(IntProgress(value=0, max=429), HTML(value=u'')))"
            ]
          },
          "metadata": {
            "tags": []
          }
        },
        {
          "output_type": "stream",
          "text": [
            "\n",
            "   ResID  SeqID  Frame    Time  Occupancy\n",
            "0   3677   1969      0     0.0          0\n",
            "1   3677   1969      1  1000.0          0\n",
            "2   3677   1969      2  2000.0          0\n",
            "3   3677   1969      3  3000.0          0\n",
            "4   3677   1969      4  4000.0          0\n",
            "       ResID  SeqID  Frame        Time  Occupancy\n",
            "11996   1838   1201  11996  11996000.0          0\n",
            "11997   1838   1201  11997  11997000.0          0\n",
            "11998   1838   1201  11998  11998000.0          0\n",
            "11999   1838   1201  11999  11999000.0          0\n",
            "12000   1838   1201  12000  12000000.0          0\n"
          ],
          "name": "stdout"
        }
      ]
    },
    {
      "cell_type": "code",
      "metadata": {
        "id": "EnNwndtBiR0Z",
        "colab_type": "code",
        "colab": {
          "base_uri": "https://localhost:8080/",
          "height": 136
        },
        "outputId": "152bb7e7-23a2-4b63-b04e-d091f131e575"
      },
      "source": [
        "residtmp=pd.DataFrame(cg_occupancy_data.ResID.unique())\n",
        "print residtmp.count()\n",
        "print \"......\"\n",
        "segidtmp=pd.DataFrame(cg_occupancy_data.SeqID.unique())\n",
        "print segidtmp.count()\n",
        "print residtmp.count()/segidtmp.count()\n"
      ],
      "execution_count": 25,
      "outputs": [
        {
          "output_type": "stream",
          "text": [
            "0    429\n",
            "dtype: int64\n",
            "......\n",
            "0    143\n",
            "dtype: int64\n",
            "0    3.0\n",
            "dtype: float64\n"
          ],
          "name": "stdout"
        }
      ]
    },
    {
      "cell_type": "code",
      "metadata": {
        "id": "fzi4R1QsYC59",
        "colab_type": "code",
        "colab": {
          "base_uri": "https://localhost:8080/",
          "height": 34
        },
        "outputId": "563efcde-6fde-4b38-f0ab-1ba423414a4c"
      },
      "source": [
        "#The coarse grain data table is huge, so we need to split it into chunks\n",
        "\n",
        "os.system(\"split -l 100000 \"+\\\n",
        "          baseDir+\"Coarse_Grain_POPS_Occupancy_Data.csv \"+\\\n",
        "          baseDir+\"Raw_POPS_data/Coarse_Grain_POPS_Occupancy_Data.chunk.\")\n",
        "os.system(\"rm \"+baseDir+\"Coarse_Grain_POPS_Occupancy_Data.csv\")"
      ],
      "execution_count": 31,
      "outputs": [
        {
          "output_type": "execute_result",
          "data": {
            "text/plain": [
              "0"
            ]
          },
          "metadata": {
            "tags": []
          },
          "execution_count": 31
        }
      ]
    },
    {
      "cell_type": "markdown",
      "metadata": {
        "id": "AjaLUJ3nYC5_",
        "colab_type": "text"
      },
      "source": [
        "Next, lets collect the occupancy data for the all atom simulation into a single data frame."
      ]
    },
    {
      "cell_type": "code",
      "metadata": {
        "id": "8k4PUEajYC5_",
        "colab_type": "code",
        "colab": {
          "base_uri": "https://localhost:8080/",
          "height": 270,
          "referenced_widgets": [
            "9e143f1cb7b0487fb76e4809d5c5a615",
            "cf00baf4c5d54ecf9b0b709cafd56236",
            "99148622c9454e86b42e00c0b9ec8c5d",
            "2ef25605384045578dad853294ce5993",
            "a8e6e26e2f7549cc9cb1458772846862",
            "d373a8d2e67e40edb73d06c214fe5476",
            "3f2d6b4af8f249a587ff58ae83c18c5d",
            "d2af050652cf45f4936f1f9afcee9097"
          ]
        },
        "outputId": "3d3174e3-7350-40b2-ca58-011509132419"
      },
      "source": [
        "aa_RawData_dir=baseDir+'Raw_POPS_data/calc_aa_190ns_lysArg/'\n",
        "aa_dataFile_list=[dataFileName for dataFileName in os.listdir(aa_RawData_dir) \\\n",
        "             if 'xvg' in dataFileName]\n",
        "aa_dataFile_list\n",
        "\n",
        "#Each of the above files contains an 18 line header, followed by 2 column occupancy series\n",
        "#the data can be easily extracted using pd.read_table\n",
        "aaDataTables=[]\n",
        "for dataFileName in tqdm.tqdm_notebook(aa_dataFile_list):\n",
        "    resID=int(dataFileName.split('_')[1])\n",
        "    seqID=simResid_to_pdbResid[resID-1]\n",
        "    tempTable=pd.read_csv(\n",
        "        aa_RawData_dir+dataFileName,\n",
        "        skiprows=17,names=['Time','Occupancy'],\n",
        "        delim_whitespace=True)\n",
        "    tempTable['ResID']=resID\n",
        "    tempTable['SeqID']=seqID\n",
        "    tempTable['Frame']=np.arange(len(tempTable))\n",
        "    tempTable=tempTable[['ResID','SeqID','Frame','Time','Occupancy']]\n",
        "    aaDataTables.append(copy.deepcopy(tempTable))\n",
        "    \n",
        "aa_occupancy_data=pd.concat(aaDataTables)\n",
        "aa_occupancy_data.to_csv(baseDir+\"All_Atom_POPS_Occupancy_Data.190ns_0.12ns.csv\",index=False)\n",
        "print aa_occupancy_data.head()\n",
        "print aa_occupancy_data.tail()"
      ],
      "execution_count": 47,
      "outputs": [
        {
          "output_type": "display_data",
          "data": {
            "application/vnd.jupyter.widget-view+json": {
              "model_id": "9e143f1cb7b0487fb76e4809d5c5a615",
              "version_minor": 0,
              "version_major": 2
            },
            "text/plain": [
              "HBox(children=(IntProgress(value=0, max=429), HTML(value=u'')))"
            ]
          },
          "metadata": {
            "tags": []
          }
        },
        {
          "output_type": "stream",
          "text": [
            "\n",
            "   ResID  SeqID  Frame  Time  Occupancy\n",
            "0   3677   1969      0   0.0          0\n",
            "1   3677   1969      1   1.0          0\n",
            "2   3677   1969      2   2.0          0\n",
            "3   3677   1969      3   3.0          0\n",
            "4   3677   1969      4   4.0          0\n",
            "      ResID  SeqID  Frame    Time  Occupancy\n",
            "1587   1838   1201   1587  1587.0          1\n",
            "1588   1838   1201   1588  1588.0          1\n",
            "1589   1838   1201   1589  1589.0          1\n",
            "1590   1838   1201   1590  1590.0          1\n",
            "1591   1838   1201   1591  1591.0          1\n"
          ],
          "name": "stdout"
        }
      ]
    },
    {
      "cell_type": "code",
      "metadata": {
        "id": "9G5n_9R-YC6B",
        "colab_type": "code",
        "colab": {
          "base_uri": "https://localhost:8080/",
          "height": 34
        },
        "outputId": "3bcd6d98-5760-4700-95a4-71d177784c26"
      },
      "source": [
        "aa_occupancy_data.Time.max()*0.12"
      ],
      "execution_count": 48,
      "outputs": [
        {
          "output_type": "execute_result",
          "data": {
            "text/plain": [
              "190.92"
            ]
          },
          "metadata": {
            "tags": []
          },
          "execution_count": 48
        }
      ]
    },
    {
      "cell_type": "code",
      "metadata": {
        "id": "5C9Y8p1gYC6C",
        "colab_type": "code",
        "colab": {
          "base_uri": "https://localhost:8080/",
          "height": 153
        },
        "outputId": "bb44ed84-8256-4ad7-a245-29d411d8e700"
      },
      "source": [
        "residtmp=pd.DataFrame(aa_occupancy_data.ResID.unique())\n",
        "print aa_occupancy_data.ResID.count()\n",
        "print residtmp.count()\n",
        "print \"......\"\n",
        "segidtmp=pd.DataFrame(aa_occupancy_data.SeqID.unique())\n",
        "print segidtmp.count()\n",
        "print residtmp.count()/segidtmp.count()"
      ],
      "execution_count": 49,
      "outputs": [
        {
          "output_type": "stream",
          "text": [
            "682968\n",
            "0    429\n",
            "dtype: int64\n",
            "......\n",
            "0    143\n",
            "dtype: int64\n",
            "0    3.0\n",
            "dtype: float64\n"
          ],
          "name": "stdout"
        }
      ]
    },
    {
      "cell_type": "code",
      "metadata": {
        "id": "0dfUMqohqOht",
        "colab_type": "code",
        "colab": {
          "base_uri": "https://localhost:8080/",
          "height": 423,
          "referenced_widgets": [
            "58372c3bc596493fa883f70542bce594",
            "16aee3989da64b359683abb381ef4c9e",
            "5d017ed56c814860a6bc41bf259f32c3",
            "53b87478642741669a7d626638022e86",
            "445ea50e01b94254b878cd122d21e85b",
            "a984bfe89795497781dcf712c2b14c26",
            "ba69eb984ebf437cb41f5d2895f8c5de",
            "95ae64bca773499182f0ee09e0c55931"
          ]
        },
        "outputId": "05dc0080-0979-45ed-91a8-4d106681fae8"
      },
      "source": [
        "aa_RawData_dir=baseDir+'stretch50ns_anton2_68mNm/'\n",
        "aa_dataFile_list=[dataFileName for dataFileName in os.listdir(aa_RawData_dir) \\\n",
        "             if 'xvg' in dataFileName]\n",
        "aa_dataFile_list\n",
        "\n",
        "#Each of the above files contains an 18 line header, followed by 2 column occupancy series\n",
        "#the data can be easily extracted using pd.read_table\n",
        "aaDataTables=[]\n",
        "tempTable=[]\n",
        "aa_occupancy_data=[]\n",
        "for dataFileName in tqdm.tqdm_notebook(aa_dataFile_list):\n",
        "    resID=int(dataFileName.split('_')[1])\n",
        "    seqID=simResid_to_pdbResid[resID-1]\n",
        "    tempTable=pd.read_csv(\n",
        "        aa_RawData_dir+dataFileName,\n",
        "        skiprows=17,names=['Time','Occupancy'],\n",
        "        delim_whitespace=True)\n",
        "    tempTable['ResID']=resID\n",
        "    tempTable['SeqID']=seqID\n",
        "    tempTable['Frame']=np.arange(len(tempTable))\n",
        "    tempTable=tempTable[['ResID','SeqID','Frame','Time','Occupancy']]\n",
        "    aaDataTables.append(copy.deepcopy(tempTable))\n",
        "    \n",
        "aa_occupancy_data=pd.concat(aaDataTables)\n",
        "aa_occupancy_data.to_csv(baseDir+\"All_Atom_PIP2_Occupancy_Data.stretch50ns_0.12ns.csv\",index=False)\n",
        "print aa_occupancy_data.head()\n",
        "print aa_occupancy_data.tail()\n",
        "print aa_occupancy_data.Time.max()*0.12\n",
        "residtmp=pd.DataFrame(aa_occupancy_data.ResID.unique())\n",
        "print aa_occupancy_data.ResID.count()/aa_occupancy_data.Frame.max()\n",
        "print residtmp.count()\n",
        "print \"......\"\n",
        "segidtmp=pd.DataFrame(aa_occupancy_data.SeqID.unique())\n",
        "print segidtmp.count()\n",
        "print residtmp.count()/segidtmp.count()"
      ],
      "execution_count": 51,
      "outputs": [
        {
          "output_type": "display_data",
          "data": {
            "application/vnd.jupyter.widget-view+json": {
              "model_id": "58372c3bc596493fa883f70542bce594",
              "version_minor": 0,
              "version_major": 2
            },
            "text/plain": [
              "HBox(children=(IntProgress(value=0, max=429), HTML(value=u'')))"
            ]
          },
          "metadata": {
            "tags": []
          }
        },
        {
          "output_type": "stream",
          "text": [
            "\n",
            "   ResID  SeqID  Frame  Time  Occupancy\n",
            "0   3677   1969      0   0.0          0\n",
            "1   3677   1969      1   1.0          0\n",
            "2   3677   1969      2   2.0          0\n",
            "3   3677   1969      3   3.0          0\n",
            "4   3677   1969      4   4.0          0\n",
            "     ResID  SeqID  Frame   Time  Occupancy\n",
            "413   1838   1201    413  413.0          0\n",
            "414   1838   1201    414  414.0          0\n",
            "415   1838   1201    415  415.0          0\n",
            "416   1838   1201    416  416.0          0\n",
            "417   1838   1201    417  417.0          0\n",
            "50.04\n",
            "430.0287769784173\n",
            "0    429\n",
            "dtype: int64\n",
            "......\n",
            "0    143\n",
            "dtype: int64\n",
            "0    3.0\n",
            "dtype: float64\n"
          ],
          "name": "stdout"
        }
      ]
    },
    {
      "cell_type": "code",
      "metadata": {
        "id": "NHnGFK0tr8Ml",
        "colab_type": "code",
        "colab": {
          "base_uri": "https://localhost:8080/",
          "height": 423,
          "referenced_widgets": [
            "a0abc690cd0d4702ac58e510bb21258a",
            "1a0c834bc074405694dae4d1b986a290",
            "1114b81eea8c46d0ae1f56afc13dac01",
            "ec6b0f3862564bb78444dfd5e8083cab",
            "8973de3beecd46ed990f7f270ecfb01b",
            "fadd47fb8a7848b488514e68177c8eeb",
            "60cf02639fdf45389404a6da92d44a79",
            "407e938abf3b4910a509b2f8ef85b8b4"
          ]
        },
        "outputId": "4b832139-4362-4f86-d7c7-9f2e084c4f1f"
      },
      "source": [
        "aa_RawData_dir=baseDir+'Raw_PIP2_AA2us_residence_time_data/'\n",
        "aa_dataFile_list=[dataFileName for dataFileName in os.listdir(aa_RawData_dir) \\\n",
        "             if 'xvg' in dataFileName]\n",
        "aa_dataFile_list\n",
        "\n",
        "#Each of the above files contains an 18 line header, followed by 2 column occupancy series\n",
        "#the data can be easily extracted using pd.read_table\n",
        "aaDataTables=[]\n",
        "tempTable=[]\n",
        "aa_occupancy_data=[]\n",
        "for dataFileName in tqdm.tqdm_notebook(aa_dataFile_list):\n",
        "    resID=int(dataFileName.split('_')[1])\n",
        "    seqID=simResid_to_pdbResid[resID-1]\n",
        "    tempTable=pd.read_csv(\n",
        "        aa_RawData_dir+dataFileName,\n",
        "        skiprows=17,names=['Time','Occupancy'],\n",
        "        delim_whitespace=True)\n",
        "    tempTable['ResID']=resID\n",
        "    tempTable['SeqID']=seqID\n",
        "    tempTable['Frame']=np.arange(len(tempTable))\n",
        "    tempTable=tempTable[['ResID','SeqID','Frame','Time','Occupancy']]\n",
        "    aaDataTables.append(copy.deepcopy(tempTable))\n",
        "    \n",
        "aa_occupancy_data=pd.concat(aaDataTables)\n",
        "aa_occupancy_data.to_csv(baseDir+\"All_Atom_PIP2_Occupancy_Data.2us_0.6ns.csv\",index=False)\n",
        "print aa_occupancy_data.head()\n",
        "print aa_occupancy_data.tail()\n",
        "print aa_occupancy_data.Time.max()*0.6\n",
        "residtmp=pd.DataFrame(aa_occupancy_data.ResID.unique())\n",
        "print aa_occupancy_data.ResID.count()/aa_occupancy_data.Frame.max()\n",
        "print residtmp.count()\n",
        "print \"......\"\n",
        "segidtmp=pd.DataFrame(aa_occupancy_data.SeqID.unique())\n",
        "print segidtmp.count()\n",
        "print residtmp.count()/segidtmp.count()"
      ],
      "execution_count": 54,
      "outputs": [
        {
          "output_type": "display_data",
          "data": {
            "application/vnd.jupyter.widget-view+json": {
              "model_id": "a0abc690cd0d4702ac58e510bb21258a",
              "version_minor": 0,
              "version_major": 2
            },
            "text/plain": [
              "HBox(children=(IntProgress(value=0, max=429), HTML(value=u'')))"
            ]
          },
          "metadata": {
            "tags": []
          }
        },
        {
          "output_type": "stream",
          "text": [
            "\n",
            "   ResID  SeqID  Frame  Time  Occupancy\n",
            "0   3677   1969      0   0.0          0\n",
            "1   3677   1969      1   5.0          0\n",
            "2   3677   1969      2  10.0          0\n",
            "3   3677   1969      3  15.0          0\n",
            "4   3677   1969      4  20.0          0\n",
            "      ResID  SeqID  Frame     Time  Occupancy\n",
            "3329   1838   1201   3329  16645.0          0\n",
            "3330   1838   1201   3330  16650.0          0\n",
            "3331   1838   1201   3331  16655.0          0\n",
            "3332   1838   1201   3332  16660.0          0\n",
            "3333   1838   1201   3333  16665.0          0\n",
            "9999.0\n",
            "429\n",
            "0    429\n",
            "dtype: int64\n",
            "......\n",
            "0    143\n",
            "dtype: int64\n",
            "0    3.0\n",
            "dtype: float64\n"
          ],
          "name": "stdout"
        }
      ]
    },
    {
      "cell_type": "code",
      "metadata": {
        "id": "jV4bIkhtsxZa",
        "colab_type": "code",
        "colab": {}
      },
      "source": [
        ""
      ],
      "execution_count": 0,
      "outputs": []
    }
  ]
}